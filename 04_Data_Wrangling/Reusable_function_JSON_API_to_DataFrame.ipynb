{
 "cells": [
  {
   "cell_type": "code",
   "execution_count": null,
   "id": "1dfe458a",
   "metadata": {},
   "outputs": [],
   "source": [
    "import requests\n",
    "import pandas as pd\n",
    "\n",
    "def fetch_api_data_to_df(base_url, params={}, data_key='data', max_pages=None, verbose=False):\n",
    "    \"\"\"\n",
    "    Fetch paginated API data and return a flattened DataFrame.\n",
    "    \n",
    "    Parameters:\n",
    "        base_url (str): Base URL of the API.\n",
    "        params (dict): Additional parameters (e.g., {'per_page': 6}).\n",
    "        data_key (str): Key that contains the main list of data (default 'data').\n",
    "        max_pages (int or None): Max pages to retrieve; None fetches all.\n",
    "        verbose (bool): Print page-by-page status.\n",
    "\n",
    "    Returns:\n",
    "        pd.DataFrame: Combined DataFrame from all pages.\n",
    "    \"\"\"\n",
    "    combined_data = []\n",
    "    page = 1\n",
    "\n",
    "    while True:\n",
    "        params['page'] = page\n",
    "        response = requests.get(base_url, params=params)\n",
    "        response.raise_for_status()  # Raise an error for bad responses\n",
    "        json_data = response.json()\n",
    "\n",
    "        if data_key not in json_data:\n",
    "            raise KeyError(f\"'{data_key}' not found in response JSON.\")\n",
    "\n",
    "        page_data = json_data[data_key]\n",
    "        if verbose:\n",
    "            print(f\"Fetched page {page}: {len(page_data)} records\")\n",
    "\n",
    "        combined_data.extend(page_data)\n",
    "\n",
    "        total_pages = json_data.get('total_pages', 1)\n",
    "        if max_pages is not None:\n",
    "            total_pages = min(total_pages, max_pages)\n",
    "\n",
    "        if page >= total_pages:\n",
    "            break\n",
    "\n",
    "        page += 1\n",
    "\n",
    "    return pd.DataFrame(combined_data)\n"
   ]
  },
  {
   "cell_type": "code",
   "execution_count": null,
   "id": "badecf7d",
   "metadata": {},
   "outputs": [],
   "source": []
  }
 ],
 "metadata": {
  "language_info": {
   "name": "python"
  }
 },
 "nbformat": 4,
 "nbformat_minor": 5
}
