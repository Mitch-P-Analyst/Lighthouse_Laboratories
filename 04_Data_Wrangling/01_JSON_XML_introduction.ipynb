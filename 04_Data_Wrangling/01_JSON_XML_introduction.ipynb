{
 "cells": [
  {
   "cell_type": "markdown",
   "id": "9a3cba58",
   "metadata": {},
   "source": [
    "# JSON & XML\n",
    "\n",
    "## JSON Introduction"
   ]
  },
  {
   "cell_type": "code",
   "execution_count": 40,
   "id": "7e6289cf",
   "metadata": {},
   "outputs": [],
   "source": [
    "import pandas as pd"
   ]
  },
  {
   "cell_type": "markdown",
   "id": "b47b9f59",
   "metadata": {},
   "source": [
    "Pandas has the function, read_json(), that can load JSON either from a file or a url."
   ]
  },
  {
   "cell_type": "code",
   "execution_count": 2,
   "id": "9397720b",
   "metadata": {},
   "outputs": [
    {
     "data": {
      "text/html": [
       "<div>\n",
       "<style scoped>\n",
       "    .dataframe tbody tr th:only-of-type {\n",
       "        vertical-align: middle;\n",
       "    }\n",
       "\n",
       "    .dataframe tbody tr th {\n",
       "        vertical-align: top;\n",
       "    }\n",
       "\n",
       "    .dataframe thead th {\n",
       "        text-align: right;\n",
       "    }\n",
       "</style>\n",
       "<table border=\"1\" class=\"dataframe\">\n",
       "  <thead>\n",
       "    <tr style=\"text-align: right;\">\n",
       "      <th></th>\n",
       "      <th>people</th>\n",
       "      <th>number</th>\n",
       "      <th>message</th>\n",
       "    </tr>\n",
       "  </thead>\n",
       "  <tbody>\n",
       "    <tr>\n",
       "      <th>0</th>\n",
       "      <td>{'craft': 'ISS', 'name': 'Oleg Kononenko'}</td>\n",
       "      <td>12</td>\n",
       "      <td>success</td>\n",
       "    </tr>\n",
       "    <tr>\n",
       "      <th>1</th>\n",
       "      <td>{'craft': 'ISS', 'name': 'Nikolai Chub'}</td>\n",
       "      <td>12</td>\n",
       "      <td>success</td>\n",
       "    </tr>\n",
       "    <tr>\n",
       "      <th>2</th>\n",
       "      <td>{'craft': 'ISS', 'name': 'Tracy Caldwell Dyson'}</td>\n",
       "      <td>12</td>\n",
       "      <td>success</td>\n",
       "    </tr>\n",
       "    <tr>\n",
       "      <th>3</th>\n",
       "      <td>{'craft': 'ISS', 'name': 'Matthew Dominick'}</td>\n",
       "      <td>12</td>\n",
       "      <td>success</td>\n",
       "    </tr>\n",
       "    <tr>\n",
       "      <th>4</th>\n",
       "      <td>{'craft': 'ISS', 'name': 'Michael Barratt'}</td>\n",
       "      <td>12</td>\n",
       "      <td>success</td>\n",
       "    </tr>\n",
       "  </tbody>\n",
       "</table>\n",
       "</div>"
      ],
      "text/plain": [
       "                                             people  number  message\n",
       "0        {'craft': 'ISS', 'name': 'Oleg Kononenko'}      12  success\n",
       "1          {'craft': 'ISS', 'name': 'Nikolai Chub'}      12  success\n",
       "2  {'craft': 'ISS', 'name': 'Tracy Caldwell Dyson'}      12  success\n",
       "3      {'craft': 'ISS', 'name': 'Matthew Dominick'}      12  success\n",
       "4       {'craft': 'ISS', 'name': 'Michael Barratt'}      12  success"
      ]
     },
     "execution_count": 2,
     "metadata": {},
     "output_type": "execute_result"
    }
   ],
   "source": [
    "url = \"http://api.open-notify.org/astros.json\"\n",
    "first_json = pd.read_json(url)\n",
    "first_json.head()"
   ]
  },
  {
   "cell_type": "markdown",
   "id": "755e11dc",
   "metadata": {},
   "source": [
    "Writing the JSON data is as simple as reading and is one line of code. Instead of read_json(), you will use to_json() with a filename and that's all!"
   ]
  },
  {
   "cell_type": "code",
   "execution_count": 3,
   "id": "6e2f2c0d",
   "metadata": {},
   "outputs": [],
   "source": [
    "first_json.to_json('json_columns.json', orient=\"columns\")\n",
    "first_json.to_json('json_index.json', orient=\"index\")"
   ]
  },
  {
   "cell_type": "markdown",
   "id": "d7f251df",
   "metadata": {},
   "source": [
    "read_json() and to_json() works only with simple JSON. All arrays inside need to have arrays of same length."
   ]
  },
  {
   "cell_type": "code",
   "execution_count": null,
   "id": "5e0eab31",
   "metadata": {},
   "outputs": [],
   "source": [
    "df = pd.read_json(\"nested.json\")"
   ]
  },
  {
   "cell_type": "markdown",
   "id": "cf0db7f6",
   "metadata": {},
   "source": [
    "We can see that it doesn't work. Fortunately, we have another method. This is not a Pandas function but the method from package JSON which comes with core Python."
   ]
  },
  {
   "cell_type": "code",
   "execution_count": 4,
   "id": "c8d70de4",
   "metadata": {},
   "outputs": [
    {
     "name": "stdout",
     "output_type": "stream",
     "text": [
      "{'article': [{'id': '01', 'language': 'JSON', 'edition': 'first', 'author': 'Allen'}, {'id': '02', 'language': 'Python', 'edition': 'second', 'author': 'Aditya Sharma'}], 'blog': [{'name': 'Datacamp', 'URL': 'datacamp.com'}]}\n",
      "<class 'dict'>\n"
     ]
    }
   ],
   "source": [
    "import json\n",
    "#load json object\n",
    "with open('nested.json') as f:\n",
    "    nested_json = json.load(f)\n",
    "print(nested_json)\n",
    "print(type(nested_json))"
   ]
  },
  {
   "cell_type": "markdown",
   "id": "70577723",
   "metadata": {},
   "source": [
    "**We can use package pprint for pretty printing dictionaries. This makes the human-parsing of json requests much easier to understand.**\n",
    "\n",
    "We will use a function from Pandas json_normalize()\n",
    "\n",
    "json_normalize() has 3 main parameters:\n",
    "\n",
    "- data \n",
    "    - input data\n",
    "- record_path \n",
    "    - nested elements\n",
    "- meta \n",
    "    - let them as they are elements\n",
    "\n",
    "Limitation\n",
    " - We can only use json_normalize() if it makes logical sense within the file. To normalize, the entire dictionary structure must be consistent. "
   ]
  },
  {
   "cell_type": "code",
   "execution_count": 5,
   "id": "3e71d2ad",
   "metadata": {},
   "outputs": [
    {
     "data": {
      "text/html": [
       "<div>\n",
       "<style scoped>\n",
       "    .dataframe tbody tr th:only-of-type {\n",
       "        vertical-align: middle;\n",
       "    }\n",
       "\n",
       "    .dataframe tbody tr th {\n",
       "        vertical-align: top;\n",
       "    }\n",
       "\n",
       "    .dataframe thead th {\n",
       "        text-align: right;\n",
       "    }\n",
       "</style>\n",
       "<table border=\"1\" class=\"dataframe\">\n",
       "  <thead>\n",
       "    <tr style=\"text-align: right;\">\n",
       "      <th></th>\n",
       "      <th>article</th>\n",
       "      <th>blog</th>\n",
       "    </tr>\n",
       "  </thead>\n",
       "  <tbody>\n",
       "    <tr>\n",
       "      <th>0</th>\n",
       "      <td>[{'id': '01', 'language': 'JSON', 'edition': '...</td>\n",
       "      <td>[{'name': 'Datacamp', 'URL': 'datacamp.com'}]</td>\n",
       "    </tr>\n",
       "  </tbody>\n",
       "</table>\n",
       "</div>"
      ],
      "text/plain": [
       "                                             article  \\\n",
       "0  [{'id': '01', 'language': 'JSON', 'edition': '...   \n",
       "\n",
       "                                            blog  \n",
       "0  [{'name': 'Datacamp', 'URL': 'datacamp.com'}]  "
      ]
     },
     "execution_count": 5,
     "metadata": {},
     "output_type": "execute_result"
    }
   ],
   "source": [
    "pd.json_normalize(nested_json)"
   ]
  },
  {
   "cell_type": "markdown",
   "id": "76cbcfba",
   "metadata": {},
   "source": [
    "We are going to add a parameter record_path to json_normalize to put a focus on a specific key from the file:"
   ]
  },
  {
   "cell_type": "code",
   "execution_count": 6,
   "id": "d8fa3658",
   "metadata": {},
   "outputs": [
    {
     "data": {
      "text/html": [
       "<div>\n",
       "<style scoped>\n",
       "    .dataframe tbody tr th:only-of-type {\n",
       "        vertical-align: middle;\n",
       "    }\n",
       "\n",
       "    .dataframe tbody tr th {\n",
       "        vertical-align: top;\n",
       "    }\n",
       "\n",
       "    .dataframe thead th {\n",
       "        text-align: right;\n",
       "    }\n",
       "</style>\n",
       "<table border=\"1\" class=\"dataframe\">\n",
       "  <thead>\n",
       "    <tr style=\"text-align: right;\">\n",
       "      <th></th>\n",
       "      <th>name</th>\n",
       "      <th>URL</th>\n",
       "    </tr>\n",
       "  </thead>\n",
       "  <tbody>\n",
       "    <tr>\n",
       "      <th>0</th>\n",
       "      <td>Datacamp</td>\n",
       "      <td>datacamp.com</td>\n",
       "    </tr>\n",
       "  </tbody>\n",
       "</table>\n",
       "</div>"
      ],
      "text/plain": [
       "       name           URL\n",
       "0  Datacamp  datacamp.com"
      ]
     },
     "execution_count": 6,
     "metadata": {},
     "output_type": "execute_result"
    }
   ],
   "source": [
    "blog = pd.json_normalize(nested_json,record_path ='blog')\n",
    "blog.head()"
   ]
  },
  {
   "cell_type": "code",
   "execution_count": 7,
   "id": "49eebd72",
   "metadata": {},
   "outputs": [
    {
     "data": {
      "text/html": [
       "<div>\n",
       "<style scoped>\n",
       "    .dataframe tbody tr th:only-of-type {\n",
       "        vertical-align: middle;\n",
       "    }\n",
       "\n",
       "    .dataframe tbody tr th {\n",
       "        vertical-align: top;\n",
       "    }\n",
       "\n",
       "    .dataframe thead th {\n",
       "        text-align: right;\n",
       "    }\n",
       "</style>\n",
       "<table border=\"1\" class=\"dataframe\">\n",
       "  <thead>\n",
       "    <tr style=\"text-align: right;\">\n",
       "      <th></th>\n",
       "      <th>id</th>\n",
       "      <th>language</th>\n",
       "      <th>edition</th>\n",
       "      <th>author</th>\n",
       "    </tr>\n",
       "  </thead>\n",
       "  <tbody>\n",
       "    <tr>\n",
       "      <th>0</th>\n",
       "      <td>01</td>\n",
       "      <td>JSON</td>\n",
       "      <td>first</td>\n",
       "      <td>Allen</td>\n",
       "    </tr>\n",
       "    <tr>\n",
       "      <th>1</th>\n",
       "      <td>02</td>\n",
       "      <td>Python</td>\n",
       "      <td>second</td>\n",
       "      <td>Aditya Sharma</td>\n",
       "    </tr>\n",
       "  </tbody>\n",
       "</table>\n",
       "</div>"
      ],
      "text/plain": [
       "   id language edition         author\n",
       "0  01     JSON   first          Allen\n",
       "1  02   Python  second  Aditya Sharma"
      ]
     },
     "execution_count": 7,
     "metadata": {},
     "output_type": "execute_result"
    }
   ],
   "source": [
    "article = pd.json_normalize(nested_json,record_path ='article')\n",
    "article.head()"
   ]
  },
  {
   "cell_type": "markdown",
   "id": "72fbff82",
   "metadata": {},
   "source": [
    "Additional JSON practice"
   ]
  },
  {
   "cell_type": "code",
   "execution_count": 10,
   "id": "8e0bc210",
   "metadata": {},
   "outputs": [],
   "source": [
    "data = [{\"state\": \"Florida\", \n",
    "        \"shortname\": \"FL\",\n",
    "        \"info\": {\"governor\": \"Rick Scott\"},\n",
    "        \"counties\": [{\"name\": \"Dade\", \"population\": 12345},\n",
    "                     {\"name\": \"Broward\", \"population\": 40000},\n",
    "                     {\"name\": \"Palm Beach\", \"population\": 60000}]},\n",
    "       {\"state\": \"Ohio\",\n",
    "        \"shortname\": \"OH\",\n",
    "        \"info\": {\"governor\": \"John Kasich\"},\n",
    "        \"counties\": [{\"name\": \"Summit\", \"population\": 1234},\n",
    "                     {\"name\": \"Cuyahoga\", \"population\": 1337}]}]"
   ]
  },
  {
   "cell_type": "code",
   "execution_count": 15,
   "id": "624f64b6",
   "metadata": {},
   "outputs": [
    {
     "data": {
      "text/html": [
       "<div>\n",
       "<style scoped>\n",
       "    .dataframe tbody tr th:only-of-type {\n",
       "        vertical-align: middle;\n",
       "    }\n",
       "\n",
       "    .dataframe tbody tr th {\n",
       "        vertical-align: top;\n",
       "    }\n",
       "\n",
       "    .dataframe thead th {\n",
       "        text-align: right;\n",
       "    }\n",
       "</style>\n",
       "<table border=\"1\" class=\"dataframe\">\n",
       "  <thead>\n",
       "    <tr style=\"text-align: right;\">\n",
       "      <th></th>\n",
       "      <th>name</th>\n",
       "      <th>population</th>\n",
       "      <th>state</th>\n",
       "      <th>shortname</th>\n",
       "      <th>info.governor</th>\n",
       "    </tr>\n",
       "  </thead>\n",
       "  <tbody>\n",
       "    <tr>\n",
       "      <th>0</th>\n",
       "      <td>Dade</td>\n",
       "      <td>12345</td>\n",
       "      <td>Florida</td>\n",
       "      <td>FL</td>\n",
       "      <td>Rick Scott</td>\n",
       "    </tr>\n",
       "    <tr>\n",
       "      <th>1</th>\n",
       "      <td>Broward</td>\n",
       "      <td>40000</td>\n",
       "      <td>Florida</td>\n",
       "      <td>FL</td>\n",
       "      <td>Rick Scott</td>\n",
       "    </tr>\n",
       "    <tr>\n",
       "      <th>2</th>\n",
       "      <td>Palm Beach</td>\n",
       "      <td>60000</td>\n",
       "      <td>Florida</td>\n",
       "      <td>FL</td>\n",
       "      <td>Rick Scott</td>\n",
       "    </tr>\n",
       "    <tr>\n",
       "      <th>3</th>\n",
       "      <td>Summit</td>\n",
       "      <td>1234</td>\n",
       "      <td>Ohio</td>\n",
       "      <td>OH</td>\n",
       "      <td>John Kasich</td>\n",
       "    </tr>\n",
       "    <tr>\n",
       "      <th>4</th>\n",
       "      <td>Cuyahoga</td>\n",
       "      <td>1337</td>\n",
       "      <td>Ohio</td>\n",
       "      <td>OH</td>\n",
       "      <td>John Kasich</td>\n",
       "    </tr>\n",
       "  </tbody>\n",
       "</table>\n",
       "</div>"
      ],
      "text/plain": [
       "         name  population    state shortname info.governor\n",
       "0        Dade       12345  Florida        FL    Rick Scott\n",
       "1     Broward       40000  Florida        FL    Rick Scott\n",
       "2  Palm Beach       60000  Florida        FL    Rick Scott\n",
       "3      Summit        1234     Ohio        OH   John Kasich\n",
       "4    Cuyahoga        1337     Ohio        OH   John Kasich"
      ]
     },
     "execution_count": 15,
     "metadata": {},
     "output_type": "execute_result"
    }
   ],
   "source": [
    "# pd.json_normalize(data)\n",
    "pd.json_normalize(data=data, record_path='counties', meta=['state', 'shortname', ['info', 'governor']])"
   ]
  },
  {
   "cell_type": "markdown",
   "id": "fa1e037f",
   "metadata": {},
   "source": [
    "### Interesting\n",
    "\n",
    "Review the above pd.json_normalize() function, how the recordpath and meta helped construct a successful pandas DataFrame"
   ]
  },
  {
   "cell_type": "markdown",
   "id": "c19ad98c",
   "metadata": {},
   "source": [
    "## More JSON\n",
    "\n",
    "continue developing our AI Literacy skills! We'll use AI tools to help learn about the structure of a JSON response.\n",
    "\n",
    "How to convert JSON response from an API to a DataFrame"
   ]
  },
  {
   "cell_type": "code",
   "execution_count": 15,
   "id": "28461310",
   "metadata": {},
   "outputs": [],
   "source": [
    "import requests\n",
    "import pandas as pd\n",
    "from pprint import pprint # this will display the data in a structured, more readable manner\n",
    "\n",
    "params = {\"page\": 1}\n",
    "response = requests.get(\"https://reqres.in/api/users\", params=params)\n",
    "\n",
    "data = response.json()"
   ]
  },
  {
   "cell_type": "code",
   "execution_count": 9,
   "id": "3c815594",
   "metadata": {},
   "outputs": [
    {
     "name": "stdout",
     "output_type": "stream",
     "text": [
      "{'page': 1, 'per_page': 6, 'total': 12, 'total_pages': 2, 'data': [{'id': 1, 'email': 'george.bluth@reqres.in', 'first_name': 'George', 'last_name': 'Bluth', 'avatar': 'https://reqres.in/img/faces/1-image.jpg'}, {'id': 2, 'email': 'janet.weaver@reqres.in', 'first_name': 'Janet', 'last_name': 'Weaver', 'avatar': 'https://reqres.in/img/faces/2-image.jpg'}, {'id': 3, 'email': 'emma.wong@reqres.in', 'first_name': 'Emma', 'last_name': 'Wong', 'avatar': 'https://reqres.in/img/faces/3-image.jpg'}, {'id': 4, 'email': 'eve.holt@reqres.in', 'first_name': 'Eve', 'last_name': 'Holt', 'avatar': 'https://reqres.in/img/faces/4-image.jpg'}, {'id': 5, 'email': 'charles.morris@reqres.in', 'first_name': 'Charles', 'last_name': 'Morris', 'avatar': 'https://reqres.in/img/faces/5-image.jpg'}, {'id': 6, 'email': 'tracey.ramos@reqres.in', 'first_name': 'Tracey', 'last_name': 'Ramos', 'avatar': 'https://reqres.in/img/faces/6-image.jpg'}], 'support': {'url': 'https://contentcaddy.io?utm_source=reqres&utm_medium=json&utm_campaign=referral', 'text': 'Tired of writing endless social media content? Let Content Caddy generate it for you.'}} \n",
      "\n",
      "{'data': [{'avatar': 'https://reqres.in/img/faces/1-image.jpg',\n",
      "           'email': 'george.bluth@reqres.in',\n",
      "           'first_name': 'George',\n",
      "           'id': 1,\n",
      "           'last_name': 'Bluth'},\n",
      "          {'avatar': 'https://reqres.in/img/faces/2-image.jpg',\n",
      "           'email': 'janet.weaver@reqres.in',\n",
      "           'first_name': 'Janet',\n",
      "           'id': 2,\n",
      "           'last_name': 'Weaver'},\n",
      "          {'avatar': 'https://reqres.in/img/faces/3-image.jpg',\n",
      "           'email': 'emma.wong@reqres.in',\n",
      "           'first_name': 'Emma',\n",
      "           'id': 3,\n",
      "           'last_name': 'Wong'},\n",
      "          {'avatar': 'https://reqres.in/img/faces/4-image.jpg',\n",
      "           'email': 'eve.holt@reqres.in',\n",
      "           'first_name': 'Eve',\n",
      "           'id': 4,\n",
      "           'last_name': 'Holt'},\n",
      "          {'avatar': 'https://reqres.in/img/faces/5-image.jpg',\n",
      "           'email': 'charles.morris@reqres.in',\n",
      "           'first_name': 'Charles',\n",
      "           'id': 5,\n",
      "           'last_name': 'Morris'},\n",
      "          {'avatar': 'https://reqres.in/img/faces/6-image.jpg',\n",
      "           'email': 'tracey.ramos@reqres.in',\n",
      "           'first_name': 'Tracey',\n",
      "           'id': 6,\n",
      "           'last_name': 'Ramos'}],\n",
      " 'page': 1,\n",
      " 'per_page': 6,\n",
      " 'support': {'text': 'Tired of writing endless social media content? Let '\n",
      "                     'Content Caddy generate it for you.',\n",
      "             'url': 'https://contentcaddy.io?utm_source=reqres&utm_medium=json&utm_campaign=referral'},\n",
      " 'total': 12,\n",
      " 'total_pages': 2}\n"
     ]
    }
   ],
   "source": [
    "# Run these two cells and compare how the output is displayed\n",
    "\n",
    "print(data, \"\\n\")\n",
    "pprint(data)"
   ]
  },
  {
   "cell_type": "markdown",
   "id": "0389d9df",
   "metadata": {},
   "source": [
    "Use ChatGPT to answer the following questions:\n",
    "\n",
    "- When I access the JSON method of the response, what form is the data in when I'm using Python?\n",
    "\n",
    "    - The .json() method parses the response body as JSON and returns it as native Python data structures, usually:\n",
    "        - dict for the top-level object\n",
    "        - list for arrays\n",
    "        - strings, ints, floats, booleans, or None for other values\n",
    "\n",
    "\n",
    "- What is the dictionary structure of this response? \n",
    "\n",
    "    - it's a dictionary with metadata + a list of user data + a support object.\n",
    "\n",
    "\n",
    "- What are some strategies for parsing JSON responses data to dataframes?\n",
    "\n",
    "    - You typically want to extract the list under the 'data' key and convert that to a pandas DataFrame."
   ]
  },
  {
   "cell_type": "code",
   "execution_count": 7,
   "id": "c5a777d2",
   "metadata": {},
   "outputs": [
    {
     "data": {
      "text/html": [
       "<div>\n",
       "<style scoped>\n",
       "    .dataframe tbody tr th:only-of-type {\n",
       "        vertical-align: middle;\n",
       "    }\n",
       "\n",
       "    .dataframe tbody tr th {\n",
       "        vertical-align: top;\n",
       "    }\n",
       "\n",
       "    .dataframe thead th {\n",
       "        text-align: right;\n",
       "    }\n",
       "</style>\n",
       "<table border=\"1\" class=\"dataframe\">\n",
       "  <thead>\n",
       "    <tr style=\"text-align: right;\">\n",
       "      <th></th>\n",
       "      <th>id</th>\n",
       "      <th>email</th>\n",
       "      <th>first_name</th>\n",
       "      <th>last_name</th>\n",
       "      <th>avatar</th>\n",
       "    </tr>\n",
       "  </thead>\n",
       "  <tbody>\n",
       "    <tr>\n",
       "      <th>0</th>\n",
       "      <td>1</td>\n",
       "      <td>george.bluth@reqres.in</td>\n",
       "      <td>George</td>\n",
       "      <td>Bluth</td>\n",
       "      <td>https://reqres.in/img/faces/1-image.jpg</td>\n",
       "    </tr>\n",
       "    <tr>\n",
       "      <th>1</th>\n",
       "      <td>2</td>\n",
       "      <td>janet.weaver@reqres.in</td>\n",
       "      <td>Janet</td>\n",
       "      <td>Weaver</td>\n",
       "      <td>https://reqres.in/img/faces/2-image.jpg</td>\n",
       "    </tr>\n",
       "    <tr>\n",
       "      <th>2</th>\n",
       "      <td>3</td>\n",
       "      <td>emma.wong@reqres.in</td>\n",
       "      <td>Emma</td>\n",
       "      <td>Wong</td>\n",
       "      <td>https://reqres.in/img/faces/3-image.jpg</td>\n",
       "    </tr>\n",
       "    <tr>\n",
       "      <th>3</th>\n",
       "      <td>4</td>\n",
       "      <td>eve.holt@reqres.in</td>\n",
       "      <td>Eve</td>\n",
       "      <td>Holt</td>\n",
       "      <td>https://reqres.in/img/faces/4-image.jpg</td>\n",
       "    </tr>\n",
       "    <tr>\n",
       "      <th>4</th>\n",
       "      <td>5</td>\n",
       "      <td>charles.morris@reqres.in</td>\n",
       "      <td>Charles</td>\n",
       "      <td>Morris</td>\n",
       "      <td>https://reqres.in/img/faces/5-image.jpg</td>\n",
       "    </tr>\n",
       "    <tr>\n",
       "      <th>5</th>\n",
       "      <td>6</td>\n",
       "      <td>tracey.ramos@reqres.in</td>\n",
       "      <td>Tracey</td>\n",
       "      <td>Ramos</td>\n",
       "      <td>https://reqres.in/img/faces/6-image.jpg</td>\n",
       "    </tr>\n",
       "  </tbody>\n",
       "</table>\n",
       "</div>"
      ],
      "text/plain": [
       "   id                     email first_name last_name  \\\n",
       "0   1    george.bluth@reqres.in     George     Bluth   \n",
       "1   2    janet.weaver@reqres.in      Janet    Weaver   \n",
       "2   3       emma.wong@reqres.in       Emma      Wong   \n",
       "3   4        eve.holt@reqres.in        Eve      Holt   \n",
       "4   5  charles.morris@reqres.in    Charles    Morris   \n",
       "5   6    tracey.ramos@reqres.in     Tracey     Ramos   \n",
       "\n",
       "                                    avatar  \n",
       "0  https://reqres.in/img/faces/1-image.jpg  \n",
       "1  https://reqres.in/img/faces/2-image.jpg  \n",
       "2  https://reqres.in/img/faces/3-image.jpg  \n",
       "3  https://reqres.in/img/faces/4-image.jpg  \n",
       "4  https://reqres.in/img/faces/5-image.jpg  \n",
       "5  https://reqres.in/img/faces/6-image.jpg  "
      ]
     },
     "execution_count": 7,
     "metadata": {},
     "output_type": "execute_result"
    }
   ],
   "source": [
    "import pandas as pd\n",
    "\n",
    "df = pd.DataFrame(data['data'])\n",
    "df"
   ]
  },
  {
   "cell_type": "markdown",
   "id": "0cceb747",
   "metadata": {},
   "source": [
    "Additional bonus strategies to disect and interpret API JSON\n",
    "\n"
   ]
  },
  {
   "cell_type": "code",
   "execution_count": 11,
   "id": "862fe745",
   "metadata": {},
   "outputs": [
    {
     "name": "stdout",
     "output_type": "stream",
     "text": [
      "{\n",
      "    \"page\": 1,\n",
      "    \"per_page\": 6,\n",
      "    \"total\": 12,\n",
      "    \"total_pages\": 2,\n",
      "    \"data\": [\n",
      "        {\n",
      "            \"id\": 1,\n",
      "            \"email\": \"george.bluth@reqres.in\",\n",
      "            \"first_name\": \"George\",\n",
      "            \"last_name\": \"Bluth\",\n",
      "            \"avatar\": \"https://reqres.in/img/faces/1-image.jpg\"\n",
      "        },\n",
      "        {\n",
      "            \"id\": 2,\n",
      "            \"email\": \"janet.weaver@reqres.in\",\n",
      "            \"first_name\": \"Janet\",\n",
      "            \"last_name\": \"Weaver\",\n",
      "            \"avatar\": \"https://reqres.in/img/faces/2-image.jpg\"\n",
      "        },\n",
      "        {\n",
      "            \"id\": 3,\n",
      "            \"email\": \"emma.wong@reqres.in\",\n",
      "            \"first_name\": \"Emma\",\n",
      "            \"last_name\": \"Wong\",\n",
      "            \"avatar\": \"https://reqres.in/img/faces/3-image.jpg\"\n",
      "        },\n",
      "        {\n",
      "            \"id\": 4,\n",
      "            \"email\": \"eve.holt@reqres.in\",\n",
      "            \"first_name\": \"Eve\",\n",
      "            \"last_name\": \"Holt\",\n",
      "            \"avatar\": \"https://reqres.in/img/faces/4-image.jpg\"\n",
      "        },\n",
      "        {\n",
      "            \"id\": 5,\n",
      "            \"email\": \"charles.morris@reqres.in\",\n",
      "            \"first_name\": \"Charles\",\n",
      "            \"last_name\": \"Morris\",\n",
      "            \"avatar\": \"https://reqres.in/img/faces/5-image.jpg\"\n",
      "        },\n",
      "        {\n",
      "            \"id\": 6,\n",
      "            \"email\": \"tracey.ramos@reqres.in\",\n",
      "            \"first_name\": \"Tracey\",\n",
      "            \"last_name\": \"Ramos\",\n",
      "            \"avatar\": \"https://reqres.in/img/faces/6-image.jpg\"\n",
      "        }\n",
      "    ],\n",
      "    \"support\": {\n",
      "        \"url\": \"https://contentcaddy.io?utm_source=reqres&utm_medium=json&utm_campaign=referral\",\n",
      "        \"text\": \"Tired of writing endless social media content? Let Content Caddy generate it for you.\"\n",
      "    }\n",
      "}\n"
     ]
    }
   ],
   "source": [
    "# - View JSON Hierarchy\n",
    "\n",
    "import json\n",
    "print(json.dumps(data, indent=4))  # Pretty print"
   ]
  },
  {
   "cell_type": "code",
   "execution_count": 13,
   "id": "476fd900",
   "metadata": {},
   "outputs": [
    {
     "data": {
      "text/plain": [
       "'george.bluth@reqres.in'"
      ]
     },
     "execution_count": 13,
     "metadata": {},
     "output_type": "execute_result"
    }
   ],
   "source": [
    "# Access individual values:\n",
    "\n",
    "first_email = data['data'][0]['email']\n",
    "\n",
    "first_email\n"
   ]
  },
  {
   "cell_type": "markdown",
   "id": "4db14325",
   "metadata": {},
   "source": [
    "Now, requesting a method from ChatGPT to manually extract the JSON from the above JSON file"
   ]
  },
  {
   "cell_type": "code",
   "execution_count": 23,
   "id": "14ba14ca",
   "metadata": {},
   "outputs": [
    {
     "data": {
      "text/plain": [
       "['George Bluth',\n",
       " 'Janet Weaver',\n",
       " 'Emma Wong',\n",
       " 'Eve Holt',\n",
       " 'Charles Morris',\n",
       " 'Tracey Ramos']"
      ]
     },
     "execution_count": 23,
     "metadata": {},
     "output_type": "execute_result"
    }
   ],
   "source": [
    "# Access the 'data' key\n",
    "users = data['data']\n",
    "\n",
    "# Extract into separate lists\n",
    "ids = []\n",
    "emails = []\n",
    "full_names = []\n",
    "avatars = []\n",
    "\n",
    "for user in users:\n",
    "    ids.append(user['id'])\n",
    "    emails.append(user['email'])\n",
    "    full_names.append(f\"{user['first_name']} {user['last_name']}\")\n",
    "    avatars.append(user['avatar'])\n",
    "\n",
    "\n",
    "# Access the 'data' key\n",
    "users = data['data']\n",
    "\n",
    "# Extract into separate lists\n",
    "ids = []\n",
    "emails = []\n",
    "full_names = []\n",
    "avatars = []\n",
    "\n",
    "for user in users:\n",
    "    ids.append(user['id'])\n",
    "    emails.append(user['email'])\n",
    "    full_names.append(f\"{user['first_name']} {user['last_name']}\")\n",
    "    avatars.append(user['avatar'])\n",
    "\n",
    "full_names"
   ]
  },
  {
   "cell_type": "markdown",
   "id": "4048605b",
   "metadata": {},
   "source": []
  },
  {
   "cell_type": "markdown",
   "id": "01dcc605",
   "metadata": {},
   "source": [
    "# XML"
   ]
  },
  {
   "cell_type": "markdown",
   "id": "b6251fc5",
   "metadata": {},
   "source": [
    "Everything about XML in Python is done with package xml."
   ]
  },
  {
   "cell_type": "code",
   "execution_count": 1,
   "id": "2c91a0dd",
   "metadata": {},
   "outputs": [],
   "source": [
    "import xml.etree.ElementTree as ET"
   ]
  },
  {
   "cell_type": "code",
   "execution_count": 7,
   "id": "e0595723",
   "metadata": {},
   "outputs": [],
   "source": [
    "tree = ET.parse('/Users/mitchellpalmer/Projects/Lighthouse Lab Projects/JSON_XML/Data/data.xml')"
   ]
  },
  {
   "cell_type": "code",
   "execution_count": 8,
   "id": "416d3421",
   "metadata": {},
   "outputs": [
    {
     "name": "stdout",
     "output_type": "stream",
     "text": [
      "<class 'xml.etree.ElementTree.ElementTree'>\n"
     ]
    }
   ],
   "source": [
    "print(type(tree))"
   ]
  },
  {
   "cell_type": "markdown",
   "id": "a352697f",
   "metadata": {},
   "source": [
    "To get the main (root) tag of the file, we can call function getroot().\n",
    "\n",
    "Then check it tag, attributes and length"
   ]
  },
  {
   "cell_type": "code",
   "execution_count": 10,
   "id": "37954a14",
   "metadata": {},
   "outputs": [
    {
     "data": {
      "text/plain": [
       "<Element 'data' at 0x1073690d0>"
      ]
     },
     "execution_count": 10,
     "metadata": {},
     "output_type": "execute_result"
    }
   ],
   "source": [
    "root = tree.getroot()\n",
    "root"
   ]
  },
  {
   "cell_type": "code",
   "execution_count": 11,
   "id": "f00cfb03",
   "metadata": {},
   "outputs": [
    {
     "name": "stdout",
     "output_type": "stream",
     "text": [
      "data\n",
      "{}\n",
      "3\n"
     ]
    }
   ],
   "source": [
    "print(root.tag)\n",
    "print(root.attrib)\n",
    "print(len(root))"
   ]
  },
  {
   "cell_type": "markdown",
   "id": "88c14a73",
   "metadata": {},
   "source": [
    "length of this element is 3. This means that it has 3 children. We can access these children the same way as elements in a list."
   ]
  },
  {
   "cell_type": "code",
   "execution_count": 12,
   "id": "d6d6916a",
   "metadata": {},
   "outputs": [
    {
     "name": "stdout",
     "output_type": "stream",
     "text": [
      "rank\n",
      "1\n",
      "{'name': 'Switzerland', 'direction': 'W'}\n"
     ]
    }
   ],
   "source": [
    "# First child of the root\n",
    "country1 = root[0]\n",
    "# First child of the child\n",
    "rank = country1[0]\n",
    "# What is the tag of the grandchild\n",
    "print(rank.tag)\n",
    "# What is the text inside this grandchild\n",
    "print(rank.text)\n",
    "# What are the attributes of last element?\n",
    "print(country1[4].attrib)"
   ]
  },
  {
   "cell_type": "code",
   "execution_count": 15,
   "id": "8c40fddf",
   "metadata": {},
   "outputs": [
    {
     "name": "stdout",
     "output_type": "stream",
     "text": [
      "rank\n",
      "68\n",
      "{'name': 'Colombia', 'direction': 'E'}\n"
     ]
    }
   ],
   "source": [
    "# same information about the third child of the root.\n",
    "\n",
    "country3 = root[2]\n",
    "rank3 = country3[0]\n",
    "print(rank3.tag)\n",
    "print(rank3.text)\n",
    "print(country3[4].attrib)"
   ]
  },
  {
   "cell_type": "code",
   "execution_count": 16,
   "id": "d280903e",
   "metadata": {},
   "outputs": [
    {
     "name": "stdout",
     "output_type": "stream",
     "text": [
      "Liechtenstein 1\n",
      "Singapore 4\n",
      "Panama 68\n"
     ]
    }
   ],
   "source": [
    "# Find all child with tag country\n",
    "for country in root.findall('country'):\n",
    "    # rank is child of the country\n",
    "    rank = country.find('rank').text\n",
    "    # name is attribute of the country\n",
    "    name = country.get('name')\n",
    "    print(name, rank)"
   ]
  },
  {
   "cell_type": "code",
   "execution_count": 18,
   "id": "8ab9b928",
   "metadata": {},
   "outputs": [
    {
     "name": "stdout",
     "output_type": "stream",
     "text": [
      "{'name': 'Austria', 'direction': 'E'}\n",
      "{'name': 'Switzerland', 'direction': 'W'}\n",
      "{'name': 'Malaysia', 'direction': 'N'}\n",
      "{'name': 'Costa Rica', 'direction': 'W'}\n",
      "{'name': 'Colombia', 'direction': 'E'}\n"
     ]
    },
    {
     "data": {
      "text/plain": [
       "[<Element 'neighbor' at 0x107cedf30>, <Element 'neighbor' at 0x107cee2a0>]"
      ]
     },
     "execution_count": 18,
     "metadata": {},
     "output_type": "execute_result"
    }
   ],
   "source": [
    "# Root findall() tips\n",
    "\n",
    "for neighbor in root.iter('neighbor'):\n",
    "    print(neighbor.attrib)\n",
    "# Top-level elements\n",
    "root.findall(\".\")\n",
    "# All 'neighbor' grand-children of 'country' children of the top-level elements\n",
    "root.findall(\"./country/neighbor\")\n",
    "# elements with name='Singapore' that have a 'year' child\n",
    "root.findall(\".//year/..[@name='Singapore']\")\n",
    "# 'year' elements that are children of elements with name='Singapore'\n",
    "root.findall(\".//*[@name='Singapore']/year\")\n",
    "# All 'neighbor' elements that are the second child of their parent\n",
    "root.findall(\".//neighbor[2]\")"
   ]
  },
  {
   "cell_type": "markdown",
   "id": "9117e238",
   "metadata": {},
   "source": [
    "## Task\n",
    "\n",
    "Extract the name, rank, year and gdppc from the countries and create a Pandas DataFrame."
   ]
  },
  {
   "cell_type": "code",
   "execution_count": 42,
   "id": "c6b781d7",
   "metadata": {},
   "outputs": [
    {
     "data": {
      "text/plain": [
       "{'country': ['Liechtenstein', 'Singapore', 'Panama'],\n",
       " 'rank': ['1', '4', '68'],\n",
       " 'year': ['2008', '2011', '2011'],\n",
       " 'gdppc': ['141100', '59900', '13600']}"
      ]
     },
     "execution_count": 42,
     "metadata": {},
     "output_type": "execute_result"
    }
   ],
   "source": [
    "# assistance used\n",
    "\n",
    "xml_dict = {'country': [],\n",
    "            'rank' :[],\n",
    "            'year' : [],\n",
    "            'gdppc' : []}\n",
    "\n",
    "for country in root.findall('country'):\n",
    "        name = country.attrib['name']\n",
    "        xml_dict['country'].append(name)\n",
    "\n",
    "        rank_value = country[0].text\n",
    "        xml_dict['rank'].append(rank_value)\n",
    "\n",
    "        year_value = country[1].text\n",
    "        xml_dict['year'].append(year_value)\n",
    "        \n",
    "        gdppc_value = country[2].text\n",
    "        xml_dict['gdppc'].append(gdppc_value)\n",
    "\n",
    "\n",
    "    \n",
    "xml_dict"
   ]
  },
  {
   "cell_type": "code",
   "execution_count": 41,
   "id": "de49f1c0",
   "metadata": {},
   "outputs": [
    {
     "data": {
      "text/html": [
       "<div>\n",
       "<style scoped>\n",
       "    .dataframe tbody tr th:only-of-type {\n",
       "        vertical-align: middle;\n",
       "    }\n",
       "\n",
       "    .dataframe tbody tr th {\n",
       "        vertical-align: top;\n",
       "    }\n",
       "\n",
       "    .dataframe thead th {\n",
       "        text-align: right;\n",
       "    }\n",
       "</style>\n",
       "<table border=\"1\" class=\"dataframe\">\n",
       "  <thead>\n",
       "    <tr style=\"text-align: right;\">\n",
       "      <th></th>\n",
       "      <th>country</th>\n",
       "      <th>rank</th>\n",
       "      <th>year</th>\n",
       "      <th>gdppc</th>\n",
       "    </tr>\n",
       "  </thead>\n",
       "  <tbody>\n",
       "    <tr>\n",
       "      <th>0</th>\n",
       "      <td>Liechtenstein</td>\n",
       "      <td>1</td>\n",
       "      <td>2008</td>\n",
       "      <td>141100</td>\n",
       "    </tr>\n",
       "    <tr>\n",
       "      <th>1</th>\n",
       "      <td>Singapore</td>\n",
       "      <td>4</td>\n",
       "      <td>2011</td>\n",
       "      <td>59900</td>\n",
       "    </tr>\n",
       "    <tr>\n",
       "      <th>2</th>\n",
       "      <td>Panama</td>\n",
       "      <td>68</td>\n",
       "      <td>2011</td>\n",
       "      <td>13600</td>\n",
       "    </tr>\n",
       "  </tbody>\n",
       "</table>\n",
       "</div>"
      ],
      "text/plain": [
       "         country rank  year   gdppc\n",
       "0  Liechtenstein    1  2008  141100\n",
       "1      Singapore    4  2011   59900\n",
       "2         Panama   68  2011   13600"
      ]
     },
     "execution_count": 41,
     "metadata": {},
     "output_type": "execute_result"
    }
   ],
   "source": [
    "df = pd.DataFrame(xml_dict) \n",
    "df"
   ]
  },
  {
   "cell_type": "code",
   "execution_count": null,
   "id": "16c62ba1",
   "metadata": {},
   "outputs": [],
   "source": []
  }
 ],
 "metadata": {
  "kernelspec": {
   "display_name": "data_env312",
   "language": "python",
   "name": "python3"
  },
  "language_info": {
   "codemirror_mode": {
    "name": "ipython",
    "version": 3
   },
   "file_extension": ".py",
   "mimetype": "text/x-python",
   "name": "python",
   "nbconvert_exporter": "python",
   "pygments_lexer": "ipython3",
   "version": "3.12.2"
  }
 },
 "nbformat": 4,
 "nbformat_minor": 5
}
