{
 "cells": [
  {
   "cell_type": "code",
   "execution_count": 6,
   "id": "ab7cb76d-ab5d-4a21-9af6-c107a6ac7d32",
   "metadata": {},
   "outputs": [],
   "source": [
    "students = {\n",
    "    \"Alice\": 89.5,\n",
    "    \"Bob\": 76.0,\n",
    "    \"Charlie\": 92.3,\n",
    "    \"Diana\": 84.7,\n",
    "    \"Ethan\": 88.9,\n",
    "    \"Fiona\": 95.6,\n",
    "    \"George\": 73.4,\n",
    "    \"Hannah\": 81.2,\n",
    "}\n"
   ]
  },
  {
   "cell_type": "code",
   "execution_count": 7,
   "id": "50ebcd1f-3298-41b4-a439-675d20f6b43d",
   "metadata": {},
   "outputs": [
    {
     "name": "stdout",
     "output_type": "stream",
     "text": [
      "Alice\n",
      "Bob\n",
      "Charlie\n",
      "Diana\n",
      "Ethan\n",
      "Fiona\n",
      "George\n",
      "Hannah\n"
     ]
    }
   ],
   "source": [
    "for student in students:\n",
    "    print(student)"
   ]
  },
  {
   "cell_type": "code",
   "execution_count": 8,
   "id": "4d3c1843-5007-489a-b2b0-6abf622eb7c7",
   "metadata": {},
   "outputs": [
    {
     "name": "stdout",
     "output_type": "stream",
     "text": [
      "Alice\n",
      "Bob\n",
      "Charlie\n",
      "Diana\n",
      "Ethan\n",
      "Fiona\n",
      "George\n",
      "Hannah\n"
     ]
    }
   ],
   "source": [
    "for student in students.keys():\n",
    "    print(student)"
   ]
  },
  {
   "cell_type": "code",
   "execution_count": 12,
   "id": "5cda124c-f54e-45a0-9dfd-2937a55de95f",
   "metadata": {},
   "outputs": [
    {
     "name": "stdout",
     "output_type": "stream",
     "text": [
      "Alice -> 89.5\n",
      "Alice -> 76.0\n",
      "Alice -> 92.3\n",
      "Alice -> 84.7\n",
      "Alice -> 88.9\n",
      "Alice -> 95.6\n",
      "Alice -> 73.4\n",
      "Alice -> 81.2\n"
     ]
    }
   ],
   "source": [
    "for score in students:\n",
    "    print(student, \"->\", students[score])"
   ]
  },
  {
   "cell_type": "code",
   "execution_count": 13,
   "id": "5c4afc03-2ab4-4169-88fc-d55f8f4823b2",
   "metadata": {},
   "outputs": [
    {
     "name": "stdout",
     "output_type": "stream",
     "text": [
      "Alice -> 89.5\n",
      "Bob -> 76.0\n",
      "Charlie -> 92.3\n",
      "Diana -> 84.7\n",
      "Ethan -> 88.9\n",
      "Fiona -> 95.6\n",
      "George -> 73.4\n",
      "Hannah -> 81.2\n"
     ]
    }
   ],
   "source": [
    "for student in students:\n",
    "    print(student, \"->\", students[student])"
   ]
  },
  {
   "cell_type": "code",
   "execution_count": 16,
   "id": "faa76372-713e-415e-b565-ae1c638970c5",
   "metadata": {},
   "outputs": [
    {
     "name": "stdout",
     "output_type": "stream",
     "text": [
      "Alice -> 89.5\n",
      "Bob -> 76.0\n",
      "Charlie -> 92.3\n",
      "Diana -> 84.7\n",
      "Ethan -> 88.9\n",
      "Fiona -> 95.6\n",
      "George -> 73.4\n",
      "Hannah -> 81.2\n"
     ]
    }
   ],
   "source": [
    "for name, score in students.items():\n",
    "    print(name, \"->\", score)"
   ]
  },
  {
   "cell_type": "code",
   "execution_count": null,
   "id": "4a8bb3b6-2e42-472f-90ea-31a5df0146c6",
   "metadata": {},
   "outputs": [],
   "source": []
  }
 ],
 "metadata": {
  "kernelspec": {
   "display_name": "Python 3.12 (data_env312)",
   "language": "python",
   "name": "data_env312"
  },
  "language_info": {
   "codemirror_mode": {
    "name": "ipython",
    "version": 3
   },
   "file_extension": ".py",
   "mimetype": "text/x-python",
   "name": "python",
   "nbconvert_exporter": "python",
   "pygments_lexer": "ipython3",
   "version": "3.12.2"
  }
 },
 "nbformat": 4,
 "nbformat_minor": 5
}
