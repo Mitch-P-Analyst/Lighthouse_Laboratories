{
 "cells": [
  {
   "cell_type": "markdown",
   "id": "721e8e09",
   "metadata": {
    "id": "721e8e09"
   },
   "source": [
    "# Lighthouse Labs\n",
    "## W03D4 Python Basics 1\n",
    "Instructor: Alibek Kruglikov\n"
   ]
  },
  {
   "cell_type": "markdown",
   "id": "f3b9ef84",
   "metadata": {
    "id": "f3b9ef84"
   },
   "source": [
    "## Agenda\n",
    "\n",
    "In this notebook we will cover some of the basics of python. The topics we will cover listed below.\n",
    "- Syntax\n",
    "- Data Types\n",
    "- For Loops\n",
    "- While Loops\n",
    "- Control Flow (If and Else Statements)\n",
    "\n",
    "We're mainly going to focus on the core operations, the ones that you will use most often. There is much, much more that you can do with all of the different data types in Python.\n",
    "\n",
    "There's a lot here so it may seem pretty dry, but it will be useful for you going forward as a quick Python cheatsheet.\n"
   ]
  },
  {
   "cell_type": "markdown",
   "id": "c8d5f940",
   "metadata": {
    "id": "c8d5f940"
   },
   "source": [
    "### Whitespace\n",
    "- Python programs are organized with one statement per line.\n",
    "- Each statement occupies one line, and is separated by a line break\n",
    "- Some code blocks (loops, functions, etc) are created with indents\n"
   ]
  },
  {
   "cell_type": "markdown",
   "id": "d0076afb",
   "metadata": {
    "id": "d0076afb"
   },
   "source": [
    "#### Separating statements\n",
    "\n",
    "rust uses semicolons:\n",
    "```rust\n",
    "// addition\n",
    "add = 5 + 6;\n",
    "// subtraction\n",
    "sub = 1 - 2;\n",
    "```\n",
    "\n",
    "lisp uses parentheses:\n",
    "```lisp\n",
    ";addition\n",
    "(setq add (+ 5 6))\n",
    ";subtraction\n",
    "(setq sub (- 1 2))\n",
    "```\n",
    "\n",
    "python uses **line breaks**:\n",
    "```python\n",
    "# addition\n",
    "add = 5 + 6\n",
    "# subtraction\n",
    "sub = 1 - 2\n",
    "```\n",
    "\n",
    "```MySQL\n",
    "SELECT *\n",
    "FROM order_details\n",
    "```"
   ]
  },
  {
   "cell_type": "markdown",
   "id": "f7476cc8",
   "metadata": {
    "id": "f7476cc8"
   },
   "source": [
    "#### Code blocks/functions\n",
    "javascript uses braces (curly brackets):\n",
    "```javascript\n",
    "function mult(num1, num2) {\n",
    "  return num1 * num2;\n",
    "}\n",
    "```\n",
    "\n",
    "python uses **indents**:\n",
    "```python\n",
    "def mult(num1, num2):\n",
    "    return num1 * num2\n",
    "```"
   ]
  },
  {
   "cell_type": "markdown",
   "id": "55f2aa64",
   "metadata": {
    "id": "55f2aa64"
   },
   "source": [
    "### Variables\n",
    "\n",
    "- Variables are names that we give to objects.\n",
    "\n",
    "**Why use Variables?**\n",
    "- Helps organize our code\n",
    "- Store Data\n",
    "- Reuse data again and again"
   ]
  },
  {
   "cell_type": "code",
   "execution_count": null,
   "id": "b6f98cf0",
   "metadata": {
    "id": "b6f98cf0"
   },
   "outputs": [],
   "source": [
    "var_info = 'variables hold data. assign them with the = sign'"
   ]
  },
  {
   "cell_type": "code",
   "execution_count": null,
   "id": "WFnezqwJfysI",
   "metadata": {
    "colab": {
     "base_uri": "https://localhost:8080/"
    },
    "executionInfo": {
     "elapsed": 27,
     "status": "ok",
     "timestamp": 1751995419544,
     "user": {
      "displayName": "Alibek Kruglikov",
      "userId": "12107629968185180200"
     },
     "user_tz": 240
    },
    "id": "WFnezqwJfysI",
    "outputId": "9031a840-d162-4cd2-f8ec-5caea721841f"
   },
   "outputs": [
    {
     "name": "stdout",
     "output_type": "stream",
     "text": [
      "variables hold data. assign them with the = sign\n"
     ]
    }
   ],
   "source": [
    "print(var_info)"
   ]
  },
  {
   "cell_type": "code",
   "execution_count": null,
   "id": "frJoca_wR69s",
   "metadata": {
    "colab": {
     "base_uri": "https://localhost:8080/",
     "height": 36
    },
    "executionInfo": {
     "elapsed": 13,
     "status": "ok",
     "timestamp": 1751995419552,
     "user": {
      "displayName": "Alibek Kruglikov",
      "userId": "12107629968185180200"
     },
     "user_tz": 240
    },
    "id": "frJoca_wR69s",
    "outputId": "5ec6a5b0-9003-4833-e518-1bbc5a3bd537"
   },
   "outputs": [
    {
     "data": {
      "application/vnd.google.colaboratory.intrinsic+json": {
       "type": "string"
      },
      "text/plain": [
       "'variables hold data. assign them with the = sign'"
      ]
     },
     "execution_count": 5,
     "metadata": {},
     "output_type": "execute_result"
    }
   ],
   "source": [
    "var_info"
   ]
  },
  {
   "cell_type": "markdown",
   "id": "c30a22ad",
   "metadata": {
    "id": "c30a22ad"
   },
   "source": [
    "### Built in Data Types - Values and Objects\n",
    "\n",
    "We will been working with values, which are pieces of data that a computer program works with, such as a number or text.\n",
    "We will assign a lot of these values to objects (variables) with the assignment operator `=`.\n",
    "These values will always belong to a data type\n",
    "\n",
    "\n",
    "Here are some data types built-in to the Python language:\n",
    "\n",
    "* Integers - `int`\n",
    "* Floating-point numbers - `float`\n",
    "* Strings - `str`\n",
    "* Booleans - `bool` - two values: True and False.\n",
    "* Lists - `list`\n",
    "* Tuples - `tuple`\n",
    "* Sets - `set`\n",
    "* Dictionaries - `dict`\n",
    "\n",
    "\n",
    "\n"
   ]
  },
  {
   "cell_type": "markdown",
   "id": "7863f294",
   "metadata": {
    "id": "7863f294"
   },
   "source": [
    "### Integers & Floats"
   ]
  },
  {
   "cell_type": "code",
   "execution_count": null,
   "id": "56fe21d7",
   "metadata": {
    "id": "56fe21d7"
   },
   "outputs": [],
   "source": [
    "a = 4"
   ]
  },
  {
   "cell_type": "code",
   "execution_count": null,
   "id": "dc736a8f",
   "metadata": {
    "id": "dc736a8f"
   },
   "outputs": [],
   "source": [
    "b = 4.0"
   ]
  },
  {
   "cell_type": "code",
   "execution_count": null,
   "id": "b3c89d8a",
   "metadata": {
    "colab": {
     "base_uri": "https://localhost:8080/"
    },
    "executionInfo": {
     "elapsed": 18,
     "status": "ok",
     "timestamp": 1751995419664,
     "user": {
      "displayName": "Alibek Kruglikov",
      "userId": "12107629968185180200"
     },
     "user_tz": 240
    },
    "id": "b3c89d8a",
    "outputId": "9a84bad9-dc6a-4247-f571-cc0352c4e922"
   },
   "outputs": [
    {
     "data": {
      "text/plain": [
       "int"
      ]
     },
     "execution_count": 8,
     "metadata": {},
     "output_type": "execute_result"
    }
   ],
   "source": [
    "# use the type() function to check the type of variable a\n",
    "type(a)"
   ]
  },
  {
   "cell_type": "code",
   "execution_count": null,
   "id": "46a3089f",
   "metadata": {
    "colab": {
     "base_uri": "https://localhost:8080/"
    },
    "executionInfo": {
     "elapsed": 17,
     "status": "ok",
     "timestamp": 1751995419684,
     "user": {
      "displayName": "Alibek Kruglikov",
      "userId": "12107629968185180200"
     },
     "user_tz": 240
    },
    "id": "46a3089f",
    "outputId": "59fa7b34-ffd9-40f3-a74d-7e54a05e5105"
   },
   "outputs": [
    {
     "data": {
      "text/plain": [
       "float"
      ]
     },
     "execution_count": 9,
     "metadata": {},
     "output_type": "execute_result"
    }
   ],
   "source": [
    "# use the type() function to check the type of variable b\n",
    "type(b)"
   ]
  },
  {
   "cell_type": "code",
   "execution_count": null,
   "id": "o79NpXxEs_C6",
   "metadata": {
    "colab": {
     "base_uri": "https://localhost:8080/"
    },
    "executionInfo": {
     "elapsed": 17,
     "status": "ok",
     "timestamp": 1751995419705,
     "user": {
      "displayName": "Alibek Kruglikov",
      "userId": "12107629968185180200"
     },
     "user_tz": 240
    },
    "id": "o79NpXxEs_C6",
    "outputId": "aa79a544-c7e6-498b-b408-760678f0cd04"
   },
   "outputs": [
    {
     "data": {
      "text/plain": [
       "str"
      ]
     },
     "execution_count": 10,
     "metadata": {},
     "output_type": "execute_result"
    }
   ],
   "source": [
    "# use the type() function to check the type of variable var_info\n",
    "type(var_info)"
   ]
  },
  {
   "cell_type": "markdown",
   "id": "0b0c5b2c",
   "metadata": {
    "id": "0b0c5b2c"
   },
   "source": [
    "### Arithmetic with variables"
   ]
  },
  {
   "cell_type": "code",
   "execution_count": null,
   "id": "0f7087ff",
   "metadata": {
    "colab": {
     "base_uri": "https://localhost:8080/"
    },
    "executionInfo": {
     "elapsed": 44,
     "status": "ok",
     "timestamp": 1751995864981,
     "user": {
      "displayName": "Alibek Kruglikov",
      "userId": "12107629968185180200"
     },
     "user_tz": 240
    },
    "id": "0f7087ff",
    "outputId": "639235dd-c0e6-4856-de86-a013bb8da540"
   },
   "outputs": [
    {
     "data": {
      "text/plain": [
       "(-7269.311336607268+2361.942431312854j)"
      ]
     },
     "execution_count": 31,
     "metadata": {},
     "output_type": "execute_result"
    }
   ],
   "source": [
    "a = -2\n",
    "b = 12.9\n",
    "\n",
    "# Arithmetic\n",
    "# c = a + 1    # Arithmetic with literals and variables\n",
    "# c = a + b    # Arithmetic with just variables\n",
    "# c = c + a    # c becomes its old value + a\n",
    "# c += a       # same thing with different notation\n",
    "# c = a - b    # Subtraction\n",
    "# c = a * b    # Multiplication\n",
    "# c = b / a    # Division\n",
    "# c = (a + b) * 2 - a    # Compound calculations - PEMDAS\n",
    "# c = b // a   # floor division\n",
    "# c = 9%2          # remainder\n",
    "# c = a ** b   # exponents\n",
    "\n",
    "# c"
   ]
  },
  {
   "cell_type": "code",
   "execution_count": null,
   "id": "PqVE3v8DFECd",
   "metadata": {
    "colab": {
     "base_uri": "https://localhost:8080/"
    },
    "executionInfo": {
     "elapsed": 35,
     "status": "ok",
     "timestamp": 1751995720241,
     "user": {
      "displayName": "Alibek Kruglikov",
      "userId": "12107629968185180200"
     },
     "user_tz": 240
    },
    "id": "PqVE3v8DFECd",
    "outputId": "f5a8b9d1-c241-4b8f-b3e0-a2fc11dc59fa"
   },
   "outputs": [
    {
     "data": {
      "text/plain": [
       "16.666666666666668"
      ]
     },
     "execution_count": 28,
     "metadata": {},
     "output_type": "execute_result"
    }
   ],
   "source": [
    "100 / 6"
   ]
  },
  {
   "cell_type": "code",
   "execution_count": null,
   "id": "n0dPkxSAFB58",
   "metadata": {
    "colab": {
     "base_uri": "https://localhost:8080/"
    },
    "executionInfo": {
     "elapsed": 71,
     "status": "ok",
     "timestamp": 1751995685245,
     "user": {
      "displayName": "Alibek Kruglikov",
      "userId": "12107629968185180200"
     },
     "user_tz": 240
    },
    "id": "n0dPkxSAFB58",
    "outputId": "29418dd5-5668-44ca-c8b7-6710118e4f52"
   },
   "outputs": [
    {
     "data": {
      "text/plain": [
       "16"
      ]
     },
     "execution_count": 26,
     "metadata": {},
     "output_type": "execute_result"
    }
   ],
   "source": [
    "100 // 6"
   ]
  },
  {
   "cell_type": "code",
   "execution_count": null,
   "id": "pqi6G3-qFgPn",
   "metadata": {
    "colab": {
     "base_uri": "https://localhost:8080/"
    },
    "executionInfo": {
     "elapsed": 54,
     "status": "ok",
     "timestamp": 1751995784798,
     "user": {
      "displayName": "Alibek Kruglikov",
      "userId": "12107629968185180200"
     },
     "user_tz": 240
    },
    "id": "pqi6G3-qFgPn",
    "outputId": "15fa5494-0f3e-42dc-dd25-8c6d84155f3e"
   },
   "outputs": [
    {
     "data": {
      "text/plain": [
       "96"
      ]
     },
     "execution_count": 30,
     "metadata": {},
     "output_type": "execute_result"
    }
   ],
   "source": [
    "16 * 6"
   ]
  },
  {
   "cell_type": "code",
   "execution_count": null,
   "id": "1VB8Gs7gFcWu",
   "metadata": {
    "colab": {
     "base_uri": "https://localhost:8080/"
    },
    "executionInfo": {
     "elapsed": 31,
     "status": "ok",
     "timestamp": 1751995773078,
     "user": {
      "displayName": "Alibek Kruglikov",
      "userId": "12107629968185180200"
     },
     "user_tz": 240
    },
    "id": "1VB8Gs7gFcWu",
    "outputId": "0149f678-f7ce-4123-8ecc-8a023be5c746"
   },
   "outputs": [
    {
     "data": {
      "text/plain": [
       "4"
      ]
     },
     "execution_count": 29,
     "metadata": {},
     "output_type": "execute_result"
    }
   ],
   "source": [
    "100 % 6"
   ]
  },
  {
   "cell_type": "code",
   "execution_count": null,
   "id": "gnvORCj9gQ2v",
   "metadata": {
    "colab": {
     "base_uri": "https://localhost:8080/"
    },
    "executionInfo": {
     "elapsed": 37,
     "status": "ok",
     "timestamp": 1751995910543,
     "user": {
      "displayName": "Alibek Kruglikov",
      "userId": "12107629968185180200"
     },
     "user_tz": 240
    },
    "id": "gnvORCj9gQ2v",
    "outputId": "94f55059-6f27-412a-d1c6-f4d688199bda"
   },
   "outputs": [
    {
     "data": {
      "text/plain": [
       "2.54"
      ]
     },
     "execution_count": 33,
     "metadata": {},
     "output_type": "execute_result"
    }
   ],
   "source": [
    "# round 2.543 to have 2 decimals\n",
    "round(2.543, 2)"
   ]
  },
  {
   "cell_type": "code",
   "execution_count": null,
   "id": "TN-7dGefsbBC",
   "metadata": {
    "colab": {
     "base_uri": "https://localhost:8080/"
    },
    "executionInfo": {
     "elapsed": 38,
     "status": "ok",
     "timestamp": 1751996113408,
     "user": {
      "displayName": "Alibek Kruglikov",
      "userId": "12107629968185180200"
     },
     "user_tz": 240
    },
    "id": "TN-7dGefsbBC",
    "outputId": "96fa2231-edbd-4e60-80c5-c7f217e37f1c"
   },
   "outputs": [
    {
     "data": {
      "text/plain": [
       "2"
      ]
     },
     "execution_count": 41,
     "metadata": {},
     "output_type": "execute_result"
    }
   ],
   "source": [
    "# interesting case: round 2.5\n",
    "round(2.50) # bank rounding"
   ]
  },
  {
   "cell_type": "code",
   "execution_count": null,
   "id": "Jlc9yCo1VVEY",
   "metadata": {
    "colab": {
     "base_uri": "https://localhost:8080/"
    },
    "executionInfo": {
     "elapsed": 33,
     "status": "ok",
     "timestamp": 1751996155306,
     "user": {
      "displayName": "Alibek Kruglikov",
      "userId": "12107629968185180200"
     },
     "user_tz": 240
    },
    "id": "Jlc9yCo1VVEY",
    "outputId": "65c3400e-e791-4967-9835-2c000ecfc34a"
   },
   "outputs": [
    {
     "data": {
      "text/plain": [
       "3"
      ]
     },
     "execution_count": 45,
     "metadata": {},
     "output_type": "execute_result"
    }
   ],
   "source": [
    "# quick trick to round \"correctly\"\n",
    "round(2.5+0.00000000000001)"
   ]
  },
  {
   "cell_type": "markdown",
   "id": "996dd237",
   "metadata": {
    "id": "996dd237"
   },
   "source": [
    "#### Type Casting ints and floats"
   ]
  },
  {
   "cell_type": "code",
   "execution_count": null,
   "id": "63d07b45",
   "metadata": {
    "colab": {
     "base_uri": "https://localhost:8080/"
    },
    "executionInfo": {
     "elapsed": 27,
     "status": "ok",
     "timestamp": 1751996193575,
     "user": {
      "displayName": "Alibek Kruglikov",
      "userId": "12107629968185180200"
     },
     "user_tz": 240
    },
    "id": "63d07b45",
    "outputId": "14743369-a2a0-4710-e127-50293206a089"
   },
   "outputs": [
    {
     "data": {
      "text/plain": [
       "1.0"
      ]
     },
     "execution_count": 46,
     "metadata": {},
     "output_type": "execute_result"
    }
   ],
   "source": [
    "# cast int to float\n",
    "float(1)"
   ]
  },
  {
   "cell_type": "code",
   "execution_count": null,
   "id": "xCp3x_yBgOAm",
   "metadata": {
    "colab": {
     "base_uri": "https://localhost:8080/"
    },
    "executionInfo": {
     "elapsed": 42,
     "status": "ok",
     "timestamp": 1751996212052,
     "user": {
      "displayName": "Alibek Kruglikov",
      "userId": "12107629968185180200"
     },
     "user_tz": 240
    },
    "id": "xCp3x_yBgOAm",
    "outputId": "a8cc0c91-03ab-4c4c-e115-e45b0ed06271"
   },
   "outputs": [
    {
     "data": {
      "text/plain": [
       "5"
      ]
     },
     "execution_count": 49,
     "metadata": {},
     "output_type": "execute_result"
    }
   ],
   "source": [
    "# cast float to int\n",
    "int(5.7)"
   ]
  },
  {
   "cell_type": "code",
   "execution_count": null,
   "id": "P2gT3EIDHXxn",
   "metadata": {
    "colab": {
     "base_uri": "https://localhost:8080/"
    },
    "executionInfo": {
     "elapsed": 16,
     "status": "ok",
     "timestamp": 1751996278346,
     "user": {
      "displayName": "Alibek Kruglikov",
      "userId": "12107629968185180200"
     },
     "user_tz": 240
    },
    "id": "P2gT3EIDHXxn",
    "outputId": "c81cc9d2-b56d-4716-fcc8-6bc0fe6615a2"
   },
   "outputs": [
    {
     "data": {
      "text/plain": [
       "int"
      ]
     },
     "execution_count": 51,
     "metadata": {},
     "output_type": "execute_result"
    }
   ],
   "source": [
    "type(round(5.7))"
   ]
  },
  {
   "cell_type": "code",
   "execution_count": null,
   "id": "5dcNspRxKT7p",
   "metadata": {
    "colab": {
     "base_uri": "https://localhost:8080/"
    },
    "executionInfo": {
     "elapsed": 105,
     "status": "ok",
     "timestamp": 1751996309060,
     "user": {
      "displayName": "Alibek Kruglikov",
      "userId": "12107629968185180200"
     },
     "user_tz": 240
    },
    "id": "5dcNspRxKT7p",
    "outputId": "769f1b30-439e-4c01-da09-3f8eede12951"
   },
   "outputs": [
    {
     "data": {
      "text/plain": [
       "5"
      ]
     },
     "execution_count": 52,
     "metadata": {},
     "output_type": "execute_result"
    }
   ],
   "source": [
    "# this can be used for rounding down\n",
    "int(5.7)"
   ]
  },
  {
   "cell_type": "markdown",
   "id": "8085d0da",
   "metadata": {
    "id": "8085d0da"
   },
   "source": [
    "### Strings"
   ]
  },
  {
   "cell_type": "code",
   "execution_count": null,
   "id": "3f5d27bb",
   "metadata": {
    "colab": {
     "base_uri": "https://localhost:8080/",
     "height": 36
    },
    "executionInfo": {
     "elapsed": 22,
     "status": "ok",
     "timestamp": 1751996776406,
     "user": {
      "displayName": "Alibek Kruglikov",
      "userId": "12107629968185180200"
     },
     "user_tz": 240
    },
    "id": "3f5d27bb",
    "outputId": "cde0517f-e19b-47ac-be9b-cb477b41ca17"
   },
   "outputs": [
    {
     "data": {
      "application/vnd.google.colaboratory.intrinsic+json": {
       "type": "string"
      },
      "text/plain": [
       "'The meaning of life is 42.'"
      ]
     },
     "execution_count": 72,
     "metadata": {},
     "output_type": "execute_result"
    }
   ],
   "source": [
    "# Strings are a sequence of symbols in quotes\n",
    "# Without the quotes, Python tries to interpret text as variable names\n",
    "a = \"IMAGINATION is more important than knowledge\"\n",
    "\n",
    "\n",
    "# Strings can contain any symbols, not just letters\n",
    "b = 'The Meaning of Life is 42.'\n",
    "\n",
    "c = '''this\n",
    "is a\n",
    "multiline'''\n",
    "\n",
    "# single, double, triple single, and triple double quotes\n",
    "\n",
    "# Concatenation (combining)\n",
    "d = a + \", but not as important as learning to code\"\n",
    "\n",
    "\n",
    "# Functions on strings\n",
    "# Note: these functions don't change the original variables.\n",
    "# They return copies with the function applied\n",
    "e = b.upper()\n",
    "f = b.lower()\n",
    "g = b.capitalize()\n",
    "\n",
    "g"
   ]
  },
  {
   "cell_type": "markdown",
   "id": "318f5756",
   "metadata": {
    "id": "318f5756"
   },
   "source": [
    "#### Type casting with strings"
   ]
  },
  {
   "cell_type": "code",
   "execution_count": null,
   "id": "d88d0075",
   "metadata": {
    "colab": {
     "base_uri": "https://localhost:8080/",
     "height": 36
    },
    "executionInfo": {
     "elapsed": 66,
     "status": "ok",
     "timestamp": 1751996826230,
     "user": {
      "displayName": "Alibek Kruglikov",
      "userId": "12107629968185180200"
     },
     "user_tz": 240
    },
    "id": "d88d0075",
    "outputId": "26b05c82-c04f-4c69-daa6-4019cca7a1ba"
   },
   "outputs": [
    {
     "data": {
      "application/vnd.google.colaboratory.intrinsic+json": {
       "type": "string"
      },
      "text/plain": [
       "'3.765'"
      ]
     },
     "execution_count": 74,
     "metadata": {},
     "output_type": "execute_result"
    }
   ],
   "source": [
    "# anything can be cast TO a string, but not the other way around\n",
    "# cast a numeric type to a string\n",
    "str(3.765)"
   ]
  },
  {
   "cell_type": "code",
   "execution_count": null,
   "id": "zTwarfX1ssf2",
   "metadata": {
    "colab": {
     "base_uri": "https://localhost:8080/"
    },
    "executionInfo": {
     "elapsed": 15,
     "status": "ok",
     "timestamp": 1751996875502,
     "user": {
      "displayName": "Alibek Kruglikov",
      "userId": "12107629968185180200"
     },
     "user_tz": 240
    },
    "id": "zTwarfX1ssf2",
    "outputId": "71a40784-8112-47b3-9c8f-d4706c166b69"
   },
   "outputs": [
    {
     "data": {
      "text/plain": [
       "3"
      ]
     },
     "execution_count": 81,
     "metadata": {},
     "output_type": "execute_result"
    }
   ],
   "source": [
    "# cast a string to a numeric type\n",
    "int('3')\n",
    "# float('3.0')\n",
    "# int('3.5') # error\n",
    "# int('Three')  # error"
   ]
  },
  {
   "cell_type": "markdown",
   "id": "3141cab4",
   "metadata": {
    "id": "3141cab4"
   },
   "source": [
    "***"
   ]
  },
  {
   "cell_type": "markdown",
   "id": "d43abbee",
   "metadata": {
    "id": "d43abbee"
   },
   "source": [
    "## Advanced Data Types\n"
   ]
  },
  {
   "cell_type": "markdown",
   "id": "5bb9ec4f",
   "metadata": {
    "id": "5bb9ec4f"
   },
   "source": [
    "### Lists\n",
    "\n",
    "- **Mutable** and **ordered** sequence of objects\n",
    "- Can be indexed, sliced, and changed\n",
    "- Lists can be used for any type of object, from numbers and strings to more lists."
   ]
  },
  {
   "cell_type": "code",
   "execution_count": null,
   "id": "8cf4cf8b",
   "metadata": {
    "id": "8cf4cf8b"
   },
   "outputs": [],
   "source": [
    "# Without lists, individual and unrelated variables\n",
    "# (imagine if you had hundreds of names)\n",
    "person1 = 'Mal'\n",
    "person2 = 'Zoe'\n",
    "person3 = 'Wash'\n",
    "person4 = 'Jayne'\n",
    "person5 = 'Kaylee'\n",
    "\n",
    "# Using lists, a data structure that contains many values\n",
    "people = ['Mal', 'Zoe', 'Wash', 'Jayne', 'Kaylee']\n",
    "\n",
    "# List creation\n",
    "empty_list = [] # brackets (square brackets)\n",
    "small_list = [2.3, 1, 'hello'] # List elements separated by commas"
   ]
  },
  {
   "cell_type": "code",
   "execution_count": null,
   "id": "WCAQ_P8qGxbJ",
   "metadata": {
    "colab": {
     "base_uri": "https://localhost:8080/"
    },
    "executionInfo": {
     "elapsed": 59,
     "status": "ok",
     "timestamp": 1751997140067,
     "user": {
      "displayName": "Alibek Kruglikov",
      "userId": "12107629968185180200"
     },
     "user_tz": 240
    },
    "id": "WCAQ_P8qGxbJ",
    "outputId": "9c929a2a-bdb8-47f7-8038-f6f82d2e34ba"
   },
   "outputs": [
    {
     "data": {
      "text/plain": [
       "[]"
      ]
     },
     "execution_count": 85,
     "metadata": {},
     "output_type": "execute_result"
    }
   ],
   "source": [
    "empty_list"
   ]
  },
  {
   "cell_type": "code",
   "execution_count": null,
   "id": "hwotLxASGyUA",
   "metadata": {
    "colab": {
     "base_uri": "https://localhost:8080/"
    },
    "executionInfo": {
     "elapsed": 40,
     "status": "ok",
     "timestamp": 1751997146334,
     "user": {
      "displayName": "Alibek Kruglikov",
      "userId": "12107629968185180200"
     },
     "user_tz": 240
    },
    "id": "hwotLxASGyUA",
    "outputId": "a458f2e4-8d6b-4569-a80a-ab39a20eb1be"
   },
   "outputs": [
    {
     "data": {
      "text/plain": [
       "[2.3, 1, 'hello']"
      ]
     },
     "execution_count": 86,
     "metadata": {},
     "output_type": "execute_result"
    }
   ],
   "source": [
    "small_list"
   ]
  },
  {
   "cell_type": "code",
   "execution_count": null,
   "id": "1ae0gObdGy5C",
   "metadata": {
    "colab": {
     "base_uri": "https://localhost:8080/"
    },
    "executionInfo": {
     "elapsed": 70,
     "status": "ok",
     "timestamp": 1751997149896,
     "user": {
      "displayName": "Alibek Kruglikov",
      "userId": "12107629968185180200"
     },
     "user_tz": 240
    },
    "id": "1ae0gObdGy5C",
    "outputId": "f4501582-2cca-4982-abc3-9db6a78d4ff0"
   },
   "outputs": [
    {
     "data": {
      "text/plain": [
       "['Mal', 'Zoe', 'Wash', 'Jayne', 'Kaylee']"
      ]
     },
     "execution_count": 87,
     "metadata": {},
     "output_type": "execute_result"
    }
   ],
   "source": [
    "people"
   ]
  },
  {
   "cell_type": "code",
   "execution_count": null,
   "id": "feee18ba",
   "metadata": {
    "id": "feee18ba"
   },
   "outputs": [],
   "source": [
    "large_animals = ['African Elephant', 'Asian Elephant', 'White Rhinoceros',\n",
    "                 'Hippopotamus', 'Gaur', 'Giraffe', 'Walrus', 'Black Rhinoceros',\n",
    "                 'Saltwater Crocodile', 'Water Buffalo']"
   ]
  },
  {
   "cell_type": "code",
   "execution_count": null,
   "id": "nhgesxZ0UWhE",
   "metadata": {
    "colab": {
     "base_uri": "https://localhost:8080/"
    },
    "executionInfo": {
     "elapsed": 83,
     "status": "ok",
     "timestamp": 1751997266040,
     "user": {
      "displayName": "Alibek Kruglikov",
      "userId": "12107629968185180200"
     },
     "user_tz": 240
    },
    "id": "nhgesxZ0UWhE",
    "outputId": "34d0d79b-b826-4f69-847a-6d1f7cc31108"
   },
   "outputs": [
    {
     "data": {
      "text/plain": [
       "['African Elephant',\n",
       " 'Asian Elephant',\n",
       " 'White Rhinoceros',\n",
       " 'Hippopotamus',\n",
       " 'Gaur',\n",
       " 'Giraffe',\n",
       " 'Walrus',\n",
       " 'Black Rhinoceros',\n",
       " 'Saltwater Crocodile',\n",
       " 'Water Buffalo']"
      ]
     },
     "execution_count": 91,
     "metadata": {},
     "output_type": "execute_result"
    }
   ],
   "source": [
    "large_animals"
   ]
  },
  {
   "cell_type": "code",
   "execution_count": null,
   "id": "f5ce53fe",
   "metadata": {
    "colab": {
     "base_uri": "https://localhost:8080/",
     "height": 36
    },
    "executionInfo": {
     "elapsed": 55,
     "status": "ok",
     "timestamp": 1751997465880,
     "user": {
      "displayName": "Alibek Kruglikov",
      "userId": "12107629968185180200"
     },
     "user_tz": 240
    },
    "id": "f5ce53fe",
    "outputId": "10427f8e-f3c8-4247-e62d-42d667d454b9"
   },
   "outputs": [
    {
     "data": {
      "application/vnd.google.colaboratory.intrinsic+json": {
       "type": "string"
      },
      "text/plain": [
       "'Black Rhinoceros'"
      ]
     },
     "execution_count": 98,
     "metadata": {},
     "output_type": "execute_result"
    }
   ],
   "source": [
    "# Access elements in a list using index\n",
    "large_animals[7]"
   ]
  },
  {
   "cell_type": "code",
   "execution_count": null,
   "id": "f-U_-f4xnyXg",
   "metadata": {
    "colab": {
     "base_uri": "https://localhost:8080/"
    },
    "executionInfo": {
     "elapsed": 30,
     "status": "ok",
     "timestamp": 1751997631127,
     "user": {
      "displayName": "Alibek Kruglikov",
      "userId": "12107629968185180200"
     },
     "user_tz": 240
    },
    "id": "f-U_-f4xnyXg",
    "outputId": "7f1f67c5-c623-4225-cdb6-216ef893b04f"
   },
   "outputs": [
    {
     "data": {
      "text/plain": [
       "9"
      ]
     },
     "execution_count": 107,
     "metadata": {},
     "output_type": "execute_result"
    }
   ],
   "source": [
    "# Finding index of an item in a list using .index()\n",
    "large_animals.index(\"Water Buffalo\")"
   ]
  },
  {
   "cell_type": "code",
   "execution_count": null,
   "id": "wKrHLkRsYBYa",
   "metadata": {
    "colab": {
     "base_uri": "https://localhost:8080/"
    },
    "executionInfo": {
     "elapsed": 35,
     "status": "ok",
     "timestamp": 1751997558533,
     "user": {
      "displayName": "Alibek Kruglikov",
      "userId": "12107629968185180200"
     },
     "user_tz": 240
    },
    "id": "wKrHLkRsYBYa",
    "outputId": "2e7a9e55-b5a9-42a7-f662-ca3bdc377f57"
   },
   "outputs": [
    {
     "data": {
      "text/plain": [
       "10"
      ]
     },
     "execution_count": 106,
     "metadata": {},
     "output_type": "execute_result"
    }
   ],
   "source": [
    "# length of a list\n",
    "len(large_animals)"
   ]
  },
  {
   "cell_type": "code",
   "execution_count": null,
   "id": "60d3ccdf",
   "metadata": {
    "colab": {
     "base_uri": "https://localhost:8080/"
    },
    "executionInfo": {
     "elapsed": 50,
     "status": "ok",
     "timestamp": 1751997833380,
     "user": {
      "displayName": "Alibek Kruglikov",
      "userId": "12107629968185180200"
     },
     "user_tz": 240
    },
    "id": "60d3ccdf",
    "outputId": "d2629754-10a7-4bcf-9508-5897a3d8b2fc"
   },
   "outputs": [
    {
     "data": {
      "text/plain": [
       "['African Elephant', 'Asian Elephant', 'White Rhinoceros']"
      ]
     },
     "execution_count": 108,
     "metadata": {},
     "output_type": "execute_result"
    }
   ],
   "source": [
    "# Slicing [start:stop:step]\n",
    "large_animals[0:3:1]"
   ]
  },
  {
   "cell_type": "code",
   "execution_count": null,
   "id": "jCLXGn6SNls2",
   "metadata": {
    "colab": {
     "base_uri": "https://localhost:8080/"
    },
    "executionInfo": {
     "elapsed": 49,
     "status": "ok",
     "timestamp": 1751997864637,
     "user": {
      "displayName": "Alibek Kruglikov",
      "userId": "12107629968185180200"
     },
     "user_tz": 240
    },
    "id": "jCLXGn6SNls2",
    "outputId": "9b14dc7c-4c68-4fe7-9f8f-75582f7e51b9"
   },
   "outputs": [
    {
     "data": {
      "text/plain": [
       "['Hippopotamus', 'White Rhinoceros', 'Asian Elephant']"
      ]
     },
     "execution_count": 109,
     "metadata": {},
     "output_type": "execute_result"
    }
   ],
   "source": [
    "# Slicing backwards\n",
    "large_animals[3:0:-1]"
   ]
  },
  {
   "cell_type": "code",
   "execution_count": null,
   "id": "JnlDc6VQNkT1",
   "metadata": {
    "colab": {
     "base_uri": "https://localhost:8080/"
    },
    "executionInfo": {
     "elapsed": 50,
     "status": "ok",
     "timestamp": 1751997907361,
     "user": {
      "displayName": "Alibek Kruglikov",
      "userId": "12107629968185180200"
     },
     "user_tz": 240
    },
    "id": "JnlDc6VQNkT1",
    "outputId": "ea56f464-a60f-43d3-b027-081a6bbcbf0a"
   },
   "outputs": [
    {
     "data": {
      "text/plain": [
       "['Hippopotamus', 'Giraffe', 'Black Rhinoceros']"
      ]
     },
     "execution_count": 110,
     "metadata": {},
     "output_type": "execute_result"
    }
   ],
   "source": [
    "large_animals[3:-1:2]"
   ]
  },
  {
   "cell_type": "code",
   "execution_count": null,
   "id": "pRsKH9PAN3aO",
   "metadata": {
    "colab": {
     "base_uri": "https://localhost:8080/"
    },
    "executionInfo": {
     "elapsed": 63,
     "status": "ok",
     "timestamp": 1751997983403,
     "user": {
      "displayName": "Alibek Kruglikov",
      "userId": "12107629968185180200"
     },
     "user_tz": 240
    },
    "id": "pRsKH9PAN3aO",
    "outputId": "83ce31fe-9764-456f-fd99-f1b2174846c9"
   },
   "outputs": [
    {
     "data": {
      "text/plain": [
       "['African Elephant',\n",
       " 'White Rhinoceros',\n",
       " 'Gaur',\n",
       " 'Walrus',\n",
       " 'Saltwater Crocodile']"
      ]
     },
     "execution_count": 112,
     "metadata": {},
     "output_type": "execute_result"
    }
   ],
   "source": [
    "large_animals[::2]"
   ]
  },
  {
   "cell_type": "code",
   "execution_count": null,
   "id": "f7b7c16e",
   "metadata": {
    "id": "f7b7c16e"
   },
   "outputs": [],
   "source": [
    "# changing values: change index 3 to 'Hippo'\n",
    "large_animals[3] = 'Hippo'"
   ]
  },
  {
   "cell_type": "code",
   "execution_count": null,
   "id": "XIeUuuaDN9IX",
   "metadata": {
    "colab": {
     "base_uri": "https://localhost:8080/"
    },
    "executionInfo": {
     "elapsed": 58,
     "status": "ok",
     "timestamp": 1751998018096,
     "user": {
      "displayName": "Alibek Kruglikov",
      "userId": "12107629968185180200"
     },
     "user_tz": 240
    },
    "id": "XIeUuuaDN9IX",
    "outputId": "0cc1c84b-2027-4c81-a6e6-cb2ec964d9ca"
   },
   "outputs": [
    {
     "data": {
      "text/plain": [
       "['African Elephant',\n",
       " 'Asian Elephant',\n",
       " 'White Rhinoceros',\n",
       " 'Hippo',\n",
       " 'Gaur',\n",
       " 'Giraffe',\n",
       " 'Walrus',\n",
       " 'Black Rhinoceros',\n",
       " 'Saltwater Crocodile',\n",
       " 'Water Buffalo']"
      ]
     },
     "execution_count": 114,
     "metadata": {},
     "output_type": "execute_result"
    }
   ],
   "source": [
    "large_animals"
   ]
  },
  {
   "cell_type": "code",
   "execution_count": null,
   "id": "doz1IIYicrJ_",
   "metadata": {
    "id": "doz1IIYicrJ_"
   },
   "outputs": [],
   "source": [
    "# changing values - be careful with slices\n",
    "large_animals[:4] = ['Bear']*4"
   ]
  },
  {
   "cell_type": "code",
   "execution_count": null,
   "id": "YM0D7-KmOIXr",
   "metadata": {
    "colab": {
     "base_uri": "https://localhost:8080/"
    },
    "executionInfo": {
     "elapsed": 67,
     "status": "ok",
     "timestamp": 1751998093436,
     "user": {
      "displayName": "Alibek Kruglikov",
      "userId": "12107629968185180200"
     },
     "user_tz": 240
    },
    "id": "YM0D7-KmOIXr",
    "outputId": "07add288-9833-474b-8bd8-4b6ff99b3ea0"
   },
   "outputs": [
    {
     "data": {
      "text/plain": [
       "['Bear',\n",
       " 'Bear',\n",
       " 'Bear',\n",
       " 'Bear',\n",
       " 'Gaur',\n",
       " 'Giraffe',\n",
       " 'Walrus',\n",
       " 'Black Rhinoceros',\n",
       " 'Saltwater Crocodile',\n",
       " 'Water Buffalo']"
      ]
     },
     "execution_count": 121,
     "metadata": {},
     "output_type": "execute_result"
    }
   ],
   "source": [
    "large_animals"
   ]
  },
  {
   "cell_type": "code",
   "execution_count": null,
   "id": "e9c689a9",
   "metadata": {
    "id": "e9c689a9"
   },
   "outputs": [],
   "source": [
    "# deleting: using empty list []\n",
    "large_animals[:4] = []"
   ]
  },
  {
   "cell_type": "code",
   "execution_count": null,
   "id": "6Df5CufDOo13",
   "metadata": {
    "colab": {
     "base_uri": "https://localhost:8080/"
    },
    "executionInfo": {
     "elapsed": 49,
     "status": "ok",
     "timestamp": 1751998227190,
     "user": {
      "displayName": "Alibek Kruglikov",
      "userId": "12107629968185180200"
     },
     "user_tz": 240
    },
    "id": "6Df5CufDOo13",
    "outputId": "c97cd383-43cc-4c31-f76e-639cf1a7c5db"
   },
   "outputs": [
    {
     "data": {
      "text/plain": [
       "['Giraffe',\n",
       " 'Walrus',\n",
       " 'Black Rhinoceros',\n",
       " 'Saltwater Crocodile',\n",
       " 'Water Buffalo']"
      ]
     },
     "execution_count": 133,
     "metadata": {},
     "output_type": "execute_result"
    }
   ],
   "source": [
    "large_animals"
   ]
  },
  {
   "cell_type": "code",
   "execution_count": null,
   "id": "jSqQSX-OvBxw",
   "metadata": {
    "id": "jSqQSX-OvBxw"
   },
   "outputs": [],
   "source": [
    "# using del\n",
    "del large_animals[0]"
   ]
  },
  {
   "cell_type": "code",
   "execution_count": null,
   "id": "yaufFZ59O5Ln",
   "metadata": {
    "colab": {
     "base_uri": "https://localhost:8080/"
    },
    "executionInfo": {
     "elapsed": 49,
     "status": "ok",
     "timestamp": 1751998257676,
     "user": {
      "displayName": "Alibek Kruglikov",
      "userId": "12107629968185180200"
     },
     "user_tz": 240
    },
    "id": "yaufFZ59O5Ln",
    "outputId": "e4333bde-2dbb-4d7d-912a-f81f2900b801"
   },
   "outputs": [
    {
     "data": {
      "text/plain": [
       "['Walrus', 'Black Rhinoceros', 'Saltwater Crocodile', 'Water Buffalo']"
      ]
     },
     "execution_count": 135,
     "metadata": {},
     "output_type": "execute_result"
    }
   ],
   "source": [
    "large_animals"
   ]
  },
  {
   "cell_type": "code",
   "execution_count": null,
   "id": "b9d4cb27",
   "metadata": {
    "id": "b9d4cb27"
   },
   "outputs": [],
   "source": [
    "# extending via .append()\n",
    "large_animals.append('Whale')"
   ]
  },
  {
   "cell_type": "code",
   "execution_count": null,
   "id": "g_YHzCrwO_xl",
   "metadata": {
    "colab": {
     "base_uri": "https://localhost:8080/"
    },
    "executionInfo": {
     "elapsed": 62,
     "status": "ok",
     "timestamp": 1751998319967,
     "user": {
      "displayName": "Alibek Kruglikov",
      "userId": "12107629968185180200"
     },
     "user_tz": 240
    },
    "id": "g_YHzCrwO_xl",
    "outputId": "eea3e5aa-b456-4956-bde1-faf9d61cc5a3"
   },
   "outputs": [
    {
     "data": {
      "text/plain": [
       "['Walrus', 'Black Rhinoceros', 'Saltwater Crocodile', 'Water Buffalo', 'Whale']"
      ]
     },
     "execution_count": 137,
     "metadata": {},
     "output_type": "execute_result"
    }
   ],
   "source": [
    "large_animals"
   ]
  },
  {
   "cell_type": "code",
   "execution_count": null,
   "id": "c14337da",
   "metadata": {
    "id": "c14337da"
   },
   "outputs": [],
   "source": [
    "# extending via concatenation of a list\n",
    "large_animals += ['Bear', 'Large Human']"
   ]
  },
  {
   "cell_type": "code",
   "execution_count": null,
   "id": "V6Ne7L69PJfh",
   "metadata": {
    "colab": {
     "base_uri": "https://localhost:8080/"
    },
    "executionInfo": {
     "elapsed": 96,
     "status": "ok",
     "timestamp": 1751998350272,
     "user": {
      "displayName": "Alibek Kruglikov",
      "userId": "12107629968185180200"
     },
     "user_tz": 240
    },
    "id": "V6Ne7L69PJfh",
    "outputId": "3740c5ec-2fd7-4bcf-96b1-d56b05bf55d7"
   },
   "outputs": [
    {
     "data": {
      "text/plain": [
       "['Walrus',\n",
       " 'Black Rhinoceros',\n",
       " 'Saltwater Crocodile',\n",
       " 'Water Buffalo',\n",
       " 'Whale',\n",
       " 'Bear',\n",
       " 'Large Human']"
      ]
     },
     "execution_count": 139,
     "metadata": {},
     "output_type": "execute_result"
    }
   ],
   "source": [
    "large_animals"
   ]
  },
  {
   "cell_type": "code",
   "execution_count": null,
   "id": "vu37qckKPuXp",
   "metadata": {
    "id": "vu37qckKPuXp"
   },
   "outputs": [],
   "source": [
    "# sort a list\n",
    "large_animals.sort()"
   ]
  },
  {
   "cell_type": "code",
   "execution_count": null,
   "id": "A84lju5cPynT",
   "metadata": {
    "colab": {
     "base_uri": "https://localhost:8080/"
    },
    "executionInfo": {
     "elapsed": 34,
     "status": "ok",
     "timestamp": 1751998475750,
     "user": {
      "displayName": "Alibek Kruglikov",
      "userId": "12107629968185180200"
     },
     "user_tz": 240
    },
    "id": "A84lju5cPynT",
    "outputId": "dc916ea4-94db-4edb-d01d-b22816888b65"
   },
   "outputs": [
    {
     "data": {
      "text/plain": [
       "['Bear',\n",
       " 'Black Rhinoceros',\n",
       " 'Large Human',\n",
       " 'Saltwater Crocodile',\n",
       " 'Walrus',\n",
       " 'Water Buffalo',\n",
       " 'Whale',\n",
       " 'Whale']"
      ]
     },
     "execution_count": 144,
     "metadata": {},
     "output_type": "execute_result"
    }
   ],
   "source": [
    "large_animals"
   ]
  },
  {
   "cell_type": "code",
   "execution_count": null,
   "id": "780a9cb8",
   "metadata": {
    "colab": {
     "base_uri": "https://localhost:8080/"
    },
    "executionInfo": {
     "elapsed": 44,
     "status": "ok",
     "timestamp": 1751998565704,
     "user": {
      "displayName": "Alibek Kruglikov",
      "userId": "12107629968185180200"
     },
     "user_tz": 240
    },
    "id": "780a9cb8",
    "outputId": "0a48d573-84d4-4827-c04e-8aeb1c4a26b0"
   },
   "outputs": [
    {
     "data": {
      "text/plain": [
       "[['Elephant', 'Tiger', 'Dog', ['Cat', 'Big Cat']],\n",
       " ['Whale', 'Dolphin', 'Shark', 'Eel'],\n",
       " ['Eagle', 'Robin']]"
      ]
     },
     "execution_count": 145,
     "metadata": {},
     "output_type": "execute_result"
    }
   ],
   "source": [
    "# Lists within lists\n",
    "animal_kingdom = [\n",
    "  ['Elephant', 'Tiger', 'Dog', ['Cat', 'Big Cat']],\n",
    "  ['Whale', 'Dolphin', 'Shark', 'Eel'],\n",
    "  ['Eagle', 'Robin']\n",
    "]\n",
    "animal_kingdom"
   ]
  },
  {
   "cell_type": "code",
   "execution_count": null,
   "id": "UJKmJiYTy9ZG",
   "metadata": {
    "colab": {
     "base_uri": "https://localhost:8080/",
     "height": 36
    },
    "executionInfo": {
     "elapsed": 51,
     "status": "ok",
     "timestamp": 1751998617756,
     "user": {
      "displayName": "Alibek Kruglikov",
      "userId": "12107629968185180200"
     },
     "user_tz": 240
    },
    "id": "UJKmJiYTy9ZG",
    "outputId": "c0e0d36c-bc7d-457a-b68d-bf10a6c111ff"
   },
   "outputs": [
    {
     "data": {
      "application/vnd.google.colaboratory.intrinsic+json": {
       "type": "string"
      },
      "text/plain": [
       "'Dolphin'"
      ]
     },
     "execution_count": 147,
     "metadata": {},
     "output_type": "execute_result"
    }
   ],
   "source": [
    "# indexing practice - how to access the dolphin?\n",
    "animal_kingdom[1][1]"
   ]
  },
  {
   "cell_type": "code",
   "execution_count": null,
   "id": "W8qBh-9uywTm",
   "metadata": {
    "colab": {
     "base_uri": "https://localhost:8080/",
     "height": 36
    },
    "executionInfo": {
     "elapsed": 67,
     "status": "ok",
     "timestamp": 1751998698920,
     "user": {
      "displayName": "Alibek Kruglikov",
      "userId": "12107629968185180200"
     },
     "user_tz": 240
    },
    "id": "W8qBh-9uywTm",
    "outputId": "20d7f539-51c1-4cf0-d18f-e152db04d5da"
   },
   "outputs": [
    {
     "data": {
      "application/vnd.google.colaboratory.intrinsic+json": {
       "type": "string"
      },
      "text/plain": [
       "'Cat'"
      ]
     },
     "execution_count": 152,
     "metadata": {},
     "output_type": "execute_result"
    }
   ],
   "source": [
    "# how about cat?\n",
    "animal_kingdom[0][3][0]"
   ]
  },
  {
   "cell_type": "code",
   "execution_count": null,
   "id": "TOHRsSkdQsnx",
   "metadata": {
    "colab": {
     "base_uri": "https://localhost:8080/"
    },
    "executionInfo": {
     "elapsed": 43,
     "status": "ok",
     "timestamp": 1751998791321,
     "user": {
      "displayName": "Alibek Kruglikov",
      "userId": "12107629968185180200"
     },
     "user_tz": 240
    },
    "id": "TOHRsSkdQsnx",
    "outputId": "e24a25f7-9591-475d-fbad-8cec1354473a"
   },
   "outputs": [
    {
     "data": {
      "text/plain": [
       "0"
      ]
     },
     "execution_count": 157,
     "metadata": {},
     "output_type": "execute_result"
    }
   ],
   "source": [
    "# animal_kingdom.index('Cat') # doesn't work\n",
    "\n",
    "animal_kingdom.index(['Elephant', 'Tiger', 'Dog', ['Cat', 'Big Cat']])"
   ]
  },
  {
   "cell_type": "code",
   "execution_count": null,
   "id": "WAdSKIT8RB3G",
   "metadata": {
    "colab": {
     "base_uri": "https://localhost:8080/"
    },
    "executionInfo": {
     "elapsed": 69,
     "status": "ok",
     "timestamp": 1751998815983,
     "user": {
      "displayName": "Alibek Kruglikov",
      "userId": "12107629968185180200"
     },
     "user_tz": 240
    },
    "id": "WAdSKIT8RB3G",
    "outputId": "c69f6c16-3d1a-4f92-a451-8b66633e5ad8"
   },
   "outputs": [
    {
     "data": {
      "text/plain": [
       "3"
      ]
     },
     "execution_count": 158,
     "metadata": {},
     "output_type": "execute_result"
    }
   ],
   "source": [
    "animal_kingdom[0].index(['Cat', 'Big Cat'])"
   ]
  },
  {
   "cell_type": "code",
   "execution_count": null,
   "id": "evodheofRByp",
   "metadata": {
    "colab": {
     "base_uri": "https://localhost:8080/"
    },
    "executionInfo": {
     "elapsed": 33,
     "status": "ok",
     "timestamp": 1751998829877,
     "user": {
      "displayName": "Alibek Kruglikov",
      "userId": "12107629968185180200"
     },
     "user_tz": 240
    },
    "id": "evodheofRByp",
    "outputId": "9d5f9cdb-e912-498e-ced3-e2653be4fd31"
   },
   "outputs": [
    {
     "data": {
      "text/plain": [
       "0"
      ]
     },
     "execution_count": 159,
     "metadata": {},
     "output_type": "execute_result"
    }
   ],
   "source": [
    "animal_kingdom[0][3].index('Cat')"
   ]
  },
  {
   "cell_type": "code",
   "execution_count": null,
   "id": "pSPmw3C4RKzJ",
   "metadata": {
    "colab": {
     "base_uri": "https://localhost:8080/",
     "height": 36
    },
    "executionInfo": {
     "elapsed": 72,
     "status": "ok",
     "timestamp": 1751998837524,
     "user": {
      "displayName": "Alibek Kruglikov",
      "userId": "12107629968185180200"
     },
     "user_tz": 240
    },
    "id": "pSPmw3C4RKzJ",
    "outputId": "f2d55aa9-1cec-4e3d-9137-388914e0a317"
   },
   "outputs": [
    {
     "data": {
      "application/vnd.google.colaboratory.intrinsic+json": {
       "type": "string"
      },
      "text/plain": [
       "'Cat'"
      ]
     },
     "execution_count": 160,
     "metadata": {},
     "output_type": "execute_result"
    }
   ],
   "source": [
    "animal_kingdom[0][3][0]"
   ]
  },
  {
   "cell_type": "markdown",
   "id": "b8e5061a",
   "metadata": {
    "id": "b8e5061a"
   },
   "source": [
    "#### String and List similarities"
   ]
  },
  {
   "cell_type": "code",
   "execution_count": null,
   "id": "0d6000e9",
   "metadata": {
    "colab": {
     "base_uri": "https://localhost:8080/",
     "height": 36
    },
    "executionInfo": {
     "elapsed": 36,
     "status": "ok",
     "timestamp": 1751998888305,
     "user": {
      "displayName": "Alibek Kruglikov",
      "userId": "12107629968185180200"
     },
     "user_tz": 240
    },
    "id": "0d6000e9",
    "outputId": "51279f17-ec1c-419c-e9ec-f8082e02aa55"
   },
   "outputs": [
    {
     "data": {
      "application/vnd.google.colaboratory.intrinsic+json": {
       "type": "string"
      },
      "text/plain": [
       "'this is really symbols just a list of symbols called characters'"
      ]
     },
     "execution_count": 161,
     "metadata": {},
     "output_type": "execute_result"
    }
   ],
   "source": [
    "# slices can be returned from strings the same as lists\n",
    "a = 'this is really symbols just a list of symbols called characters'\n",
    "a"
   ]
  },
  {
   "cell_type": "code",
   "execution_count": null,
   "id": "pcvD5CQBhD3E",
   "metadata": {
    "colab": {
     "base_uri": "https://localhost:8080/",
     "height": 36
    },
    "executionInfo": {
     "elapsed": 101,
     "status": "ok",
     "timestamp": 1751998921006,
     "user": {
      "displayName": "Alibek Kruglikov",
      "userId": "12107629968185180200"
     },
     "user_tz": 240
    },
    "id": "pcvD5CQBhD3E",
    "outputId": "1abb194c-a713-4333-80ab-ee4698f1bfa7"
   },
   "outputs": [
    {
     "data": {
      "application/vnd.google.colaboratory.intrinsic+json": {
       "type": "string"
      },
      "text/plain": [
       "'a'"
      ]
     },
     "execution_count": 164,
     "metadata": {},
     "output_type": "execute_result"
    }
   ],
   "source": [
    "# access a character\n",
    "a[10]"
   ]
  },
  {
   "cell_type": "code",
   "execution_count": null,
   "id": "3jUrJlO8hEYG",
   "metadata": {
    "colab": {
     "base_uri": "https://localhost:8080/",
     "height": 36
    },
    "executionInfo": {
     "elapsed": 28,
     "status": "ok",
     "timestamp": 1751998934100,
     "user": {
      "displayName": "Alibek Kruglikov",
      "userId": "12107629968185180200"
     },
     "user_tz": 240
    },
    "id": "3jUrJlO8hEYG",
    "outputId": "4e276cb0-630f-4ede-ec75-f91cc95a92a9"
   },
   "outputs": [
    {
     "data": {
      "application/vnd.google.colaboratory.intrinsic+json": {
       "type": "string"
      },
      "text/plain": [
       "'ayyo '"
      ]
     },
     "execution_count": 165,
     "metadata": {},
     "output_type": "execute_result"
    }
   ],
   "source": [
    "# access a slice\n",
    "a[10:25:3]"
   ]
  },
  {
   "cell_type": "code",
   "execution_count": null,
   "id": "EJBFq8K8hEzR",
   "metadata": {
    "colab": {
     "base_uri": "https://localhost:8080/"
    },
    "executionInfo": {
     "elapsed": 90,
     "status": "ok",
     "timestamp": 1751998950777,
     "user": {
      "displayName": "Alibek Kruglikov",
      "userId": "12107629968185180200"
     },
     "user_tz": 240
    },
    "id": "EJBFq8K8hEzR",
    "outputId": "7a5e3afa-a7ce-4f1f-c5e5-fc92b9266b3f"
   },
   "outputs": [
    {
     "data": {
      "text/plain": [
       "['this',\n",
       " 'is',\n",
       " 'really',\n",
       " 'symbols',\n",
       " 'just',\n",
       " 'a',\n",
       " 'list',\n",
       " 'of',\n",
       " 'symbols',\n",
       " 'called',\n",
       " 'characters']"
      ]
     },
     "execution_count": 167,
     "metadata": {},
     "output_type": "execute_result"
    }
   ],
   "source": [
    "# Splitting strings into lists suing .split()\n",
    "a.split()"
   ]
  },
  {
   "cell_type": "code",
   "execution_count": null,
   "id": "yx8PuaEnhClF",
   "metadata": {
    "colab": {
     "base_uri": "https://localhost:8080/"
    },
    "executionInfo": {
     "elapsed": 56,
     "status": "ok",
     "timestamp": 1751999021257,
     "user": {
      "displayName": "Alibek Kruglikov",
      "userId": "12107629968185180200"
     },
     "user_tz": 240
    },
    "id": "yx8PuaEnhClF",
    "outputId": "aac1cb57-04a8-4858-88b2-884179c86bd0"
   },
   "outputs": [
    {
     "data": {
      "text/plain": [
       "['this is really symbols ', ' a list of symbols called characters']"
      ]
     },
     "execution_count": 169,
     "metadata": {},
     "output_type": "execute_result"
    }
   ],
   "source": [
    "# Splitting by a substring\n",
    "a.split('just')"
   ]
  },
  {
   "cell_type": "markdown",
   "id": "fd0d5ea9",
   "metadata": {
    "id": "fd0d5ea9"
   },
   "source": [
    "***"
   ]
  },
  {
   "cell_type": "markdown",
   "id": "cb2a2ca0",
   "metadata": {
    "id": "cb2a2ca0"
   },
   "source": [
    "## Tuple\n",
    "- **immutable** and **ordered** objects\n",
    "- Similar to a list, but without some funcitonalities.\n",
    "- indexing and splitting similar to lists\n",
    "- More efficient"
   ]
  },
  {
   "cell_type": "code",
   "execution_count": null,
   "id": "f8939ab8",
   "metadata": {
    "id": "f8939ab8"
   },
   "outputs": [],
   "source": [
    "# Definition - parentheses (round brackets) and elements separated by commas\n",
    "a = ('Alibek', 'Canada', 'python')"
   ]
  },
  {
   "cell_type": "code",
   "execution_count": null,
   "id": "Qn12wkZTZDod",
   "metadata": {
    "colab": {
     "base_uri": "https://localhost:8080/"
    },
    "executionInfo": {
     "elapsed": 26,
     "status": "ok",
     "timestamp": 1751999504375,
     "user": {
      "displayName": "Alibek Kruglikov",
      "userId": "12107629968185180200"
     },
     "user_tz": 240
    },
    "id": "Qn12wkZTZDod",
    "outputId": "e62a62f9-e74f-4107-e001-e6330d8a9d9c"
   },
   "outputs": [
    {
     "data": {
      "text/plain": [
       "('Alibek', 'Canada', 'python')"
      ]
     },
     "execution_count": 196,
     "metadata": {},
     "output_type": "execute_result"
    }
   ],
   "source": [
    "a"
   ]
  },
  {
   "cell_type": "code",
   "execution_count": null,
   "id": "Nhlbv_PGhMve",
   "metadata": {
    "colab": {
     "base_uri": "https://localhost:8080/"
    },
    "executionInfo": {
     "elapsed": 34,
     "status": "ok",
     "timestamp": 1751999162333,
     "user": {
      "displayName": "Alibek Kruglikov",
      "userId": "12107629968185180200"
     },
     "user_tz": 240
    },
    "id": "Nhlbv_PGhMve",
    "outputId": "32c89f8f-ab75-439e-ea23-4aae11101290"
   },
   "outputs": [
    {
     "data": {
      "text/plain": [
       "3"
      ]
     },
     "execution_count": 172,
     "metadata": {},
     "output_type": "execute_result"
    }
   ],
   "source": [
    "# Getting the size of a tuple (or list) usng len()\n",
    "len(a)"
   ]
  },
  {
   "cell_type": "code",
   "execution_count": null,
   "id": "0hLw0S5Khb7I",
   "metadata": {
    "colab": {
     "base_uri": "https://localhost:8080/",
     "height": 36
    },
    "executionInfo": {
     "elapsed": 77,
     "status": "ok",
     "timestamp": 1751999167980,
     "user": {
      "displayName": "Alibek Kruglikov",
      "userId": "12107629968185180200"
     },
     "user_tz": 240
    },
    "id": "0hLw0S5Khb7I",
    "outputId": "4a5fd284-027b-4e42-9526-442cab214cad"
   },
   "outputs": [
    {
     "data": {
      "application/vnd.google.colaboratory.intrinsic+json": {
       "type": "string"
      },
      "text/plain": [
       "'Canada'"
      ]
     },
     "execution_count": 173,
     "metadata": {},
     "output_type": "execute_result"
    }
   ],
   "source": [
    "# Accessing one element\n",
    "a[1]"
   ]
  },
  {
   "cell_type": "code",
   "execution_count": null,
   "id": "Y-rUCvxXhcgH",
   "metadata": {
    "colab": {
     "base_uri": "https://localhost:8080/"
    },
    "executionInfo": {
     "elapsed": 50,
     "status": "ok",
     "timestamp": 1751999177506,
     "user": {
      "displayName": "Alibek Kruglikov",
      "userId": "12107629968185180200"
     },
     "user_tz": 240
    },
    "id": "Y-rUCvxXhcgH",
    "outputId": "126b5937-b71d-4dbf-de50-9a5a3d916bf2"
   },
   "outputs": [
    {
     "data": {
      "text/plain": [
       "('Canada', 'python')"
      ]
     },
     "execution_count": 174,
     "metadata": {},
     "output_type": "execute_result"
    }
   ],
   "source": [
    "# Accessing a sequence of entries using slicing\n",
    "a[1:]"
   ]
  },
  {
   "cell_type": "code",
   "execution_count": null,
   "id": "hIgl0AaYhc3I",
   "metadata": {
    "id": "hIgl0AaYhc3I"
   },
   "outputs": [],
   "source": [
    "# \"Unpacking\" tuples (or lists)\n",
    "name, country, language = a"
   ]
  },
  {
   "cell_type": "code",
   "execution_count": null,
   "id": "C_9TXQ1iTXK2",
   "metadata": {
    "colab": {
     "base_uri": "https://localhost:8080/",
     "height": 36
    },
    "executionInfo": {
     "elapsed": 51,
     "status": "ok",
     "timestamp": 1751999197121,
     "user": {
      "displayName": "Alibek Kruglikov",
      "userId": "12107629968185180200"
     },
     "user_tz": 240
    },
    "id": "C_9TXQ1iTXK2",
    "outputId": "998d80b5-062e-4a6b-c60b-36bf7e40a1dd"
   },
   "outputs": [
    {
     "data": {
      "application/vnd.google.colaboratory.intrinsic+json": {
       "type": "string"
      },
      "text/plain": [
       "'Alibek'"
      ]
     },
     "execution_count": 176,
     "metadata": {},
     "output_type": "execute_result"
    }
   ],
   "source": [
    "name"
   ]
  },
  {
   "cell_type": "code",
   "execution_count": null,
   "id": "ZUArfUkkZw6N",
   "metadata": {
    "colab": {
     "base_uri": "https://localhost:8080/",
     "height": 36
    },
    "executionInfo": {
     "elapsed": 60,
     "status": "ok",
     "timestamp": 1751999200030,
     "user": {
      "displayName": "Alibek Kruglikov",
      "userId": "12107629968185180200"
     },
     "user_tz": 240
    },
    "id": "ZUArfUkkZw6N",
    "outputId": "b1849125-c07d-4ec7-c863-7b1cd0318dcd"
   },
   "outputs": [
    {
     "data": {
      "application/vnd.google.colaboratory.intrinsic+json": {
       "type": "string"
      },
      "text/plain": [
       "'Canada'"
      ]
     },
     "execution_count": 177,
     "metadata": {},
     "output_type": "execute_result"
    }
   ],
   "source": [
    "country"
   ]
  },
  {
   "cell_type": "code",
   "execution_count": null,
   "id": "ids2vt1GhdQG",
   "metadata": {
    "colab": {
     "base_uri": "https://localhost:8080/"
    },
    "executionInfo": {
     "elapsed": 56,
     "status": "ok",
     "timestamp": 1751999235965,
     "user": {
      "displayName": "Alibek Kruglikov",
      "userId": "12107629968185180200"
     },
     "user_tz": 240
    },
    "id": "ids2vt1GhdQG",
    "outputId": "5cc0b0e6-2b0d-46dc-c4fd-9907391cbaeb"
   },
   "outputs": [
    {
     "data": {
      "text/plain": [
       "('Alibek', 'Canada', 'python', 1, 2, 3)"
      ]
     },
     "execution_count": 178,
     "metadata": {},
     "output_type": "execute_result"
    }
   ],
   "source": [
    "# Combining tuples\n",
    "a + (1,2,3)"
   ]
  },
  {
   "cell_type": "code",
   "execution_count": null,
   "id": "oECKYRdOSvbE",
   "metadata": {
    "colab": {
     "base_uri": "https://localhost:8080/"
    },
    "executionInfo": {
     "elapsed": 42,
     "status": "ok",
     "timestamp": 1751999412278,
     "user": {
      "displayName": "Alibek Kruglikov",
      "userId": "12107629968185180200"
     },
     "user_tz": 240
    },
    "id": "oECKYRdOSvbE",
    "outputId": "25f76f38-da7f-480d-c6d5-8b35160c4119"
   },
   "outputs": [
    {
     "data": {
      "text/plain": [
       "('Alibek', 'Canada', 'python', 1, 2, 3)"
      ]
     },
     "execution_count": 187,
     "metadata": {},
     "output_type": "execute_result"
    }
   ],
   "source": [
    "a"
   ]
  },
  {
   "cell_type": "code",
   "execution_count": null,
   "id": "XToooJpQUA9n",
   "metadata": {
    "id": "XToooJpQUA9n"
   },
   "outputs": [],
   "source": [
    "# this is re-creating, not editing\n",
    "a = ('Mitchell', 1,2,3) + a"
   ]
  },
  {
   "cell_type": "code",
   "execution_count": null,
   "id": "pz93SexjaDAu",
   "metadata": {
    "colab": {
     "base_uri": "https://localhost:8080/"
    },
    "executionInfo": {
     "elapsed": 109,
     "status": "ok",
     "timestamp": 1751999518922,
     "user": {
      "displayName": "Alibek Kruglikov",
      "userId": "12107629968185180200"
     },
     "user_tz": 240
    },
    "id": "pz93SexjaDAu",
    "outputId": "d1494efd-d34a-409f-c02c-6bedf019652e"
   },
   "outputs": [
    {
     "data": {
      "text/plain": [
       "('Alibek', 'Canada', 'python')"
      ]
     },
     "execution_count": 197,
     "metadata": {},
     "output_type": "execute_result"
    }
   ],
   "source": [
    "a"
   ]
  },
  {
   "cell_type": "code",
   "execution_count": null,
   "id": "AL7fj1-4S9kP",
   "metadata": {
    "id": "AL7fj1-4S9kP"
   },
   "outputs": [],
   "source": [
    "# a[0] = 'Mitchell'"
   ]
  },
  {
   "cell_type": "code",
   "execution_count": null,
   "id": "IJ2U0QKUhbAw",
   "metadata": {
    "colab": {
     "base_uri": "https://localhost:8080/"
    },
    "executionInfo": {
     "elapsed": 60,
     "status": "ok",
     "timestamp": 1751999555187,
     "user": {
      "displayName": "Alibek Kruglikov",
      "userId": "12107629968185180200"
     },
     "user_tz": 240
    },
    "id": "IJ2U0QKUhbAw",
    "outputId": "1051d29f-d454-4266-a7d3-c9f537b22cad"
   },
   "outputs": [
    {
     "data": {
      "text/plain": [
       "True"
      ]
     },
     "execution_count": 199,
     "metadata": {},
     "output_type": "execute_result"
    }
   ],
   "source": [
    "# Checking membership using in - this is faster with tuples\n",
    "'python' in a"
   ]
  },
  {
   "cell_type": "code",
   "execution_count": null,
   "id": "wn5bk1S3haVy",
   "metadata": {
    "id": "wn5bk1S3haVy"
   },
   "outputs": [],
   "source": [
    "# You cannot modify tuple objects\n",
    "# They are 'immutable' (this is the essential difference from lists)\n",
    "# a[1] = 'SQL'"
   ]
  },
  {
   "cell_type": "markdown",
   "id": "997d7a83",
   "metadata": {
    "id": "997d7a83"
   },
   "source": [
    "\n",
    "\n",
    "It might seem weird that tuples are essentially just lists that can't be modified. What are they good for?  When performance isn't an issue (small amounts of data), it's all about code readability.\n",
    "\n",
    "When you use a tuple, you're telling the people who read your code \"this variable will not change\".\n",
    "In practice, people use lists for \"homogeneous\" data (i.e. a list of strings), whereas the elements in tuples are often \"heterogeneous\" and might include different data types and/or concepts.\n",
    "\n",
    "In the example above, the first entry represents my name, the second entry represents the programming language I'm using, and the third entry represents the country I live in. It would be **conceptually** strange to define these different concepts in the same list - since lists are usually homogeneous data. Tuples can be used as \"keys\" in dictionary data structures (which we'll see below), whereas lists cannot.\n",
    "\n",
    "These differences communicate the objects's function, and helps make your code more understandable.\n"
   ]
  },
  {
   "cell_type": "markdown",
   "id": "aaeab8d7",
   "metadata": {
    "id": "aaeab8d7"
   },
   "source": [
    "***"
   ]
  },
  {
   "cell_type": "markdown",
   "id": "140ee287",
   "metadata": {
    "id": "140ee287"
   },
   "source": [
    "## Dictionary (dict)\n",
    "\n",
    "- Similar to lists, but elements are accessed using 'keys' rather than order.\n",
    "- 'keys' can take on numerous data types (str, int, floats, tuples)\n",
    "    - as long as the data type is ['hashable'](https://towardsdatascience.com/iterable-ordered-mutable-and-hashable-python-objects-explained-1254c9b9e421#:~:text=In%20particular%2C%20all%20the%20primitive,sets%2C%20and%20bytearrays%20are%20unhashable.)"
   ]
  },
  {
   "cell_type": "code",
   "execution_count": null,
   "id": "25c88531",
   "metadata": {
    "id": "25c88531"
   },
   "outputs": [],
   "source": [
    "# definition - braces, keys and values separated by colons,\n",
    "# commas between key and value pairs\n",
    "x = {'Student_ID': [1,2,3],\n",
    "    'Student_Name': 42,\n",
    "    'degree': ['marketing', 'computer science', 'snake studies']}"
   ]
  },
  {
   "cell_type": "code",
   "execution_count": null,
   "id": "Fm2z_LaNYvd0",
   "metadata": {
    "colab": {
     "base_uri": "https://localhost:8080/"
    },
    "executionInfo": {
     "elapsed": 66,
     "status": "ok",
     "timestamp": 1751999705748,
     "user": {
      "displayName": "Alibek Kruglikov",
      "userId": "12107629968185180200"
     },
     "user_tz": 240
    },
    "id": "Fm2z_LaNYvd0",
    "outputId": "bb184422-7c3a-433b-8d4a-0c7953b8ba4b"
   },
   "outputs": [
    {
     "data": {
      "text/plain": [
       "42"
      ]
     },
     "execution_count": 204,
     "metadata": {},
     "output_type": "execute_result"
    }
   ],
   "source": [
    "# access a value\n",
    "x['Student_Name']"
   ]
  },
  {
   "cell_type": "code",
   "execution_count": null,
   "id": "0537aba9",
   "metadata": {
    "id": "0537aba9"
   },
   "outputs": [],
   "source": [
    "# modifying values\n",
    "x['Student_Name'] = 'Homer Simpson'"
   ]
  },
  {
   "cell_type": "code",
   "execution_count": null,
   "id": "46Ku2Wl4dtVS",
   "metadata": {
    "colab": {
     "base_uri": "https://localhost:8080/"
    },
    "executionInfo": {
     "elapsed": 87,
     "status": "ok",
     "timestamp": 1751999721883,
     "user": {
      "displayName": "Alibek Kruglikov",
      "userId": "12107629968185180200"
     },
     "user_tz": 240
    },
    "id": "46Ku2Wl4dtVS",
    "outputId": "84dfe870-4a28-4673-8adf-972e1a574ef1"
   },
   "outputs": [
    {
     "data": {
      "text/plain": [
       "{'Student_ID': [1, 2, 3],\n",
       " 'Student_Name': 'Homer Simpson',\n",
       " 'degree': ['marketing', 'computer science', 'snake studies']}"
      ]
     },
     "execution_count": 206,
     "metadata": {},
     "output_type": "execute_result"
    }
   ],
   "source": [
    "x"
   ]
  },
  {
   "cell_type": "code",
   "execution_count": null,
   "id": "9dWElYMFtiCl",
   "metadata": {
    "id": "9dWElYMFtiCl"
   },
   "outputs": [],
   "source": [
    "# adding keys and values\n",
    "x['hobbies'] = ['donut eating', 'sleeping']"
   ]
  },
  {
   "cell_type": "code",
   "execution_count": null,
   "id": "1XG7FTPrd1Yv",
   "metadata": {
    "colab": {
     "base_uri": "https://localhost:8080/"
    },
    "executionInfo": {
     "elapsed": 50,
     "status": "ok",
     "timestamp": 1751999755585,
     "user": {
      "displayName": "Alibek Kruglikov",
      "userId": "12107629968185180200"
     },
     "user_tz": 240
    },
    "id": "1XG7FTPrd1Yv",
    "outputId": "9e6a6c1c-f4c7-48b9-f5cc-ca5907aa5fbb"
   },
   "outputs": [
    {
     "data": {
      "text/plain": [
       "{'Student_ID': [1, 2, 3],\n",
       " 'Student_Name': 'Homer Simpson',\n",
       " 'degree': ['marketing', 'computer science', 'snake studies'],\n",
       " 'hobbies': ['donut eating', 'sleeping']}"
      ]
     },
     "execution_count": 208,
     "metadata": {},
     "output_type": "execute_result"
    }
   ],
   "source": [
    "x"
   ]
  },
  {
   "cell_type": "code",
   "execution_count": null,
   "id": "c1f5fa7e",
   "metadata": {
    "colab": {
     "base_uri": "https://localhost:8080/"
    },
    "executionInfo": {
     "elapsed": 80,
     "status": "ok",
     "timestamp": 1751999775556,
     "user": {
      "displayName": "Alibek Kruglikov",
      "userId": "12107629968185180200"
     },
     "user_tz": 240
    },
    "id": "c1f5fa7e",
    "outputId": "81ed9692-0979-4421-97ec-f8f001292df7"
   },
   "outputs": [
    {
     "data": {
      "text/plain": [
       "dict_keys(['Student_ID', 'Student_Name', 'degree', 'hobbies'])"
      ]
     },
     "execution_count": 209,
     "metadata": {},
     "output_type": "execute_result"
    }
   ],
   "source": [
    "# retrieving keys\n",
    "x.keys()"
   ]
  },
  {
   "cell_type": "code",
   "execution_count": null,
   "id": "1f423d28",
   "metadata": {
    "colab": {
     "base_uri": "https://localhost:8080/"
    },
    "executionInfo": {
     "elapsed": 94,
     "status": "ok",
     "timestamp": 1751999800233,
     "user": {
      "displayName": "Alibek Kruglikov",
      "userId": "12107629968185180200"
     },
     "user_tz": 240
    },
    "id": "1f423d28",
    "outputId": "45db3fd1-943d-4448-94e3-13745904e6ef"
   },
   "outputs": [
    {
     "data": {
      "text/plain": [
       "dict_values([[1, 2, 3], 'Homer Simpson', ['marketing', 'computer science', 'snake studies'], ['donut eating', 'sleeping']])"
      ]
     },
     "execution_count": 210,
     "metadata": {},
     "output_type": "execute_result"
    }
   ],
   "source": [
    "# retrieving values\n",
    "x.values()"
   ]
  },
  {
   "cell_type": "code",
   "execution_count": null,
   "id": "3f2a4650",
   "metadata": {
    "colab": {
     "base_uri": "https://localhost:8080/"
    },
    "executionInfo": {
     "elapsed": 54,
     "status": "ok",
     "timestamp": 1751999812744,
     "user": {
      "displayName": "Alibek Kruglikov",
      "userId": "12107629968185180200"
     },
     "user_tz": 240
    },
    "id": "3f2a4650",
    "outputId": "00acee3e-c97f-4ddb-df14-6f74260e7e26"
   },
   "outputs": [
    {
     "data": {
      "text/plain": [
       "dict_items([('Student_ID', [1, 2, 3]), ('Student_Name', 'Homer Simpson'), ('degree', ['marketing', 'computer science', 'snake studies']), ('hobbies', ['donut eating', 'sleeping'])])"
      ]
     },
     "execution_count": 211,
     "metadata": {},
     "output_type": "execute_result"
    }
   ],
   "source": [
    "# retrieving keys and values (items)\n",
    "x.items()"
   ]
  },
  {
   "cell_type": "markdown",
   "id": "d8ca1111",
   "metadata": {
    "id": "d8ca1111"
   },
   "source": [
    "Note: Dictionaries should not be used as 'ordered' data types like lists, and it is dangerous to write your code in a way that uses the order of a dictionary.\n",
    "\n",
    "It makes no sense to say that the 'student_name'th entry comes before the 'degree'th entry, even though this is how we have written it above."
   ]
  },
  {
   "cell_type": "markdown",
   "id": "95be87ab",
   "metadata": {
    "id": "95be87ab"
   },
   "source": [
    "***"
   ]
  },
  {
   "cell_type": "markdown",
   "id": "882f5149",
   "metadata": {
    "id": "882f5149"
   },
   "source": [
    "### Sets\n",
    "\n",
    "Data structure that:\n",
    "- are unordered, meaning there is no element 0 and element 1, and\n",
    "- The values contained are unique - meaning there are no duplicate entries."
   ]
  },
  {
   "cell_type": "code",
   "execution_count": null,
   "id": "91fd81ce",
   "metadata": {
    "colab": {
     "base_uri": "https://localhost:8080/"
    },
    "executionInfo": {
     "elapsed": 45,
     "status": "ok",
     "timestamp": 1751999888973,
     "user": {
      "displayName": "Alibek Kruglikov",
      "userId": "12107629968185180200"
     },
     "user_tz": 240
    },
    "id": "91fd81ce",
    "outputId": "b56cbd06-8a29-46b0-ab87-6e9299fac97b"
   },
   "outputs": [
    {
     "data": {
      "text/plain": [
       "{1.0, 2, 'apPle', 'apple'}"
      ]
     },
     "execution_count": 212,
     "metadata": {},
     "output_type": "execute_result"
    }
   ],
   "source": [
    "# definition - braces and commas between elements\n",
    "my_set = {2, 1.0, 'apple', 1.0, 'apPle'}\n",
    "\n",
    "my_set"
   ]
  },
  {
   "cell_type": "code",
   "execution_count": null,
   "id": "aZmxTAPAudCi",
   "metadata": {
    "colab": {
     "base_uri": "https://localhost:8080/"
    },
    "executionInfo": {
     "elapsed": 18,
     "status": "ok",
     "timestamp": 1752000245241,
     "user": {
      "displayName": "Alibek Kruglikov",
      "userId": "12107629968185180200"
     },
     "user_tz": 240
    },
    "id": "aZmxTAPAudCi",
    "outputId": "819f44c0-a6a3-4be9-98bf-943477fe9947"
   },
   "outputs": [
    {
     "data": {
      "text/plain": [
       "{1, 2, 4, 5, 6, 'hello'}"
      ]
     },
     "execution_count": 214,
     "metadata": {},
     "output_type": "execute_result"
    }
   ],
   "source": [
    "# delete duplicates from a list using set()\n",
    "my_list = [2,4,5,1,2,6,4.0,'hello','hello']\n",
    "\n",
    "set(my_list)"
   ]
  },
  {
   "cell_type": "code",
   "execution_count": null,
   "id": "tnwlD8kdWjyI",
   "metadata": {
    "colab": {
     "base_uri": "https://localhost:8080/"
    },
    "executionInfo": {
     "elapsed": 35,
     "status": "ok",
     "timestamp": 1752000249489,
     "user": {
      "displayName": "Alibek Kruglikov",
      "userId": "12107629968185180200"
     },
     "user_tz": 240
    },
    "id": "tnwlD8kdWjyI",
    "outputId": "825a97ce-518e-483c-9c43-21893ded4825"
   },
   "outputs": [
    {
     "data": {
      "text/plain": [
       "[2, 4, 5, 1, 2, 6, 4.0, 'hello', 'hello']"
      ]
     },
     "execution_count": 215,
     "metadata": {},
     "output_type": "execute_result"
    }
   ],
   "source": [
    "my_list"
   ]
  },
  {
   "cell_type": "markdown",
   "id": "8e27bec4",
   "metadata": {
    "id": "8e27bec4"
   },
   "source": [
    "### Summary\n",
    "\n",
    "|Data Structure\t| Preserves order | Mutable | Symbol| Can contain duplicates | Can be sliced |\n",
    "|---------|------|------|------|------|------|\n",
    "|str\t|✓\t|☓\t|''  , \"\"|\t✓|✓|\n",
    "|list\t|✓\t|✓\t|[] |\t✓|✓|\n",
    "|tuple\t|✓\t|☓\t|() |\t✓|✓|\n",
    "|set\t|☓\t|✓\t|{} |\t☓|☓|\n",
    "|dict  |✓\t|✓\t|{ key : value} | \t☓| ☓|"
   ]
  },
  {
   "cell_type": "markdown",
   "id": "b846ecc8",
   "metadata": {
    "id": "b846ecc8"
   },
   "source": [
    "***"
   ]
  },
  {
   "cell_type": "markdown",
   "id": "8b304718",
   "metadata": {
    "id": "8b304718"
   },
   "source": [
    "### Booleans and Comparison"
   ]
  },
  {
   "cell_type": "code",
   "execution_count": null,
   "id": "bLPalLxmiN-7",
   "metadata": {
    "id": "bLPalLxmiN-7"
   },
   "outputs": [],
   "source": [
    "a = True"
   ]
  },
  {
   "cell_type": "code",
   "execution_count": null,
   "id": "62g7NAhoiQIh",
   "metadata": {
    "colab": {
     "base_uri": "https://localhost:8080/"
    },
    "executionInfo": {
     "elapsed": 37,
     "status": "ok",
     "timestamp": 1752000365549,
     "user": {
      "displayName": "Alibek Kruglikov",
      "userId": "12107629968185180200"
     },
     "user_tz": 240
    },
    "id": "62g7NAhoiQIh",
    "outputId": "9b41ce9b-5973-4e42-a8d0-2e80f00f78c6"
   },
   "outputs": [
    {
     "data": {
      "text/plain": [
       "True"
      ]
     },
     "execution_count": 217,
     "metadata": {},
     "output_type": "execute_result"
    }
   ],
   "source": [
    "a"
   ]
  },
  {
   "cell_type": "code",
   "execution_count": null,
   "id": "85f2d40f",
   "metadata": {
    "id": "85f2d40f"
   },
   "outputs": [],
   "source": [
    "a = 14\n",
    "b = 5"
   ]
  },
  {
   "cell_type": "code",
   "execution_count": null,
   "id": "9uITERrAbGfJ",
   "metadata": {
    "colab": {
     "base_uri": "https://localhost:8080/"
    },
    "executionInfo": {
     "elapsed": 44,
     "status": "ok",
     "timestamp": 1752000408140,
     "user": {
      "displayName": "Alibek Kruglikov",
      "userId": "12107629968185180200"
     },
     "user_tz": 240
    },
    "id": "9uITERrAbGfJ",
    "outputId": "1fd64dd0-bd64-48c7-aad1-fef397979c8d"
   },
   "outputs": [
    {
     "data": {
      "text/plain": [
       "False"
      ]
     },
     "execution_count": 219,
     "metadata": {},
     "output_type": "execute_result"
    }
   ],
   "source": [
    "# Equal\n",
    "a == b # False"
   ]
  },
  {
   "cell_type": "code",
   "execution_count": null,
   "id": "iE7BSJ0Wa9Uo",
   "metadata": {
    "colab": {
     "base_uri": "https://localhost:8080/"
    },
    "executionInfo": {
     "elapsed": 38,
     "status": "ok",
     "timestamp": 1752000419950,
     "user": {
      "displayName": "Alibek Kruglikov",
      "userId": "12107629968185180200"
     },
     "user_tz": 240
    },
    "id": "iE7BSJ0Wa9Uo",
    "outputId": "7e6ff715-8e42-4847-8996-b3d7d0107830"
   },
   "outputs": [
    {
     "data": {
      "text/plain": [
       "True"
      ]
     },
     "execution_count": 220,
     "metadata": {},
     "output_type": "execute_result"
    }
   ],
   "source": [
    "# Not equal\n",
    "a != b"
   ]
  },
  {
   "cell_type": "code",
   "execution_count": null,
   "id": "IfiVINodWPU_",
   "metadata": {
    "id": "IfiVINodWPU_"
   },
   "outputs": [],
   "source": [
    "# not going to work in python\n",
    "# a <> b"
   ]
  },
  {
   "cell_type": "code",
   "execution_count": null,
   "id": "ctrdTv6LbBhi",
   "metadata": {
    "colab": {
     "base_uri": "https://localhost:8080/"
    },
    "executionInfo": {
     "elapsed": 24,
     "status": "ok",
     "timestamp": 1752000434298,
     "user": {
      "displayName": "Alibek Kruglikov",
      "userId": "12107629968185180200"
     },
     "user_tz": 240
    },
    "id": "ctrdTv6LbBhi",
    "outputId": "524525ef-1a42-4578-af9d-0ce65c499607"
   },
   "outputs": [
    {
     "data": {
      "text/plain": [
       "True"
      ]
     },
     "execution_count": 223,
     "metadata": {},
     "output_type": "execute_result"
    }
   ],
   "source": [
    "# Greater than\n",
    "a > b"
   ]
  },
  {
   "cell_type": "code",
   "execution_count": null,
   "id": "pLxg9olkbETZ",
   "metadata": {
    "colab": {
     "base_uri": "https://localhost:8080/"
    },
    "executionInfo": {
     "elapsed": 42,
     "status": "ok",
     "timestamp": 1752000435871,
     "user": {
      "displayName": "Alibek Kruglikov",
      "userId": "12107629968185180200"
     },
     "user_tz": 240
    },
    "id": "pLxg9olkbETZ",
    "outputId": "1eca25d5-ee23-4c46-d7dc-9618d80048f6"
   },
   "outputs": [
    {
     "data": {
      "text/plain": [
       "True"
      ]
     },
     "execution_count": 224,
     "metadata": {},
     "output_type": "execute_result"
    }
   ],
   "source": [
    "# Greater than or equal to\n",
    "a >= b"
   ]
  },
  {
   "cell_type": "code",
   "execution_count": null,
   "id": "YhH4hDq4bMh1",
   "metadata": {
    "colab": {
     "base_uri": "https://localhost:8080/"
    },
    "executionInfo": {
     "elapsed": 16,
     "status": "ok",
     "timestamp": 1752000436811,
     "user": {
      "displayName": "Alibek Kruglikov",
      "userId": "12107629968185180200"
     },
     "user_tz": 240
    },
    "id": "YhH4hDq4bMh1",
    "outputId": "a76abfef-01f8-43ce-dda8-80a5cbe51f62"
   },
   "outputs": [
    {
     "data": {
      "text/plain": [
       "False"
      ]
     },
     "execution_count": 225,
     "metadata": {},
     "output_type": "execute_result"
    }
   ],
   "source": [
    "# Less than\n",
    "a < b"
   ]
  },
  {
   "cell_type": "code",
   "execution_count": null,
   "id": "PPkTK9avbN4w",
   "metadata": {
    "colab": {
     "base_uri": "https://localhost:8080/"
    },
    "executionInfo": {
     "elapsed": 18,
     "status": "ok",
     "timestamp": 1752000437587,
     "user": {
      "displayName": "Alibek Kruglikov",
      "userId": "12107629968185180200"
     },
     "user_tz": 240
    },
    "id": "PPkTK9avbN4w",
    "outputId": "ec1358b3-5abc-4541-db2d-dca36979642d"
   },
   "outputs": [
    {
     "data": {
      "text/plain": [
       "False"
      ]
     },
     "execution_count": 226,
     "metadata": {},
     "output_type": "execute_result"
    }
   ],
   "source": [
    "# Less than or equal to\n",
    "a <= b"
   ]
  },
  {
   "cell_type": "code",
   "execution_count": null,
   "id": "1an7nCiGbLdZ",
   "metadata": {
    "id": "1an7nCiGbLdZ"
   },
   "outputs": [],
   "source": [
    "# Equality with strings\n",
    "a = '1 2 3'\n",
    "b = 'one two 3'"
   ]
  },
  {
   "cell_type": "code",
   "execution_count": null,
   "id": "9i_YCVOdiFR8",
   "metadata": {
    "colab": {
     "base_uri": "https://localhost:8080/"
    },
    "executionInfo": {
     "elapsed": 30,
     "status": "ok",
     "timestamp": 1752000444108,
     "user": {
      "displayName": "Alibek Kruglikov",
      "userId": "12107629968185180200"
     },
     "user_tz": 240
    },
    "id": "9i_YCVOdiFR8",
    "outputId": "98f13133-847f-45b6-9ce2-284720a9a2da"
   },
   "outputs": [
    {
     "data": {
      "text/plain": [
       "False"
      ]
     },
     "execution_count": 228,
     "metadata": {},
     "output_type": "execute_result"
    }
   ],
   "source": [
    "a == b"
   ]
  },
  {
   "cell_type": "code",
   "execution_count": null,
   "id": "0lo4CfFgIFIz",
   "metadata": {
    "colab": {
     "base_uri": "https://localhost:8080/"
    },
    "executionInfo": {
     "elapsed": 26,
     "status": "ok",
     "timestamp": 1752000451303,
     "user": {
      "displayName": "Alibek Kruglikov",
      "userId": "12107629968185180200"
     },
     "user_tz": 240
    },
    "id": "0lo4CfFgIFIz",
    "outputId": "b5873ace-b243-4bc8-c48e-1934ebc85e9c"
   },
   "outputs": [
    {
     "data": {
      "text/plain": [
       "True"
      ]
     },
     "execution_count": 229,
     "metadata": {},
     "output_type": "execute_result"
    }
   ],
   "source": [
    "a < b"
   ]
  },
  {
   "cell_type": "code",
   "execution_count": null,
   "id": "s-fTYgZ1i2Uv",
   "metadata": {
    "colab": {
     "base_uri": "https://localhost:8080/"
    },
    "executionInfo": {
     "elapsed": 12,
     "status": "ok",
     "timestamp": 1752000475848,
     "user": {
      "displayName": "Alibek Kruglikov",
      "userId": "12107629968185180200"
     },
     "user_tz": 240
    },
    "id": "s-fTYgZ1i2Uv",
    "outputId": "d8f36f01-7f35-43e4-daa2-46e5c014f93b"
   },
   "outputs": [
    {
     "data": {
      "text/plain": [
       "True"
      ]
     },
     "execution_count": 230,
     "metadata": {},
     "output_type": "execute_result"
    }
   ],
   "source": [
    "3 == 3.0"
   ]
  },
  {
   "cell_type": "code",
   "execution_count": null,
   "id": "Pa5lhz6Va1iS",
   "metadata": {
    "colab": {
     "base_uri": "https://localhost:8080/"
    },
    "executionInfo": {
     "elapsed": 15,
     "status": "ok",
     "timestamp": 1752000580700,
     "user": {
      "displayName": "Alibek Kruglikov",
      "userId": "12107629968185180200"
     },
     "user_tz": 240
    },
    "id": "Pa5lhz6Va1iS",
    "outputId": "cbdada55-6f12-43df-ec47-6d51c73bb41a"
   },
   "outputs": [
    {
     "name": "stdout",
     "output_type": "stream",
     "text": [
      "True\n"
     ]
    }
   ],
   "source": [
    "# Logic operators (compound boolean expressions)\n",
    "\n",
    "# and - both must be True\n",
    "snow = False\n",
    "temperature = 28\n",
    "camping = temperature > 25 and snow == False\n",
    "print(camping)"
   ]
  },
  {
   "cell_type": "code",
   "execution_count": null,
   "id": "hKF2YlBmigQ1",
   "metadata": {
    "colab": {
     "base_uri": "https://localhost:8080/"
    },
    "executionInfo": {
     "elapsed": 8,
     "status": "ok",
     "timestamp": 1752000583848,
     "user": {
      "displayName": "Alibek Kruglikov",
      "userId": "12107629968185180200"
     },
     "user_tz": 240
    },
    "id": "hKF2YlBmigQ1",
    "outputId": "94879a09-842e-4067-f14c-214c7edeb873"
   },
   "outputs": [
    {
     "name": "stdout",
     "output_type": "stream",
     "text": [
      "False\n"
     ]
    }
   ],
   "source": [
    "snow = True\n",
    "camping = temperature > 25 and snow == False\n",
    "print(camping)"
   ]
  },
  {
   "cell_type": "code",
   "execution_count": null,
   "id": "UiCaA96YbhdY",
   "metadata": {
    "colab": {
     "base_uri": "https://localhost:8080/"
    },
    "executionInfo": {
     "elapsed": 9,
     "status": "ok",
     "timestamp": 1752000594416,
     "user": {
      "displayName": "Alibek Kruglikov",
      "userId": "12107629968185180200"
     },
     "user_tz": 240
    },
    "id": "UiCaA96YbhdY",
    "outputId": "4bae41d6-35dc-409e-9c48-86f7dbf1c54c"
   },
   "outputs": [
    {
     "name": "stdout",
     "output_type": "stream",
     "text": [
      "True\n"
     ]
    }
   ],
   "source": [
    "# or - either must be True\n",
    "has_coffee = True\n",
    "has_beer = True\n",
    "print(has_coffee or has_beer)"
   ]
  },
  {
   "cell_type": "code",
   "execution_count": null,
   "id": "dNPJ5WdUikf2",
   "metadata": {
    "colab": {
     "base_uri": "https://localhost:8080/"
    },
    "executionInfo": {
     "elapsed": 9,
     "status": "ok",
     "timestamp": 1752000601009,
     "user": {
      "displayName": "Alibek Kruglikov",
      "userId": "12107629968185180200"
     },
     "user_tz": 240
    },
    "id": "dNPJ5WdUikf2",
    "outputId": "d0de3826-ab4a-4d97-a45d-07592df5d066"
   },
   "outputs": [
    {
     "name": "stdout",
     "output_type": "stream",
     "text": [
      "True\n"
     ]
    }
   ],
   "source": [
    "has_coffee = False\n",
    "print(has_coffee or has_beer)"
   ]
  },
  {
   "cell_type": "markdown",
   "id": "63c2dd62",
   "metadata": {
    "id": "63c2dd62"
   },
   "source": [
    "### Control structure (also refered to **control flow**): if/elif/else statements\n",
    "\n",
    "**if statements** are one of the most essential concepts in any programming language because they allow the code to execute differently depending on external values. The format of an if statement is as follows:\n",
    "\n",
    "- Essential Programming Concept, in any langauge. Allows the code to 'react' to circumstances.\n",
    "- Executes code only if a certain condition is met\n",
    "\n",
    "```python\n",
    "if [boolean expression]: # starts with if keyword then test condition\n",
    "    [what to do when the boolean expression evaluates to True]\n",
    "else:   # optional\n",
    "    [what to do when the boolean expression evaluates to False]\n",
    "```"
   ]
  },
  {
   "cell_type": "code",
   "execution_count": null,
   "id": "d328d9c2",
   "metadata": {
    "id": "d328d9c2"
   },
   "outputs": [],
   "source": [
    "# Using the data structure above, let's output something different depending on\n",
    "# whether or not someone passed the course\n",
    "course_marks = {'Linda': 84, 'Andrew': 100, 'Jasmine': 12}\n",
    "pass_mark = 80"
   ]
  },
  {
   "cell_type": "code",
   "execution_count": null,
   "id": "n3hG39Zkidyv",
   "metadata": {
    "colab": {
     "base_uri": "https://localhost:8080/"
    },
    "executionInfo": {
     "elapsed": 42,
     "status": "ok",
     "timestamp": 1752000794591,
     "user": {
      "displayName": "Alibek Kruglikov",
      "userId": "12107629968185180200"
     },
     "user_tz": 240
    },
    "id": "n3hG39Zkidyv",
    "outputId": "6b29914d-a770-46ad-d103-feb6a62ceb51"
   },
   "outputs": [
    {
     "name": "stdout",
     "output_type": "stream",
     "text": [
      "Linda has passed\n"
     ]
    }
   ],
   "source": [
    "# did Linda pass?\n",
    "if course_marks['Linda'] >= pass_mark:\n",
    "  print('Linda has passed')\n",
    "else:\n",
    "  print('Linda has not passed')"
   ]
  },
  {
   "cell_type": "markdown",
   "id": "b26415b9",
   "metadata": {
    "id": "b26415b9"
   },
   "source": [
    "#### IFs and ELIFS\n",
    "```python\n",
    "if [boolean expression]: #starts with if keyword then test condition\n",
    "    [what to do when the boolean expression evaluates to True]\n",
    "elif: [boolean expression]\n",
    "    [what to do when the boolean expression evaluates to True]\n",
    "else:   # optional\n",
    "    [what to do when the boolean expression evaluates to False]\n",
    "```\n",
    "\n"
   ]
  },
  {
   "cell_type": "code",
   "execution_count": null,
   "id": "13725f32",
   "metadata": {
    "colab": {
     "base_uri": "https://localhost:8080/"
    },
    "executionInfo": {
     "elapsed": 27,
     "status": "ok",
     "timestamp": 1752000860763,
     "user": {
      "displayName": "Alibek Kruglikov",
      "userId": "12107629968185180200"
     },
     "user_tz": 240
    },
    "id": "13725f32",
    "outputId": "d9461b91-5fef-4a5b-9347-c654bcb29300"
   },
   "outputs": [
    {
     "name": "stdout",
     "output_type": "stream",
     "text": [
      "B\n"
     ]
    }
   ],
   "source": [
    "course_marks = {'Linda': 84, 'Andrew': 100, 'Jasmine': 12}\n",
    "# print Linda's letter grade using if/else\n",
    "if course_marks['Linda'] >= 90:\n",
    "  print('A')\n",
    "elif course_marks['Linda'] >= 80:\n",
    "  print('B')\n",
    "elif course_marks['Linda'] >= 70:\n",
    "  print('C')\n",
    "elif course_marks['Linda'] >= 60:\n",
    "  print('D')\n",
    "else:\n",
    "  print('F')"
   ]
  },
  {
   "cell_type": "markdown",
   "id": "2977b6a1",
   "metadata": {
    "id": "2977b6a1"
   },
   "source": [
    "### Nested Ifs"
   ]
  },
  {
   "cell_type": "code",
   "execution_count": null,
   "id": "60fbe6e1",
   "metadata": {
    "colab": {
     "base_uri": "https://localhost:8080/"
    },
    "executionInfo": {
     "elapsed": 27,
     "status": "ok",
     "timestamp": 1752000940165,
     "user": {
      "displayName": "Alibek Kruglikov",
      "userId": "12107629968185180200"
     },
     "user_tz": 240
    },
    "id": "60fbe6e1",
    "outputId": "1ff77554-759a-49fa-de76-7c64b19e98b3"
   },
   "outputs": [
    {
     "name": "stdout",
     "output_type": "stream",
     "text": [
      "negative\n"
     ]
    }
   ],
   "source": [
    "a = -1\n",
    "if a > 0:\n",
    "    print('positive')\n",
    "elif a == 0:\n",
    "    print('zero')\n",
    "else:\n",
    "    print('negative')"
   ]
  },
  {
   "cell_type": "code",
   "execution_count": null,
   "id": "27237130",
   "metadata": {
    "colab": {
     "base_uri": "https://localhost:8080/"
    },
    "executionInfo": {
     "elapsed": 10,
     "status": "ok",
     "timestamp": 1752000940561,
     "user": {
      "displayName": "Alibek Kruglikov",
      "userId": "12107629968185180200"
     },
     "user_tz": 240
    },
    "id": "27237130",
    "outputId": "23844505-bb69-4c25-a3c3-c56bbc79a78a"
   },
   "outputs": [
    {
     "name": "stdout",
     "output_type": "stream",
     "text": [
      "negative\n"
     ]
    }
   ],
   "source": [
    "a = -1\n",
    "\n",
    "if a >= 0:\n",
    "    if a == 0:\n",
    "        print('zero')\n",
    "    else:\n",
    "        print('positive')\n",
    "\n",
    "else:\n",
    "    print(\"negative\")"
   ]
  },
  {
   "cell_type": "markdown",
   "id": "cd0bb7c5",
   "metadata": {
    "id": "cd0bb7c5"
   },
   "source": [
    "## Control Flow: For Loops (definite iterations)\n",
    "\n",
    "If all we were able to do with lists, tuples, and dictionaries was store data in them, they would essentially\n",
    "just be useful for organizing our code and nothing else.\n",
    "Luckily, we can iterate through them using \"for\" loops. The \"for\" loop\n",
    "has the following format:\n",
    "```python\n",
    "for [loop variable] in [iterable object]:\n",
    "    [code to execute using loop variable]\n",
    "```"
   ]
  },
  {
   "cell_type": "code",
   "execution_count": null,
   "id": "56b0d31c",
   "metadata": {
    "colab": {
     "base_uri": "https://localhost:8080/"
    },
    "executionInfo": {
     "elapsed": 22,
     "status": "ok",
     "timestamp": 1752001120634,
     "user": {
      "displayName": "Alibek Kruglikov",
      "userId": "12107629968185180200"
     },
     "user_tz": 240
    },
    "id": "56b0d31c",
    "outputId": "7c6cb8ed-af6c-4987-8fe1-9cf5fc81c1c6"
   },
   "outputs": [
    {
     "name": "stdout",
     "output_type": "stream",
     "text": [
      "H\n",
      "e\n",
      "l\n",
      "l\n",
      "o\n",
      ",\n",
      " \n",
      "w\n",
      "o\n",
      "r\n",
      "l\n",
      "d\n",
      "!\n"
     ]
    }
   ],
   "source": [
    "# simple for loop: print every character\n",
    "text = 'Hello, world!'\n",
    "\n",
    "for character in text:\n",
    "  print(character)"
   ]
  },
  {
   "cell_type": "code",
   "execution_count": null,
   "id": "3R5BrSlA1_b8",
   "metadata": {
    "colab": {
     "base_uri": "https://localhost:8080/"
    },
    "executionInfo": {
     "elapsed": 30,
     "status": "ok",
     "timestamp": 1752001154755,
     "user": {
      "displayName": "Alibek Kruglikov",
      "userId": "12107629968185180200"
     },
     "user_tz": 240
    },
    "id": "3R5BrSlA1_b8",
    "outputId": "e81549fc-1937-438b-ad0a-9badd17c677c"
   },
   "outputs": [
    {
     "name": "stdout",
     "output_type": "stream",
     "text": [
      "84\n",
      "100\n",
      "12\n"
     ]
    }
   ],
   "source": [
    "course_marks = {'Linda': 84, 'Andrew': 100, 'Jasmine': 12}\n",
    "\n",
    "students = course_marks.keys()\n",
    "marks = course_marks.values()\n",
    "pass_mark = 85\n",
    "\n",
    "# print every mark\n",
    "for m in marks:\n",
    "  print(m)"
   ]
  },
  {
   "cell_type": "code",
   "execution_count": null,
   "id": "75d025b6",
   "metadata": {
    "colab": {
     "base_uri": "https://localhost:8080/"
    },
    "executionInfo": {
     "elapsed": 57,
     "status": "ok",
     "timestamp": 1752001310317,
     "user": {
      "displayName": "Alibek Kruglikov",
      "userId": "12107629968185180200"
     },
     "user_tz": 240
    },
    "id": "75d025b6",
    "outputId": "320306e9-a616-4d00-e7cc-ca53463968b6"
   },
   "outputs": [
    {
     "name": "stdout",
     "output_type": "stream",
     "text": [
      "Linda has passed with mark 84\n",
      "Andrew has passed with mark 100\n",
      "Jasmine has NOT passed with mark 12\n"
     ]
    }
   ],
   "source": [
    "course_marks = {'Linda': 84, 'Andrew': 100, 'Jasmine': 12}\n",
    "\n",
    "student_names = course_marks.keys()\n",
    "marks = course_marks.values()\n",
    "pass_mark = 80\n",
    "\n",
    "# for each student, print if they passed the course\n",
    "for name in student_names:\n",
    "  mark = course_marks[name]\n",
    "  if mark >= pass_mark:\n",
    "    print(name + ' has passed with mark '+ str(mark))\n",
    "  else:\n",
    "    print(name + ' has NOT passed with mark '+ str(mark))"
   ]
  },
  {
   "cell_type": "code",
   "execution_count": null,
   "id": "3d61ea3f",
   "metadata": {
    "id": "3d61ea3f"
   },
   "outputs": [],
   "source": [
    "animal_kingdom = [\n",
    "  ['Elephant', 'Tiger', 'Dog', ['Cat', 'Big Cat']],\n",
    "  ['Whale', 'Dolphin', 'Shark', 'Eel'],\n",
    "  ['Eagle', 'Robin']\n",
    "]"
   ]
  },
  {
   "cell_type": "code",
   "execution_count": null,
   "id": "hwMAJIsUjGFs",
   "metadata": {
    "colab": {
     "base_uri": "https://localhost:8080/"
    },
    "executionInfo": {
     "elapsed": 34,
     "status": "ok",
     "timestamp": 1752001749314,
     "user": {
      "displayName": "Alibek Kruglikov",
      "userId": "12107629968185180200"
     },
     "user_tz": 240
    },
    "id": "hwMAJIsUjGFs",
    "outputId": "336adb7a-971f-48d1-b69f-c6f466b9c09f"
   },
   "outputs": [
    {
     "name": "stdout",
     "output_type": "stream",
     "text": [
      "Elephant\n",
      "Tiger\n",
      "Dog\n",
      "Cat\n",
      "Big Cat\n",
      "Whale\n",
      "Dolphin\n",
      "Shark\n",
      "Eel\n",
      "Eagle\n",
      "Robin\n"
     ]
    }
   ],
   "source": [
    "# how can we print all animals one by one? (hint: use type())\n",
    "for l in animal_kingdom:\n",
    "  for animal_or_list in l:\n",
    "    if type(animal_or_list) == str:\n",
    "      print(animal_or_list)\n",
    "    else:\n",
    "      for feline in animal_or_list:\n",
    "        print(feline)"
   ]
  },
  {
   "cell_type": "code",
   "execution_count": null,
   "id": "RXVtXYdHjKv7",
   "metadata": {
    "colab": {
     "base_uri": "https://localhost:8080/"
    },
    "executionInfo": {
     "elapsed": 90,
     "status": "ok",
     "timestamp": 1752001952927,
     "user": {
      "displayName": "Alibek Kruglikov",
      "userId": "12107629968185180200"
     },
     "user_tz": 240
    },
    "id": "RXVtXYdHjKv7",
    "outputId": "68a05235-545c-4080-b122-c1c480c880bf"
   },
   "outputs": [
    {
     "name": "stdout",
     "output_type": "stream",
     "text": [
      "100 100\n",
      "90 190\n",
      "95 285\n",
      "80 365\n",
      "70 435\n"
     ]
    }
   ],
   "source": [
    "# summing lists\n",
    "course_marks = [100, 90, 95, 80, 70]\n",
    "marks_sum = 0 # accumulator\n",
    "\n",
    "# add them all up with a loop\n",
    "for mark in course_marks:\n",
    "  marks_sum += mark\n",
    "  print(mark, marks_sum)"
   ]
  },
  {
   "cell_type": "code",
   "execution_count": null,
   "id": "12593187",
   "metadata": {
    "colab": {
     "base_uri": "https://localhost:8080/"
    },
    "executionInfo": {
     "elapsed": 101,
     "status": "ok",
     "timestamp": 1752002256350,
     "user": {
      "displayName": "Alibek Kruglikov",
      "userId": "12107629968185180200"
     },
     "user_tz": 240
    },
    "id": "12593187",
    "outputId": "9ee72120-bf3d-4cf9-dbe4-bfb4b05834d0"
   },
   "outputs": [
    {
     "data": {
      "text/plain": [
       "[77, 95, 7]"
      ]
     },
     "execution_count": 283,
     "metadata": {},
     "output_type": "execute_result"
    }
   ],
   "source": [
    "# Iterating through lists (or tuples) by their index\n",
    "# this is necessary to change values in a list\n",
    "course_marks = [82, 100, 12]\n",
    "\n",
    "# reduce each grade by 5\n",
    "for idx in range(len(course_marks)):\n",
    "  course_marks[idx] -= 5\n",
    "\n",
    "course_marks"
   ]
  },
  {
   "cell_type": "code",
   "execution_count": null,
   "id": "Tz4cKhtyeRYq",
   "metadata": {
    "colab": {
     "base_uri": "https://localhost:8080/"
    },
    "executionInfo": {
     "elapsed": 49,
     "status": "ok",
     "timestamp": 1752002382241,
     "user": {
      "displayName": "Alibek Kruglikov",
      "userId": "12107629968185180200"
     },
     "user_tz": 240
    },
    "id": "Tz4cKhtyeRYq",
    "outputId": "f526426d-0b2a-4324-d19e-ce4073d1d02b"
   },
   "outputs": [
    {
     "data": {
      "text/plain": [
       "[77, 95, 7]"
      ]
     },
     "execution_count": 287,
     "metadata": {},
     "output_type": "execute_result"
    }
   ],
   "source": [
    "course_marks = [82, 100, 12]\n",
    "\n",
    "for i, m in enumerate(course_marks):\n",
    "  course_marks[i] -= 5\n",
    "\n",
    "course_marks"
   ]
  },
  {
   "cell_type": "code",
   "execution_count": null,
   "id": "qF1AUnpXkyP2",
   "metadata": {
    "colab": {
     "base_uri": "https://localhost:8080/"
    },
    "executionInfo": {
     "elapsed": 165,
     "status": "ok",
     "timestamp": 1752002257124,
     "user": {
      "displayName": "Alibek Kruglikov",
      "userId": "12107629968185180200"
     },
     "user_tz": 240
    },
    "id": "qF1AUnpXkyP2",
    "outputId": "c4a5df17-4b96-4cfd-ce9b-0d68008cdd22"
   },
   "outputs": [
    {
     "data": {
      "text/plain": [
       "[77, 95, 7]"
      ]
     },
     "execution_count": 284,
     "metadata": {},
     "output_type": "execute_result"
    }
   ],
   "source": [
    "# alternative with new list creation\n",
    "course_marks = [82, 100, 12]\n",
    "\n",
    "new_marks = []\n",
    "\n",
    "for mark in course_marks:\n",
    "  mark -= 5\n",
    "  new_marks.append(mark)\n",
    "\n",
    "new_marks"
   ]
  },
  {
   "cell_type": "code",
   "execution_count": null,
   "id": "7z4TUW6rk-re",
   "metadata": {
    "colab": {
     "base_uri": "https://localhost:8080/"
    },
    "executionInfo": {
     "elapsed": 43,
     "status": "ok",
     "timestamp": 1752002473699,
     "user": {
      "displayName": "Alibek Kruglikov",
      "userId": "12107629968185180200"
     },
     "user_tz": 240
    },
    "id": "7z4TUW6rk-re",
    "outputId": "dcfb7afb-2aef-4c91-bc24-8f26b9864a87"
   },
   "outputs": [
    {
     "data": {
      "text/plain": [
       "[77, 95, 7]"
      ]
     },
     "execution_count": 289,
     "metadata": {},
     "output_type": "execute_result"
    }
   ],
   "source": [
    "# list comprehension\n",
    "course_marks = [82, 100, 12]\n",
    "\n",
    "new_marks = [mark-5 for mark in course_marks]\n",
    "new_marks"
   ]
  },
  {
   "cell_type": "code",
   "execution_count": null,
   "id": "ge7djzuFjPKT",
   "metadata": {
    "colab": {
     "base_uri": "https://localhost:8080/"
    },
    "executionInfo": {
     "elapsed": 90,
     "status": "ok",
     "timestamp": 1752002505497,
     "user": {
      "displayName": "Alibek Kruglikov",
      "userId": "12107629968185180200"
     },
     "user_tz": 240
    },
    "id": "ge7djzuFjPKT",
    "outputId": "31798652-0e4b-4d1f-d3ea-5a945a311f92"
   },
   "outputs": [
    {
     "name": "stdout",
     "output_type": "stream",
     "text": [
      "Linda\n",
      "Andrew\n",
      "Jasmine\n"
     ]
    }
   ],
   "source": [
    "course_marks = {'Linda': 72, 'Andrew': 100, 'Jasmine': 12}\n",
    "\n",
    "# iterating through dictionary keys\n",
    "for k in course_marks.keys():\n",
    "  print(k)"
   ]
  },
  {
   "cell_type": "code",
   "execution_count": null,
   "id": "CSiJZ7mAegKx",
   "metadata": {
    "colab": {
     "base_uri": "https://localhost:8080/"
    },
    "executionInfo": {
     "elapsed": 35,
     "status": "ok",
     "timestamp": 1752002514553,
     "user": {
      "displayName": "Alibek Kruglikov",
      "userId": "12107629968185180200"
     },
     "user_tz": 240
    },
    "id": "CSiJZ7mAegKx",
    "outputId": "a9c72cba-dd6e-4d84-a228-b32e114234cd"
   },
   "outputs": [
    {
     "name": "stdout",
     "output_type": "stream",
     "text": [
      "72\n",
      "100\n",
      "12\n"
     ]
    }
   ],
   "source": [
    "# iterating through dictionary values\n",
    "for v in course_marks.values():\n",
    "  print(v)"
   ]
  },
  {
   "cell_type": "code",
   "execution_count": null,
   "id": "R8qbYlFnedF4",
   "metadata": {
    "colab": {
     "base_uri": "https://localhost:8080/"
    },
    "executionInfo": {
     "elapsed": 45,
     "status": "ok",
     "timestamp": 1752002525577,
     "user": {
      "displayName": "Alibek Kruglikov",
      "userId": "12107629968185180200"
     },
     "user_tz": 240
    },
    "id": "R8qbYlFnedF4",
    "outputId": "e27e251d-e106-47d3-cc3d-a7f2c76b5835"
   },
   "outputs": [
    {
     "name": "stdout",
     "output_type": "stream",
     "text": [
      "Linda\n",
      "Andrew\n",
      "Jasmine\n"
     ]
    }
   ],
   "source": [
    "# what about iterating through a dictionary itself?\n",
    "for k in course_marks:\n",
    "  print(k)"
   ]
  },
  {
   "cell_type": "markdown",
   "id": "3b6d075b",
   "metadata": {
    "id": "3b6d075b"
   },
   "source": [
    "## Control Flow: While Loops (aka. indefinite iterations)\n",
    "\n",
    "Sometimes, we don't want our loop to iteratate through the values of some data structure, but\n",
    "instead want it to execute until some condition is no longer met. For this, we use a \"while\" loop, which has the\n",
    "following format:\n",
    "\n",
    "```python\n",
    "while [boolean expression]: #starts with a while keyword, followed by a test condition, ends with a colon :\n",
    "    [what you want to do each iteration] #loop body contains code that gets repeated. Must be indented 4 spaces.\n",
    "```"
   ]
  },
  {
   "cell_type": "code",
   "execution_count": null,
   "id": "fL_xYIpmjY8s",
   "metadata": {
    "colab": {
     "base_uri": "https://localhost:8080/"
    },
    "executionInfo": {
     "elapsed": 43,
     "status": "ok",
     "timestamp": 1752002611399,
     "user": {
      "displayName": "Alibek Kruglikov",
      "userId": "12107629968185180200"
     },
     "user_tz": 240
    },
    "id": "fL_xYIpmjY8s",
    "outputId": "28b80ca9-b38a-4fe9-827f-0a0f74950d2e"
   },
   "outputs": [
    {
     "name": "stdout",
     "output_type": "stream",
     "text": [
      "10\n",
      "9\n",
      "8\n",
      "7\n",
      "6\n",
      "5\n",
      "4\n",
      "3\n",
      "2\n",
      "1\n",
      "0\n"
     ]
    }
   ],
   "source": [
    "n = 10\n",
    "# print all numbers from n to 0\n",
    "while n >= 0:\n",
    "  print(n)\n",
    "  n -= 1"
   ]
  },
  {
   "cell_type": "code",
   "execution_count": null,
   "id": "4a10355d",
   "metadata": {
    "id": "4a10355d"
   },
   "outputs": [],
   "source": [
    "# BE CAREFUL with INFINITE LOOPS, you'll break the matrix\n",
    "# Can be useful, for example with code that interacts with hardware\n",
    "# may use an infinite loop to constantly check whether a button or\n",
    "# switch has been activated\n",
    "\n",
    "# CTRL + C forces a command line process to quit"
   ]
  },
  {
   "cell_type": "code",
   "execution_count": 1,
   "id": "bYI5yYzt-PIX",
   "metadata": {
    "executionInfo": {
     "elapsed": 53,
     "status": "ok",
     "timestamp": 1752002791188,
     "user": {
      "displayName": "Alibek Kruglikov",
      "userId": "12107629968185180200"
     },
     "user_tz": 240
    },
    "id": "bYI5yYzt-PIX"
   },
   "outputs": [],
   "source": [
    "# while True:\n",
    "#   print('infinite loop!')"
   ]
  },
  {
   "cell_type": "markdown",
   "id": "642ce2a5",
   "metadata": {
    "id": "642ce2a5"
   },
   "source": [
    "***"
   ]
  },
  {
   "cell_type": "markdown",
   "id": "f0b96613",
   "metadata": {
    "id": "f0b96613"
   },
   "source": [
    "## Cooking Challenge\n",
    "\n",
    "Alberto is making spaghetti tonight and he needs to make sure that if he doesn't have enough of the ingredients in his pantry, he adds them to his shopping list.\n",
    "\n",
    "- For each item in the recipe, check if the ingredient is in Alberto's pantry.\n",
    "\n",
    "- If the recipe ingredient is in the pantry, check if the recipe requires more of the ingredient than what Alberto has in storage. If so, add the name and the quantity he needs to purchase as key-value pairs in the dictionary shopping_list.\n",
    "\n",
    "- If the recipe item is not in the pantry, add the ingredient and the quantity as **key-value pairs in the dictionary** shopping_list."
   ]
  },
  {
   "cell_type": "code",
   "execution_count": 4,
   "id": "26551f64",
   "metadata": {
    "executionInfo": {
     "elapsed": 28,
     "status": "ok",
     "timestamp": 1752002945460,
     "user": {
      "displayName": "Alibek Kruglikov",
      "userId": "12107629968185180200"
     },
     "user_tz": 240
    },
    "id": "26551f64"
   },
   "outputs": [],
   "source": [
    "pantry = {'pasta': 3, 'garlic': 4, 'sauce': 2,\n",
    "          'basil': 2, 'salt': 3, 'olive oil': 3,\n",
    "          'rice': 3, 'bread': 3, 'peanut butter': 1,\n",
    "          'flour': 1, 'eggs': 1, 'onions': 1, 'mushrooms': 3,\n",
    "          'broccoli': 2, 'butter': 2,'pickles': 6, 'milk': 2,\n",
    "          'chia seeds': 5}\n",
    "\n",
    "meal_recipe = {'pasta': 2, 'garlic': 2, 'sauce': 3,\n",
    "          'basil': 4, 'salt': 1, 'pepper': 2,\n",
    "          'olive oil': 2, 'onions': 2, 'mushrooms': 6}\n",
    "\n",
    "\n",
    "shopping_list = dict()"
   ]
  },
  {
   "cell_type": "markdown",
   "id": "CeXvJnxtnSWh",
   "metadata": {
    "id": "CeXvJnxtnSWh"
   },
   "source": [
    "1. iterate through every ingredient in recipy\n",
    "2. check if we have enough\n",
    "  - check how much we need\n",
    "  - check if we have any of that ingredient already\n",
    "    - if we don't: we have 0\n",
    "    - if we do have some, store how much we have\n",
    "3. if we don't have enough, we will calculate how much more we need\n",
    "4. we will add ingredient and number to shopping list"
   ]
  },
  {
   "cell_type": "code",
   "execution_count": 8,
   "id": "550469b1",
   "metadata": {
    "colab": {
     "base_uri": "https://localhost:8080/"
    },
    "executionInfo": {
     "elapsed": 51,
     "status": "ok",
     "timestamp": 1752003414244,
     "user": {
      "displayName": "Alibek Kruglikov",
      "userId": "12107629968185180200"
     },
     "user_tz": 240
    },
    "id": "550469b1",
    "outputId": "fe996b7b-1ed1-47d6-ea4e-b28857ca1d5b"
   },
   "outputs": [
    {
     "name": "stdout",
     "output_type": "stream",
     "text": [
      "Current ingredient: pasta\n",
      "Current recipe quantity: 2\n",
      "Current pantry quantity: 3\n",
      "Current ingredient: garlic\n",
      "Current recipe quantity: 2\n",
      "Current pantry quantity: 4\n",
      "Current ingredient: sauce\n",
      "Current recipe quantity: 3\n",
      "Current pantry quantity: 2\n",
      "Current ingredient: basil\n",
      "Current recipe quantity: 4\n",
      "Current pantry quantity: 2\n",
      "Current ingredient: salt\n",
      "Current recipe quantity: 1\n",
      "Current pantry quantity: 3\n",
      "Current ingredient: pepper\n",
      "Current recipe quantity: 2\n",
      "Current ingredient: olive oil\n",
      "Current recipe quantity: 2\n",
      "Current pantry quantity: 3\n",
      "Current ingredient: onions\n",
      "Current recipe quantity: 2\n",
      "Current pantry quantity: 1\n",
      "Current ingredient: mushrooms\n",
      "Current recipe quantity: 6\n",
      "Current pantry quantity: 3\n"
     ]
    }
   ],
   "source": [
    "for ingredient, recipe_quantity in meal_recipe.items():\n",
    "  print(f\"Current ingredient: {ingredient}\")\n",
    "  print(f\"Current recipe quantity: {recipe_quantity}\")\n",
    "  if ingredient not in pantry:\n",
    "    # we don't have any of the ingredient\n",
    "    shopping_list[ingredient] = recipe_quantity\n",
    "  else:\n",
    "    # we have at least some of the ingredient\n",
    "    pantry_quantity = pantry[ingredient]\n",
    "    print(f\"Current pantry quantity: {pantry_quantity}\")\n",
    "    if recipe_quantity > pantry_quantity:\n",
    "      shopping_list[ingredient] = recipe_quantity - pantry_quantity\n",
    "    # extra: if reach exactly 0\n",
    "    # elif recipe_quantity == pantry_quantity:\n",
    "    #   shopping_list[ingredient] = 0"
   ]
  },
  {
   "cell_type": "code",
   "execution_count": 7,
   "id": "B_lx0NeNV3OQ",
   "metadata": {
    "colab": {
     "base_uri": "https://localhost:8080/"
    },
    "executionInfo": {
     "elapsed": 49,
     "status": "ok",
     "timestamp": 1752003091626,
     "user": {
      "displayName": "Alibek Kruglikov",
      "userId": "12107629968185180200"
     },
     "user_tz": 240
    },
    "id": "B_lx0NeNV3OQ",
    "outputId": "9cd783b1-a62d-4dc0-f609-08cb1bacd44d"
   },
   "outputs": [
    {
     "data": {
      "text/plain": [
       "{'sauce': 1, 'basil': 2, 'pepper': 2, 'onions': 1, 'mushrooms': 3}"
      ]
     },
     "execution_count": 7,
     "metadata": {},
     "output_type": "execute_result"
    }
   ],
   "source": [
    "shopping_list"
   ]
  }
 ],
 "metadata": {
  "colab": {
   "provenance": []
  },
  "kernelspec": {
   "display_name": "Python 3 (ipykernel)",
   "language": "python",
   "name": "python3"
  },
  "language_info": {
   "codemirror_mode": {
    "name": "ipython",
    "version": 3
   },
   "file_extension": ".py",
   "mimetype": "text/x-python",
   "name": "python",
   "nbconvert_exporter": "python",
   "pygments_lexer": "ipython3",
   "version": "3.12.2"
  }
 },
 "nbformat": 4,
 "nbformat_minor": 5
}
