{
 "cells": [
  {
   "cell_type": "markdown",
   "id": "81dc9991",
   "metadata": {},
   "source": [
    "# W03D4 Kata 2"
   ]
  },
  {
   "cell_type": "code",
   "execution_count": 7,
   "id": "5b513a97",
   "metadata": {},
   "outputs": [
    {
     "name": "stdout",
     "output_type": "stream",
     "text": [
      "6\n",
      "9\n",
      "144\n",
      "0\n"
     ]
    }
   ],
   "source": [
    "# first try oh yeah\n",
    "def conditionalsum(values,condition):\n",
    "    total_sum = 0\n",
    "    if condition == \"even\":\n",
    "        for value in values:\n",
    "            if value % 2 == 0:\n",
    "                total_sum += value\n",
    "            continue\n",
    "    elif condition == \"odd\":\n",
    "        for value in values:\n",
    "            if value % 2 != 0:\n",
    "                total_sum += value\n",
    "            continue\n",
    "\n",
    "    return total_sum\n",
    "\n",
    "print(conditionalsum([1, 2, 3, 4, 5], \"even\"))\n",
    "print(conditionalsum([1, 2, 3, 4, 5], \"odd\"))\n",
    "print(conditionalsum([13, 88, 12, 44, 99], \"even\"))\n",
    "print(conditionalsum([], \"odd\"))\n"
   ]
  },
  {
   "cell_type": "code",
   "execution_count": 15,
   "id": "19bb47d5",
   "metadata": {},
   "outputs": [
    {
     "name": "stdout",
     "output_type": "stream",
     "text": [
      "{4, 5}\n",
      "{1, 2, 3, 6, 7, 8}\n"
     ]
    }
   ],
   "source": [
    "\n",
    "set_a = {1, 2, 3, 4, 5} \n",
    "\n",
    "set_b = {4, 5, 6, 7, 8}\n",
    "\n",
    "print(set_a.intersection(set_b))\n",
    "\n",
    "print(set_a.symmetric_difference(set_b))"
   ]
  },
  {
   "cell_type": "code",
   "execution_count": null,
   "id": "588b07d7",
   "metadata": {},
   "outputs": [],
   "source": []
  }
 ],
 "metadata": {
  "kernelspec": {
   "display_name": "data_env312",
   "language": "python",
   "name": "python3"
  },
  "language_info": {
   "codemirror_mode": {
    "name": "ipython",
    "version": 3
   },
   "file_extension": ".py",
   "mimetype": "text/x-python",
   "name": "python",
   "nbconvert_exporter": "python",
   "pygments_lexer": "ipython3",
   "version": "3.12.2"
  }
 },
 "nbformat": 4,
 "nbformat_minor": 5
}
