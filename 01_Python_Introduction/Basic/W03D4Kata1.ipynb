{
 "cells": [
  {
   "cell_type": "markdown",
   "id": "665ec9f0",
   "metadata": {},
   "source": [
    "# W03 D4 Kata 1"
   ]
  },
  {
   "cell_type": "code",
   "execution_count": 15,
   "id": "ef6aeaaf",
   "metadata": {},
   "outputs": [
    {
     "name": "stdout",
     "output_type": "stream",
     "text": [
      "5\n",
      "25\n"
     ]
    }
   ],
   "source": [
    "def sumlargestnumber(numbers):\n",
    "    numbers.sort(reverse=True)\n",
    "    return numbers[0] + numbers[1]\n",
    "\n",
    "print(sumlargestnumber([1,2,3]))\n",
    "\n",
    "print(sumlargestnumber([5,10,15]))"
   ]
  },
  {
   "cell_type": "markdown",
   "id": "942c55c1",
   "metadata": {},
   "source": []
  },
  {
   "cell_type": "markdown",
   "id": "5f8e77c5",
   "metadata": {},
   "source": []
  }
 ],
 "metadata": {
  "kernelspec": {
   "display_name": "data_env312",
   "language": "python",
   "name": "python3"
  },
  "language_info": {
   "codemirror_mode": {
    "name": "ipython",
    "version": 3
   },
   "file_extension": ".py",
   "mimetype": "text/x-python",
   "name": "python",
   "nbconvert_exporter": "python",
   "pygments_lexer": "ipython3",
   "version": "3.12.2"
  }
 },
 "nbformat": 4,
 "nbformat_minor": 5
}
