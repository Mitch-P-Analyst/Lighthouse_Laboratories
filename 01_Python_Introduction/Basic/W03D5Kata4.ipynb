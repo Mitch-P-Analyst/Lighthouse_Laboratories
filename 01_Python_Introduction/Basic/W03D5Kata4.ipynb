{
 "cells": [
  {
   "cell_type": "markdown",
   "id": "698b1a1e",
   "metadata": {},
   "source": [
    "# W03 D5 Kata 4"
   ]
  },
  {
   "cell_type": "code",
   "execution_count": 18,
   "id": "eba6a147",
   "metadata": {},
   "outputs": [],
   "source": [
    "\n",
    "\n",
    "\n",
    "instructor_list = [{\"name\": \"Samuel\", \"course\": \"iOS\"},\n",
    "{\"name\": \"Jeremiah\", \"course\": \"Data\"},\n",
    "  {\"name\": \"Ophilia\", \"course\": \"Web\"},\n",
    "  {\"name\": \"Donald\", \"course\": \"Web\"}]\n"
   ]
  },
  {
   "cell_type": "code",
   "execution_count": 23,
   "id": "230b20d0",
   "metadata": {},
   "outputs": [
    {
     "data": {
      "text/plain": [
       "{'name': 'Jeremiah', 'course': 'Data'}"
      ]
     },
     "execution_count": 23,
     "metadata": {},
     "output_type": "execute_result"
    }
   ],
   "source": [
    "def instructor_with_longest_name(instructors):\n",
    "    longest = instructors[0]\n",
    "\n",
    "    for instructor in instructors:\n",
    "        if len(instructor[\"name\"]) > len(longest[\"name\"]):\n",
    "            longest = instructor\n",
    "\n",
    "    return longest\n",
    "\n",
    "instructor_with_longest_name(instructor_list)\n"
   ]
  },
  {
   "cell_type": "code",
   "execution_count": 16,
   "id": "6d110cb2",
   "metadata": {},
   "outputs": [
    {
     "name": "stdout",
     "output_type": "stream",
     "text": [
      "[{'name': 'Samuel', 'course': 'iOS'}, {'name': 'Jeremiah', 'course': 'Data'}, {'name': 'Ophilia', 'course': 'Web'}, {'name': 'Donald', 'course': 'Web'}]\n"
     ]
    }
   ],
   "source": [
    "print(instructors)"
   ]
  },
  {
   "cell_type": "code",
   "execution_count": null,
   "id": "8ad71867",
   "metadata": {},
   "outputs": [],
   "source": []
  }
 ],
 "metadata": {
  "kernelspec": {
   "display_name": "data_env312",
   "language": "python",
   "name": "python3"
  },
  "language_info": {
   "codemirror_mode": {
    "name": "ipython",
    "version": 3
   },
   "file_extension": ".py",
   "mimetype": "text/x-python",
   "name": "python",
   "nbconvert_exporter": "python",
   "pygments_lexer": "ipython3",
   "version": "3.12.2"
  }
 },
 "nbformat": 4,
 "nbformat_minor": 5
}
