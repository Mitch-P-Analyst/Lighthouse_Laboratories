{
 "cells": [
  {
   "cell_type": "markdown",
   "id": "c8525207",
   "metadata": {},
   "source": [
    "# W03D5 Kata 3"
   ]
  },
  {
   "cell_type": "code",
   "execution_count": 30,
   "id": "f70266dd",
   "metadata": {},
   "outputs": [],
   "source": [
    "def numberofvowels(data):\n",
    "    num_vowels = 0\n",
    "    vowels = [\"a\",\"e\",\"i\",\"o\",\"u\"]\n",
    "\n",
    "    for i in range(len(data)):\n",
    "        if data[i].lower() in vowels:\n",
    "            num_vowels += 1\n",
    "\n",
    "    return num_vowels\n",
    "\n"
   ]
  },
  {
   "cell_type": "code",
   "execution_count": 29,
   "id": "aafe7b7f",
   "metadata": {},
   "outputs": [
    {
     "name": "stdout",
     "output_type": "stream",
     "text": [
      "3\n",
      "5\n",
      "5\n"
     ]
    }
   ],
   "source": [
    "print(numberofvowels(\"orange\"))\n",
    "print(numberofvowels(\"lighthouse labs\"))\n",
    "print(numberofvowels(\"aeiou\"))"
   ]
  },
  {
   "cell_type": "code",
   "execution_count": null,
   "id": "46b7290b",
   "metadata": {},
   "outputs": [],
   "source": []
  }
 ],
 "metadata": {
  "kernelspec": {
   "display_name": "data_env312",
   "language": "python",
   "name": "python3"
  },
  "language_info": {
   "codemirror_mode": {
    "name": "ipython",
    "version": 3
   },
   "file_extension": ".py",
   "mimetype": "text/x-python",
   "name": "python",
   "nbconvert_exporter": "python",
   "pygments_lexer": "ipython3",
   "version": "3.12.2"
  }
 },
 "nbformat": 4,
 "nbformat_minor": 5
}
