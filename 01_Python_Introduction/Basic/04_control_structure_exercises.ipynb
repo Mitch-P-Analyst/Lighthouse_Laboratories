{
 "cells": [
  {
   "cell_type": "markdown",
   "metadata": {},
   "source": [
    "# Simple exercises for control structures in Python\n",
    "- conditionals\n",
    "- while loops\n",
    "- for loops"
   ]
  },
  {
   "cell_type": "markdown",
   "metadata": {},
   "source": [
    "## FOR loop"
   ]
  },
  {
   "cell_type": "code",
   "execution_count": 23,
   "metadata": {},
   "outputs": [],
   "source": [
    "heights = [1.82,1.75,1.68,1.76,1.5]"
   ]
  },
  {
   "cell_type": "markdown",
   "metadata": {},
   "source": [
    "#### 0. Use for loop to print values from \"heights\" list "
   ]
  },
  {
   "cell_type": "code",
   "execution_count": 24,
   "metadata": {},
   "outputs": [
    {
     "name": "stdout",
     "output_type": "stream",
     "text": [
      "1.82\n",
      "1.75\n",
      "1.68\n",
      "1.76\n",
      "1.5\n"
     ]
    }
   ],
   "source": [
    "for height in heights:\n",
    "    print(height)"
   ]
  },
  {
   "cell_type": "markdown",
   "metadata": {},
   "source": [
    "#### 1. Use for loop for printing only values bigger than 1.75"
   ]
  },
  {
   "cell_type": "code",
   "execution_count": 25,
   "metadata": {},
   "outputs": [
    {
     "name": "stdout",
     "output_type": "stream",
     "text": [
      "1.82\n",
      "1.76\n"
     ]
    }
   ],
   "source": [
    "for height in heights:\n",
    "    if height > 1.75:\n",
    "        print(height)\n",
    "      "
   ]
  },
  {
   "cell_type": "code",
   "execution_count": null,
   "metadata": {},
   "outputs": [],
   "source": []
  },
  {
   "cell_type": "markdown",
   "metadata": {},
   "source": [
    "#### 2. Use for loop for printing all values until you find value 1.68 (included)"
   ]
  },
  {
   "cell_type": "code",
   "execution_count": 26,
   "metadata": {},
   "outputs": [
    {
     "name": "stdout",
     "output_type": "stream",
     "text": [
      "1.82\n",
      "1.75\n",
      "1.68\n"
     ]
    }
   ],
   "source": [
    "#### 2. Use for loop for printing all values until you find value 1.68 (included)\n",
    "for height in heights:\n",
    "    print(height)\n",
    "    if height == 1.68:\n",
    "        break\n"
   ]
  },
  {
   "cell_type": "code",
   "execution_count": null,
   "metadata": {},
   "outputs": [],
   "source": []
  },
  {
   "cell_type": "markdown",
   "metadata": {},
   "source": [
    "#### 3. Modify the previous loop to print all values from `\"heights\"` without value 1.68"
   ]
  },
  {
   "cell_type": "code",
   "execution_count": null,
   "metadata": {},
   "outputs": [
    {
     "name": "stdout",
     "output_type": "stream",
     "text": [
      "1.82\n",
      "1.75\n",
      "1.76\n",
      "1.5\n"
     ]
    }
   ],
   "source": [
    "\n",
    "for height in heights:\n",
    "    if height == 1.68:\n",
    "        continue\n",
    "    print(height)\n",
    "      \n",
    "\n"
   ]
  },
  {
   "cell_type": "markdown",
   "metadata": {},
   "source": [
    "#### 4. use for loop over to iterate over `\"heights\"` and print \"high\" for values bigger than 1.75, \"medium\" for values between 1.68 and 1.75 and \"small\" for values lower than 1.68"
   ]
  },
  {
   "cell_type": "code",
   "execution_count": 45,
   "metadata": {},
   "outputs": [
    {
     "name": "stdout",
     "output_type": "stream",
     "text": [
      "1.82 -> high\n",
      "1.75 -> medium\n",
      "1.68 -> small\n",
      "1.76 -> high\n",
      "1.5 -> small\n"
     ]
    }
   ],
   "source": [
    "for height in heights:\n",
    "    if height > 1.75:\n",
    "        print(height, '->', 'high')\n",
    "    elif 1.75 <= height  > 1.68:\n",
    "        print(height, '->', 'medium')\n",
    "    else:\n",
    "        print(height, '->', 'small')\n"
   ]
  },
  {
   "cell_type": "code",
   "execution_count": null,
   "metadata": {},
   "outputs": [],
   "source": []
  },
  {
   "cell_type": "markdown",
   "metadata": {},
   "source": [
    "## WHILE loop"
   ]
  },
  {
   "cell_type": "markdown",
   "metadata": {},
   "source": [
    "#### 1. Print out numbers from 0 to 4 with a WHILE Loop"
   ]
  },
  {
   "cell_type": "code",
   "execution_count": 46,
   "metadata": {},
   "outputs": [
    {
     "name": "stdout",
     "output_type": "stream",
     "text": [
      "0\n",
      "1\n",
      "2\n",
      "3\n",
      "4\n"
     ]
    }
   ],
   "source": [
    "#### 1. Print out numbers from 0 to 4 with a WHILE Loop\n",
    "\n",
    "while True:\n",
    "    for i in range(5):\n",
    "        print(i)\n",
    "    break"
   ]
  },
  {
   "cell_type": "code",
   "execution_count": null,
   "metadata": {},
   "outputs": [
    {
     "name": "stdout",
     "output_type": "stream",
     "text": [
      "0\n",
      "2\n",
      "4\n",
      "6\n",
      "8\n",
      "10\n",
      "12\n",
      "14\n"
     ]
    }
   ],
   "source": []
  },
  {
   "cell_type": "markdown",
   "metadata": {},
   "source": [
    "#### 2. use while loop to print out only even numbers lower than 15\n",
    "hint : use `\"%\"` modulo operator"
   ]
  },
  {
   "cell_type": "code",
   "execution_count": 49,
   "metadata": {},
   "outputs": [
    {
     "name": "stdout",
     "output_type": "stream",
     "text": [
      "0\n",
      "2\n",
      "4\n",
      "6\n",
      "8\n",
      "10\n",
      "12\n",
      "14\n"
     ]
    }
   ],
   "source": [
    "count = 0\n",
    "\n",
    "while count < 15:\n",
    "    if count % 2 == 0:\n",
    "        print(count)\n",
    "    count += 1"
   ]
  },
  {
   "cell_type": "code",
   "execution_count": null,
   "metadata": {},
   "outputs": [],
   "source": []
  },
  {
   "cell_type": "markdown",
   "metadata": {},
   "source": [
    "#### 3. use while loop to print all numbers lower than 15 but skip first five values"
   ]
  },
  {
   "cell_type": "code",
   "execution_count": 51,
   "metadata": {},
   "outputs": [
    {
     "name": "stdout",
     "output_type": "stream",
     "text": [
      "5\n",
      "6\n",
      "7\n",
      "8\n",
      "9\n",
      "10\n",
      "11\n",
      "12\n",
      "13\n",
      "14\n"
     ]
    }
   ],
   "source": [
    "while count < 15:\n",
    "    if count >= 5:\n",
    "        print(count)\n",
    "    count += 1"
   ]
  },
  {
   "cell_type": "markdown",
   "metadata": {},
   "source": [
    "## Actors\n",
    "We have two lists actors and roles which are defined below:"
   ]
  },
  {
   "cell_type": "code",
   "execution_count": 56,
   "metadata": {},
   "outputs": [],
   "source": [
    "actors = [\n",
    "    \"Nathan Fillion\",\n",
    "    \"Gina Torres\",\n",
    "    \"Alan Tudyk\",\n",
    "    \"Morena Baccarin\",\n",
    "    \"Adam Baldwin\",\n",
    "    \"Jewel Staite\",\n",
    "    \"Sean Maher\",\n",
    "    \"Summer Glau\",\n",
    "    \"Ron Glass\"\n",
    "]\n",
    "\n",
    "roles = [\n",
    "    \"Captain Malcolm Reynolds\",\n",
    "    \"Zoe Washburn\",\n",
    "    \"Hoban Washburn\",\n",
    "    \"Inara Serra\",\n",
    "    \"Jayne Cobb\",\n",
    "    \"Kaylee Frye\",\n",
    "    \"Dr. Simon Tam\",\n",
    "    \"River Tam\",\n",
    "    \"Derrial Book\"\n",
    "]"
   ]
  },
  {
   "cell_type": "markdown",
   "metadata": {},
   "source": [
    "We would like to produce a credit reel, by matching each actor with their role in the show. We know that both lists are in the correct order, such that for any number—let's say `n`—we know that `actors[n]` and `roles[n]` match. For example, `actors[3]` gives us \"Morena Baccarin,\" and `roles[3]` gives us \"Inara Serra,\" so we know that Morena Baccarin played Inara Serra in the show. **We want to print out the credits for all of the actors in the list.**\n",
    "\n",
    "Here's an example of what we want to see when the code runs:\n",
    "\n",
    "Featuring:<br>\n",
    "=============<br>\n",
    "Nathan Fillion as Captain Malcolm Reynolds\"<br>\n",
    "...."
   ]
  },
  {
   "cell_type": "code",
   "execution_count": 58,
   "metadata": {},
   "outputs": [
    {
     "name": "stdout",
     "output_type": "stream",
     "text": [
      "Nathan Fillion as Captain Malcolm Reynolds\n",
      "Gina Torres as Zoe Washburn\n",
      "Alan Tudyk as Hoban Washburn\n",
      "Morena Baccarin as Inara Serra\n",
      "Adam Baldwin as Jayne Cobb\n",
      "Jewel Staite as Kaylee Frye\n",
      "Sean Maher as Dr. Simon Tam\n",
      "Summer Glau as River Tam\n",
      "Ron Glass as Derrial Book\n"
     ]
    }
   ],
   "source": [
    "for actor, role in zip(actors, roles):\n",
    "    print(f'{actor} as {role}')"
   ]
  },
  {
   "cell_type": "code",
   "execution_count": null,
   "metadata": {},
   "outputs": [],
   "source": []
  }
 ],
 "metadata": {
  "kernelspec": {
   "display_name": "data_env312",
   "language": "python",
   "name": "python3"
  },
  "language_info": {
   "codemirror_mode": {
    "name": "ipython",
    "version": 3
   },
   "file_extension": ".py",
   "mimetype": "text/x-python",
   "name": "python",
   "nbconvert_exporter": "python",
   "pygments_lexer": "ipython3",
   "version": "3.12.2"
  }
 },
 "nbformat": 4,
 "nbformat_minor": 4
}
