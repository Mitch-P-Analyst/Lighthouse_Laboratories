{
 "cells": [
  {
   "cell_type": "code",
   "execution_count": 1,
   "metadata": {},
   "outputs": [],
   "source": [
    "import pandas as pd"
   ]
  },
  {
   "cell_type": "markdown",
   "metadata": {},
   "source": [
    "### Download the data and load it to Pandas. \n",
    "\n",
    "You can find the data files in the README."
   ]
  },
  {
   "cell_type": "code",
   "execution_count": 2,
   "metadata": {},
   "outputs": [
    {
     "data": {
      "text/html": [
       "<div>\n",
       "<style scoped>\n",
       "    .dataframe tbody tr th:only-of-type {\n",
       "        vertical-align: middle;\n",
       "    }\n",
       "\n",
       "    .dataframe tbody tr th {\n",
       "        vertical-align: top;\n",
       "    }\n",
       "\n",
       "    .dataframe thead th {\n",
       "        text-align: right;\n",
       "    }\n",
       "</style>\n",
       "<table border=\"1\" class=\"dataframe\">\n",
       "  <thead>\n",
       "    <tr style=\"text-align: right;\">\n",
       "      <th></th>\n",
       "      <th>title</th>\n",
       "      <th>year</th>\n",
       "      <th>name</th>\n",
       "      <th>type</th>\n",
       "      <th>character</th>\n",
       "      <th>n</th>\n",
       "    </tr>\n",
       "  </thead>\n",
       "  <tbody>\n",
       "    <tr>\n",
       "      <th>0</th>\n",
       "      <td>Closet Monster</td>\n",
       "      <td>2015</td>\n",
       "      <td>Buffy #1</td>\n",
       "      <td>actor</td>\n",
       "      <td>Buffy 4</td>\n",
       "      <td>NaN</td>\n",
       "    </tr>\n",
       "    <tr>\n",
       "      <th>1</th>\n",
       "      <td>Suuri illusioni</td>\n",
       "      <td>1985</td>\n",
       "      <td>Homo $</td>\n",
       "      <td>actor</td>\n",
       "      <td>Guests</td>\n",
       "      <td>22.0</td>\n",
       "    </tr>\n",
       "    <tr>\n",
       "      <th>2</th>\n",
       "      <td>Battle of the Sexes</td>\n",
       "      <td>2017</td>\n",
       "      <td>$hutter</td>\n",
       "      <td>actor</td>\n",
       "      <td>Bobby Riggs Fan</td>\n",
       "      <td>10.0</td>\n",
       "    </tr>\n",
       "    <tr>\n",
       "      <th>3</th>\n",
       "      <td>Secret in Their Eyes</td>\n",
       "      <td>2015</td>\n",
       "      <td>$hutter</td>\n",
       "      <td>actor</td>\n",
       "      <td>2002 Dodger Fan</td>\n",
       "      <td>NaN</td>\n",
       "    </tr>\n",
       "    <tr>\n",
       "      <th>4</th>\n",
       "      <td>Steve Jobs</td>\n",
       "      <td>2015</td>\n",
       "      <td>$hutter</td>\n",
       "      <td>actor</td>\n",
       "      <td>1988 Opera House Patron</td>\n",
       "      <td>NaN</td>\n",
       "    </tr>\n",
       "  </tbody>\n",
       "</table>\n",
       "</div>"
      ],
      "text/plain": [
       "                  title  year      name   type                character     n\n",
       "0        Closet Monster  2015  Buffy #1  actor                  Buffy 4   NaN\n",
       "1       Suuri illusioni  1985    Homo $  actor                   Guests  22.0\n",
       "2   Battle of the Sexes  2017   $hutter  actor          Bobby Riggs Fan  10.0\n",
       "3  Secret in Their Eyes  2015   $hutter  actor          2002 Dodger Fan   NaN\n",
       "4            Steve Jobs  2015   $hutter  actor  1988 Opera House Patron   NaN"
      ]
     },
     "execution_count": 2,
     "metadata": {},
     "output_type": "execute_result"
    }
   ],
   "source": [
    "cast = pd.read_csv('/Users/mitchellpalmer/Projects/Lighthouse Lab Projects/Python Practices/Pandas/Pandas_exercise/data/imdb_pandas/cast.csv', index_col=None)\n",
    "cast.head()"
   ]
  },
  {
   "cell_type": "code",
   "execution_count": 3,
   "metadata": {},
   "outputs": [
    {
     "name": "stderr",
     "output_type": "stream",
     "text": [
      "/var/folders/bs/_y1b6rb96rb21tm4p3r5fpz80000gn/T/ipykernel_83456/3958197310.py:1: FutureWarning: The argument 'infer_datetime_format' is deprecated and will be removed in a future version. A strict version of it is now the default, see https://pandas.pydata.org/pdeps/0004-consistent-to-datetime-parsing.html. You can safely remove this argument.\n",
      "  release_dates = pd.read_csv('/Users/mitchellpalmer/Projects/Lighthouse Lab Projects/Python Practices/Pandas/Pandas_exercise/data/imdb_pandas/release_dates.csv', index_col=None,\n"
     ]
    },
    {
     "data": {
      "text/html": [
       "<div>\n",
       "<style scoped>\n",
       "    .dataframe tbody tr th:only-of-type {\n",
       "        vertical-align: middle;\n",
       "    }\n",
       "\n",
       "    .dataframe tbody tr th {\n",
       "        vertical-align: top;\n",
       "    }\n",
       "\n",
       "    .dataframe thead th {\n",
       "        text-align: right;\n",
       "    }\n",
       "</style>\n",
       "<table border=\"1\" class=\"dataframe\">\n",
       "  <thead>\n",
       "    <tr style=\"text-align: right;\">\n",
       "      <th></th>\n",
       "      <th>title</th>\n",
       "      <th>year</th>\n",
       "      <th>country</th>\n",
       "      <th>date</th>\n",
       "    </tr>\n",
       "  </thead>\n",
       "  <tbody>\n",
       "    <tr>\n",
       "      <th>0</th>\n",
       "      <td>#73, Shaanthi Nivaasa</td>\n",
       "      <td>2007</td>\n",
       "      <td>India</td>\n",
       "      <td>2007-06-15</td>\n",
       "    </tr>\n",
       "    <tr>\n",
       "      <th>1</th>\n",
       "      <td>#Beings</td>\n",
       "      <td>2015</td>\n",
       "      <td>Romania</td>\n",
       "      <td>2015-01-29</td>\n",
       "    </tr>\n",
       "    <tr>\n",
       "      <th>2</th>\n",
       "      <td>#Declimax</td>\n",
       "      <td>2018</td>\n",
       "      <td>Netherlands</td>\n",
       "      <td>2018-01-21</td>\n",
       "    </tr>\n",
       "    <tr>\n",
       "      <th>3</th>\n",
       "      <td>#Ewankosau saranghaeyo</td>\n",
       "      <td>2015</td>\n",
       "      <td>Philippines</td>\n",
       "      <td>2015-01-21</td>\n",
       "    </tr>\n",
       "    <tr>\n",
       "      <th>4</th>\n",
       "      <td>#Horror</td>\n",
       "      <td>2015</td>\n",
       "      <td>USA</td>\n",
       "      <td>2015-11-20</td>\n",
       "    </tr>\n",
       "  </tbody>\n",
       "</table>\n",
       "</div>"
      ],
      "text/plain": [
       "                    title  year      country       date\n",
       "0   #73, Shaanthi Nivaasa  2007        India 2007-06-15\n",
       "1                 #Beings  2015      Romania 2015-01-29\n",
       "2               #Declimax  2018  Netherlands 2018-01-21\n",
       "3  #Ewankosau saranghaeyo  2015  Philippines 2015-01-21\n",
       "4                 #Horror  2015          USA 2015-11-20"
      ]
     },
     "execution_count": 3,
     "metadata": {},
     "output_type": "execute_result"
    }
   ],
   "source": [
    "release_dates = pd.read_csv('/Users/mitchellpalmer/Projects/Lighthouse Lab Projects/Python Practices/Pandas/Pandas_exercise/data/imdb_pandas/release_dates.csv', index_col=None,\n",
    "                                      parse_dates=['date'], infer_datetime_format=True)\n",
    "release_dates.head()"
   ]
  },
  {
   "cell_type": "markdown",
   "metadata": {},
   "source": [
    "### 1. Define a year as a \"Superman year\" whose films feature more Superman characters than Batman. How many years in film history have been Superman years? \n",
    "\n",
    "#### Use .apply() to make the comparison between number of movies in each year"
   ]
  },
  {
   "cell_type": "markdown",
   "metadata": {},
   "source": [
    "> Hint:\n",
    "\n",
    "> Make two dataframes, one for superman roles and one for batman roles. Find the number of roles for each in each year, then merge them so that you have year, n_batman, n_superman. Then use an apply function to check the condition."
   ]
  },
  {
   "cell_type": "code",
   "execution_count": null,
   "metadata": {},
   "outputs": [],
   "source": [
    "# assistance used due to 'naming' my columns. \n",
    "# During the creation of the DataFrames, needed to reset the index of name column for readability\n",
    "\n",
    "n_superman = cast [cast['character']== 'Superman'].groupby('year').size().reset_index(name='n_superman')\n",
    "\n",
    "n_batman = cast [cast['character']== 'Batman'].groupby('year').size().reset_index(name='n_batman')\n",
    "\n",
    "df_supe_vs_bat = pd.merge(n_superman,n_batman,on='year', how='left')\n",
    "\n",
    "df_supe_vs_bat"
   ]
  },
  {
   "cell_type": "code",
   "execution_count": null,
   "metadata": {},
   "outputs": [
    {
     "name": "stdout",
     "output_type": "stream",
     "text": [
      "Superman Years In Film History = 30\n"
     ]
    }
   ],
   "source": [
    "# assistace used to lamba function. Understading how to apply a function across 'rows' of same datatype, but differenet series\n",
    "# assistnace used to get .fillna(0)\n",
    "\n",
    "superman_years = df_supe_vs_bat.fillna(0).apply(lambda row: row['n_superman'] > row['n_batman'], axis=1).count()\n",
    "\n",
    "print (f'Superman Years In Film History =', superman_years )"
   ]
  },
  {
   "cell_type": "markdown",
   "metadata": {},
   "source": [
    "### 2. Classify movies based on the number of roles into 'Small Cast' (1-5 roles), 'Medium Cast' (6-15 roles), and 'Large Cast' (more than 15 roles)\n",
    "\n",
    "> Hint: Group by title and year, then use a function and .apply() to classify. "
   ]
  },
  {
   "cell_type": "code",
   "execution_count": 32,
   "metadata": {},
   "outputs": [
    {
     "data": {
      "text/plain": [
       "title                       year\n",
       "#1 Serial Killer            2013     30\n",
       "#5                          2013      2\n",
       "#50Fathers                  2015     40\n",
       "#66                         2015     14\n",
       "#73, Shaanthi Nivaasa       2007     14\n",
       "                                   ... \n",
       "www.XXX.com                 2003      5\n",
       "xXx                         2002     72\n",
       "xXx: Return of Xander Cage  2017    103\n",
       "xXx: State of the Union     2005    133\n",
       "y                           2016     11\n",
       "Length: 189048, dtype: int64"
      ]
     },
     "execution_count": 32,
     "metadata": {},
     "output_type": "execute_result"
    }
   ],
   "source": [
    "cast_size =  cast.groupby(['title','year']).size()\n",
    "\n",
    "cast_size"
   ]
  },
  {
   "cell_type": "code",
   "execution_count": 46,
   "metadata": {},
   "outputs": [],
   "source": [
    "# struggled with concept of creating a function seperately from the intended DataFrame, to then apply it.\n",
    "# initially tried to produce size_of_Cast function with case_size inside.\n",
    "\n",
    "def size_of_cast(count):\n",
    "    if count <= 5:\n",
    "        return 'Small Cast'\n",
    "    elif 6 < count <= 15:\n",
    "        return 'Medium Cast'\n",
    "    else:\n",
    "        return 'Large Cast'\n"
   ]
  },
  {
   "cell_type": "code",
   "execution_count": 44,
   "metadata": {},
   "outputs": [
    {
     "data": {
      "text/plain": [
       "title                       year\n",
       "#1 Serial Killer            2013     Large Cast\n",
       "#5                          2013     Small Cast\n",
       "#50Fathers                  2015     Large Cast\n",
       "#66                         2015    Medium Cast\n",
       "#73, Shaanthi Nivaasa       2007    Medium Cast\n",
       "                                       ...     \n",
       "www.XXX.com                 2003     Small Cast\n",
       "xXx                         2002     Large Cast\n",
       "xXx: Return of Xander Cage  2017     Large Cast\n",
       "xXx: State of the Union     2005     Large Cast\n",
       "y                           2016    Medium Cast\n",
       "Length: 189048, dtype: object"
      ]
     },
     "execution_count": 44,
     "metadata": {},
     "output_type": "execute_result"
    }
   ],
   "source": [
    "cast_size.apply(size_of_cast)"
   ]
  },
  {
   "cell_type": "code",
   "execution_count": 48,
   "metadata": {},
   "outputs": [
    {
     "data": {
      "text/html": [
       "<div>\n",
       "<style scoped>\n",
       "    .dataframe tbody tr th:only-of-type {\n",
       "        vertical-align: middle;\n",
       "    }\n",
       "\n",
       "    .dataframe tbody tr th {\n",
       "        vertical-align: top;\n",
       "    }\n",
       "\n",
       "    .dataframe thead th {\n",
       "        text-align: right;\n",
       "    }\n",
       "</style>\n",
       "<table border=\"1\" class=\"dataframe\">\n",
       "  <thead>\n",
       "    <tr style=\"text-align: right;\">\n",
       "      <th></th>\n",
       "      <th>title</th>\n",
       "      <th>year</th>\n",
       "      <th>cast_size_category</th>\n",
       "    </tr>\n",
       "  </thead>\n",
       "  <tbody>\n",
       "    <tr>\n",
       "      <th>0</th>\n",
       "      <td>#1 Serial Killer</td>\n",
       "      <td>2013</td>\n",
       "      <td>Large Cast</td>\n",
       "    </tr>\n",
       "    <tr>\n",
       "      <th>1</th>\n",
       "      <td>#5</td>\n",
       "      <td>2013</td>\n",
       "      <td>Small Cast</td>\n",
       "    </tr>\n",
       "    <tr>\n",
       "      <th>2</th>\n",
       "      <td>#50Fathers</td>\n",
       "      <td>2015</td>\n",
       "      <td>Large Cast</td>\n",
       "    </tr>\n",
       "    <tr>\n",
       "      <th>3</th>\n",
       "      <td>#66</td>\n",
       "      <td>2015</td>\n",
       "      <td>Medium Cast</td>\n",
       "    </tr>\n",
       "    <tr>\n",
       "      <th>4</th>\n",
       "      <td>#73, Shaanthi Nivaasa</td>\n",
       "      <td>2007</td>\n",
       "      <td>Medium Cast</td>\n",
       "    </tr>\n",
       "  </tbody>\n",
       "</table>\n",
       "</div>"
      ],
      "text/plain": [
       "                   title  year cast_size_category\n",
       "0       #1 Serial Killer  2013         Large Cast\n",
       "1                     #5  2013         Small Cast\n",
       "2             #50Fathers  2015         Large Cast\n",
       "3                    #66  2015        Medium Cast\n",
       "4  #73, Shaanthi Nivaasa  2007        Medium Cast"
      ]
     },
     "execution_count": 48,
     "metadata": {},
     "output_type": "execute_result"
    }
   ],
   "source": [
    "# Apply directly — no need to reset_index if you're fine with Series output\n",
    "cast_classification = cast_size.apply(size_of_cast)\n",
    "\n",
    "# Optional: if you want to turn it into a DataFrame for easier display\n",
    "cast_classification_df = cast_classification.reset_index(name='cast_size_category')\n",
    "\n",
    "cast_classification_df.head()"
   ]
  },
  {
   "cell_type": "markdown",
   "metadata": {},
   "source": [
    "### 3. Count the number of movies where the same actor or actress played multiple roles. Use .apply() to check if the same name is repeated in any movie's cast."
   ]
  },
  {
   "cell_type": "code",
   "execution_count": 60,
   "metadata": {},
   "outputs": [
    {
     "data": {
      "text/plain": [
       "<pandas.core.groupby.generic.DataFrameGroupBy object at 0x31bb53f80>"
      ]
     },
     "execution_count": 60,
     "metadata": {},
     "output_type": "execute_result"
    }
   ],
   "source": [
    "grouped = cast.groupby(['title', 'year'])\n",
    "grouped"
   ]
  },
  {
   "cell_type": "code",
   "execution_count": null,
   "metadata": {},
   "outputs": [],
   "source": [
    "# needed assistance from this point onwards\n",
    "\n",
    "# duplicated().any() checks for any actor who appears more than once in a movie’s cast.\n",
    "\n",
    "# .apply() runs this check for every movie (title + year group).\n",
    "\n",
    "# .sum() works because True values are treated as 1s in Python.\n",
    "\n",
    "# Step 2: For each movie, check if any actor appears more than once\n",
    "def has_duplicate_names(group):\n",
    "    return group['name'].duplicated().any()"
   ]
  },
  {
   "cell_type": "code",
   "execution_count": 68,
   "metadata": {},
   "outputs": [
    {
     "name": "stderr",
     "output_type": "stream",
     "text": [
      "/var/folders/bs/_y1b6rb96rb21tm4p3r5fpz80000gn/T/ipykernel_83456/3563610359.py:3: FutureWarning: DataFrameGroupBy.apply operated on the grouping columns. This behavior is deprecated, and in a future version of pandas the grouping columns will be excluded from the operation. Either pass `include_groups=False` to exclude the groupings or explicitly select the grouping columns after groupby to silence this warning.\n",
      "  duplicate_roles = grouped.apply(has_duplicate_names)\n"
     ]
    }
   ],
   "source": [
    "# Step 3: Apply the function and count how many movies had duplicate actor names\n",
    "\n",
    "duplicate_roles = grouped.apply(has_duplicate_names)"
   ]
  },
  {
   "cell_type": "code",
   "execution_count": 64,
   "metadata": {},
   "outputs": [],
   "source": [
    "# Step 4: Sum up how many movies returned True\n",
    "num_movies_with_duplicates = duplicate_roles.sum()\n"
   ]
  },
  {
   "cell_type": "code",
   "execution_count": 65,
   "metadata": {},
   "outputs": [
    {
     "name": "stdout",
     "output_type": "stream",
     "text": [
      "Movies where actors played multiple roles: 24621\n"
     ]
    }
   ],
   "source": [
    "print(\"Movies where actors played multiple roles:\", num_movies_with_duplicates)"
   ]
  },
  {
   "cell_type": "markdown",
   "metadata": {},
   "source": [
    "### 4. Find movies with at least one character with a name starting with \"Dr.\". \n",
    "\n",
    "### Use apply to create a new column indicating whether a movie has such a character, and then count the number of these movies.\n",
    "\n",
    "\n"
   ]
  },
  {
   "cell_type": "code",
   "execution_count": 79,
   "metadata": {},
   "outputs": [
    {
     "data": {
      "text/html": [
       "<div>\n",
       "<style scoped>\n",
       "    .dataframe tbody tr th:only-of-type {\n",
       "        vertical-align: middle;\n",
       "    }\n",
       "\n",
       "    .dataframe tbody tr th {\n",
       "        vertical-align: top;\n",
       "    }\n",
       "\n",
       "    .dataframe thead th {\n",
       "        text-align: right;\n",
       "    }\n",
       "</style>\n",
       "<table border=\"1\" class=\"dataframe\">\n",
       "  <thead>\n",
       "    <tr style=\"text-align: right;\">\n",
       "      <th></th>\n",
       "      <th>title</th>\n",
       "      <th>year</th>\n",
       "      <th>name</th>\n",
       "      <th>type</th>\n",
       "      <th>character</th>\n",
       "      <th>n</th>\n",
       "      <th>has_dr_character</th>\n",
       "    </tr>\n",
       "  </thead>\n",
       "  <tbody>\n",
       "    <tr>\n",
       "      <th>35</th>\n",
       "      <td>They Want Dick Dickster</td>\n",
       "      <td>2015</td>\n",
       "      <td>Zhavier' (II) 'Fox</td>\n",
       "      <td>actor</td>\n",
       "      <td>Dr. Shrinkalotsky</td>\n",
       "      <td>25.0</td>\n",
       "      <td>True</td>\n",
       "    </tr>\n",
       "    <tr>\n",
       "      <th>185</th>\n",
       "      <td>Just Believe</td>\n",
       "      <td>2014</td>\n",
       "      <td>Hassan A</td>\n",
       "      <td>actor</td>\n",
       "      <td>Dr. Hamada</td>\n",
       "      <td>NaN</td>\n",
       "      <td>True</td>\n",
       "    </tr>\n",
       "    <tr>\n",
       "      <th>681</th>\n",
       "      <td>Mothers and Daughters</td>\n",
       "      <td>2016</td>\n",
       "      <td>Quinton Aaron</td>\n",
       "      <td>actor</td>\n",
       "      <td>Dr. Hamilton</td>\n",
       "      <td>23.0</td>\n",
       "      <td>True</td>\n",
       "    </tr>\n",
       "    <tr>\n",
       "      <th>1283</th>\n",
       "      <td>All Over the Guy</td>\n",
       "      <td>2001</td>\n",
       "      <td>Tony Abatemarco</td>\n",
       "      <td>actor</td>\n",
       "      <td>Dr. David Wyckoff</td>\n",
       "      <td>NaN</td>\n",
       "      <td>True</td>\n",
       "    </tr>\n",
       "    <tr>\n",
       "      <th>1312</th>\n",
       "      <td>Return to Innocence</td>\n",
       "      <td>2001</td>\n",
       "      <td>Paul Vito Abato</td>\n",
       "      <td>actor</td>\n",
       "      <td>Dr. Peck</td>\n",
       "      <td>16.0</td>\n",
       "      <td>True</td>\n",
       "    </tr>\n",
       "    <tr>\n",
       "      <th>1338</th>\n",
       "      <td>For Real</td>\n",
       "      <td>2003</td>\n",
       "      <td>Chris Abaya</td>\n",
       "      <td>actor</td>\n",
       "      <td>Dr. Glock</td>\n",
       "      <td>NaN</td>\n",
       "      <td>True</td>\n",
       "    </tr>\n",
       "    <tr>\n",
       "      <th>1561</th>\n",
       "      <td>Ae Dil Hai Mushkil</td>\n",
       "      <td>2016</td>\n",
       "      <td>Imran Abbas</td>\n",
       "      <td>actor</td>\n",
       "      <td>Dr. Faisal</td>\n",
       "      <td>6.0</td>\n",
       "      <td>True</td>\n",
       "    </tr>\n",
       "    <tr>\n",
       "      <th>1875</th>\n",
       "      <td>Bad Dreams</td>\n",
       "      <td>1988</td>\n",
       "      <td>Bruce Abbott</td>\n",
       "      <td>actor</td>\n",
       "      <td>Dr. Alex Karmen</td>\n",
       "      <td>2.0</td>\n",
       "      <td>True</td>\n",
       "    </tr>\n",
       "    <tr>\n",
       "      <th>1876</th>\n",
       "      <td>Bride of Re-Animator</td>\n",
       "      <td>1989</td>\n",
       "      <td>Bruce Abbott</td>\n",
       "      <td>actor</td>\n",
       "      <td>Dr. Dan Cain</td>\n",
       "      <td>2.0</td>\n",
       "      <td>True</td>\n",
       "    </tr>\n",
       "    <tr>\n",
       "      <th>1924</th>\n",
       "      <td>The Time of Their Lives</td>\n",
       "      <td>1946</td>\n",
       "      <td>Bud Abbott</td>\n",
       "      <td>actor</td>\n",
       "      <td>Dr. Ralph Greenway</td>\n",
       "      <td>1.0</td>\n",
       "      <td>True</td>\n",
       "    </tr>\n",
       "  </tbody>\n",
       "</table>\n",
       "</div>"
      ],
      "text/plain": [
       "                        title  year                name   type  \\\n",
       "35    They Want Dick Dickster  2015  Zhavier' (II) 'Fox  actor   \n",
       "185              Just Believe  2014            Hassan A  actor   \n",
       "681     Mothers and Daughters  2016       Quinton Aaron  actor   \n",
       "1283         All Over the Guy  2001     Tony Abatemarco  actor   \n",
       "1312      Return to Innocence  2001     Paul Vito Abato  actor   \n",
       "1338                 For Real  2003         Chris Abaya  actor   \n",
       "1561       Ae Dil Hai Mushkil  2016         Imran Abbas  actor   \n",
       "1875               Bad Dreams  1988        Bruce Abbott  actor   \n",
       "1876     Bride of Re-Animator  1989        Bruce Abbott  actor   \n",
       "1924  The Time of Their Lives  1946          Bud Abbott  actor   \n",
       "\n",
       "               character     n  has_dr_character  \n",
       "35     Dr. Shrinkalotsky  25.0              True  \n",
       "185           Dr. Hamada   NaN              True  \n",
       "681         Dr. Hamilton  23.0              True  \n",
       "1283   Dr. David Wyckoff   NaN              True  \n",
       "1312            Dr. Peck  16.0              True  \n",
       "1338           Dr. Glock   NaN              True  \n",
       "1561          Dr. Faisal   6.0              True  \n",
       "1875     Dr. Alex Karmen   2.0              True  \n",
       "1876        Dr. Dan Cain   2.0              True  \n",
       "1924  Dr. Ralph Greenway   1.0              True  "
      ]
     },
     "execution_count": 79,
     "metadata": {},
     "output_type": "execute_result"
    }
   ],
   "source": [
    "# this initial Dataframe I created, but otherwise, struggled with processing and succceeding with question.\n",
    "# assistance used to answer question in python blocks beloqw\n",
    "\n",
    "Dr_character_movies = cast[ cast['character'].str.startswith(\"Dr.\", na=False) ]\n",
    "\n",
    "Dr_character_movies.head(10)"
   ]
  },
  {
   "cell_type": "code",
   "execution_count": 78,
   "metadata": {},
   "outputs": [
    {
     "name": "stdout",
     "output_type": "stream",
     "text": [
      "Number of movies with at least one 'Dr.' character: 18676\n"
     ]
    }
   ],
   "source": [
    "cast['has_dr_character'] = cast['character'].apply(lambda x: str(x).startswith(\"Dr.\") if pd.notnull(x) else False)\n",
    "\n",
    "    \n",
    "dr_movies = cast[cast['has_dr_character']]\n",
    "dr_movie_count = dr_movies[['title', 'year']].drop_duplicates().shape[0]\n",
    "\n",
    "print(\"Number of movies with at least one 'Dr.' character:\", dr_movie_count)\n"
   ]
  },
  {
   "cell_type": "markdown",
   "metadata": {},
   "source": [
    "### 5. Create a new column indicating whether each movie has a lead role (n=1) played by an actress. \n",
    "\n",
    "#### Use apply to achieve this, and then count the number of such movies.\n",
    "\n",
    "\n",
    "Severely struggled with this equation. All assisstance"
   ]
  },
  {
   "cell_type": "code",
   "execution_count": 101,
   "metadata": {},
   "outputs": [
    {
     "name": "stdout",
     "output_type": "stream",
     "text": [
      "Number of movies with a female lead: 43691\n"
     ]
    },
    {
     "name": "stderr",
     "output_type": "stream",
     "text": [
      "/var/folders/bs/_y1b6rb96rb21tm4p3r5fpz80000gn/T/ipykernel_83456/2541313339.py:9: FutureWarning: DataFrameGroupBy.apply operated on the grouping columns. This behavior is deprecated, and in a future version of pandas the grouping columns will be excluded from the operation. Either pass `include_groups=False` to exclude the groupings or explicitly select the grouping columns after groupby to silence this warning.\n",
      "  female_lead_flags = grouped.apply(has_female_lead)\n"
     ]
    }
   ],
   "source": [
    "# Step 1: Group by movie title and year\n",
    "grouped = cast.groupby(['title', 'year'])\n",
    "\n",
    "# Step 2: Define a function to check if any actress has n == 1 in that movie\n",
    "def has_female_lead(group):\n",
    "    return ((group['type'] == 'actress') & (group['n'] == 1)).any()\n",
    "\n",
    "# Step 3: Apply the function to each group\n",
    "female_lead_flags = grouped.apply(has_female_lead)\n",
    "\n",
    "# Step 4: Count how many movies have a female lead\n",
    "num_female_lead_movies = female_lead_flags.sum()\n",
    "\n",
    "print(\"Number of movies with a female lead:\", num_female_lead_movies)\n"
   ]
  },
  {
   "cell_type": "code",
   "execution_count": 100,
   "metadata": {},
   "outputs": [
    {
     "data": {
      "text/plain": [
       "np.int64(45614)"
      ]
     },
     "execution_count": 100,
     "metadata": {},
     "output_type": "execute_result"
    }
   ],
   "source": [
    "cast['has_female_lead'].sum()\n"
   ]
  },
  {
   "cell_type": "code",
   "execution_count": null,
   "metadata": {},
   "outputs": [],
   "source": []
  }
 ],
 "metadata": {
  "kernelspec": {
   "display_name": "data_env312",
   "language": "python",
   "name": "python3"
  },
  "language_info": {
   "codemirror_mode": {
    "name": "ipython",
    "version": 3
   },
   "file_extension": ".py",
   "mimetype": "text/x-python",
   "name": "python",
   "nbconvert_exporter": "python",
   "pygments_lexer": "ipython3",
   "version": "3.12.2"
  }
 },
 "nbformat": 4,
 "nbformat_minor": 4
}
