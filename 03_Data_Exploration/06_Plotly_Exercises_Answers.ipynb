{
 "cells": [
  {
   "cell_type": "markdown",
   "metadata": {},
   "source": [
    "## Plotly Assignment\n",
    "\n",
    "**Note**: For some of you, plotly go does not display at all in Jupyter Labs. It is a known bug with plotly. If you are using Jupyter Labs for this assignment and the plots are not showing, please switch to Jupyter Notebooks or Google Collab to complete this exercise. "
   ]
  },
  {
   "cell_type": "code",
   "execution_count": 2,
   "metadata": {
    "ExecuteTime": {
     "end_time": "2020-04-23T18:26:07.447844Z",
     "start_time": "2020-04-23T18:26:07.441869Z"
    }
   },
   "outputs": [],
   "source": [
    "# import plotly graph objects\n",
    "import plotly.graph_objs as go\n",
    "\n",
    "# import pandas\n",
    "import pandas as pd\n",
    "\n",
    "import numpy as np"
   ]
  },
  {
   "cell_type": "markdown",
   "metadata": {},
   "source": [
    "### Task 1: Create a scatterplot with a 1000 random data points. \n",
    "\n",
    "- x-axis values should come from a normal distribution using np.random.randn(1000)\n",
    "\n",
    "- y-axis values should come from a uniform distribution over [0,1) using np.random.rand(1000)"
   ]
  },
  {
   "cell_type": "code",
   "execution_count": 3,
   "metadata": {
    "ExecuteTime": {
     "end_time": "2020-04-23T18:26:07.909854Z",
     "start_time": "2020-04-23T18:26:07.906289Z"
    }
   },
   "outputs": [],
   "source": [
    "# obtain the x and y values:\n",
    "\n",
    "random_x = np.random.randn(1000)\n",
    "random_y = np.random.uniform(0, 1, 1000)\n"
   ]
  },
  {
   "cell_type": "code",
   "execution_count": 8,
   "metadata": {},
   "outputs": [],
   "source": [
    "# define a data variable\n",
    "data = [go.Scatter(\n",
    "    x = random_x,\n",
    "    y = random_y,\n",
    "    mode = 'markers'\n",
    ")]"
   ]
  },
  {
   "cell_type": "code",
   "execution_count": 13,
   "metadata": {},
   "outputs": [],
   "source": [
    "# define the layout, include a title and axis labels\n",
    "\n",
    "layout = go.Layout(\n",
    "    title = 'Random Scatter Plot',\n",
    "    xaxis = dict(title = 'Random X-Values'),\n",
    "    yaxis = dict(title = 'Random Y-Values'),\n",
    "    hovermode = 'closest'\n",
    ")"
   ]
  },
  {
   "cell_type": "code",
   "execution_count": 14,
   "metadata": {},
   "outputs": [
    {
     "data": {
      "application/vnd.plotly.v1+json": {
       "config": {
        "plotlyServerURL": "https://plot.ly"
       },
       "data": [
        {
         "mode": "markers",
         "type": "scatter",
         "x": {
          "bdata": "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",
          "dtype": "f8"
         },
         "y": {
          "bdata": "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",
          "dtype": "f8"
         }
        }
       ],
       "layout": {
        "hovermode": "closest",
        "template": {
         "data": {
          "bar": [
           {
            "error_x": {
             "color": "#2a3f5f"
            },
            "error_y": {
             "color": "#2a3f5f"
            },
            "marker": {
             "line": {
              "color": "#E5ECF6",
              "width": 0.5
             },
             "pattern": {
              "fillmode": "overlay",
              "size": 10,
              "solidity": 0.2
             }
            },
            "type": "bar"
           }
          ],
          "barpolar": [
           {
            "marker": {
             "line": {
              "color": "#E5ECF6",
              "width": 0.5
             },
             "pattern": {
              "fillmode": "overlay",
              "size": 10,
              "solidity": 0.2
             }
            },
            "type": "barpolar"
           }
          ],
          "carpet": [
           {
            "aaxis": {
             "endlinecolor": "#2a3f5f",
             "gridcolor": "white",
             "linecolor": "white",
             "minorgridcolor": "white",
             "startlinecolor": "#2a3f5f"
            },
            "baxis": {
             "endlinecolor": "#2a3f5f",
             "gridcolor": "white",
             "linecolor": "white",
             "minorgridcolor": "white",
             "startlinecolor": "#2a3f5f"
            },
            "type": "carpet"
           }
          ],
          "choropleth": [
           {
            "colorbar": {
             "outlinewidth": 0,
             "ticks": ""
            },
            "type": "choropleth"
           }
          ],
          "contour": [
           {
            "colorbar": {
             "outlinewidth": 0,
             "ticks": ""
            },
            "colorscale": [
             [
              0,
              "#0d0887"
             ],
             [
              0.1111111111111111,
              "#46039f"
             ],
             [
              0.2222222222222222,
              "#7201a8"
             ],
             [
              0.3333333333333333,
              "#9c179e"
             ],
             [
              0.4444444444444444,
              "#bd3786"
             ],
             [
              0.5555555555555556,
              "#d8576b"
             ],
             [
              0.6666666666666666,
              "#ed7953"
             ],
             [
              0.7777777777777778,
              "#fb9f3a"
             ],
             [
              0.8888888888888888,
              "#fdca26"
             ],
             [
              1,
              "#f0f921"
             ]
            ],
            "type": "contour"
           }
          ],
          "contourcarpet": [
           {
            "colorbar": {
             "outlinewidth": 0,
             "ticks": ""
            },
            "type": "contourcarpet"
           }
          ],
          "heatmap": [
           {
            "colorbar": {
             "outlinewidth": 0,
             "ticks": ""
            },
            "colorscale": [
             [
              0,
              "#0d0887"
             ],
             [
              0.1111111111111111,
              "#46039f"
             ],
             [
              0.2222222222222222,
              "#7201a8"
             ],
             [
              0.3333333333333333,
              "#9c179e"
             ],
             [
              0.4444444444444444,
              "#bd3786"
             ],
             [
              0.5555555555555556,
              "#d8576b"
             ],
             [
              0.6666666666666666,
              "#ed7953"
             ],
             [
              0.7777777777777778,
              "#fb9f3a"
             ],
             [
              0.8888888888888888,
              "#fdca26"
             ],
             [
              1,
              "#f0f921"
             ]
            ],
            "type": "heatmap"
           }
          ],
          "histogram": [
           {
            "marker": {
             "pattern": {
              "fillmode": "overlay",
              "size": 10,
              "solidity": 0.2
             }
            },
            "type": "histogram"
           }
          ],
          "histogram2d": [
           {
            "colorbar": {
             "outlinewidth": 0,
             "ticks": ""
            },
            "colorscale": [
             [
              0,
              "#0d0887"
             ],
             [
              0.1111111111111111,
              "#46039f"
             ],
             [
              0.2222222222222222,
              "#7201a8"
             ],
             [
              0.3333333333333333,
              "#9c179e"
             ],
             [
              0.4444444444444444,
              "#bd3786"
             ],
             [
              0.5555555555555556,
              "#d8576b"
             ],
             [
              0.6666666666666666,
              "#ed7953"
             ],
             [
              0.7777777777777778,
              "#fb9f3a"
             ],
             [
              0.8888888888888888,
              "#fdca26"
             ],
             [
              1,
              "#f0f921"
             ]
            ],
            "type": "histogram2d"
           }
          ],
          "histogram2dcontour": [
           {
            "colorbar": {
             "outlinewidth": 0,
             "ticks": ""
            },
            "colorscale": [
             [
              0,
              "#0d0887"
             ],
             [
              0.1111111111111111,
              "#46039f"
             ],
             [
              0.2222222222222222,
              "#7201a8"
             ],
             [
              0.3333333333333333,
              "#9c179e"
             ],
             [
              0.4444444444444444,
              "#bd3786"
             ],
             [
              0.5555555555555556,
              "#d8576b"
             ],
             [
              0.6666666666666666,
              "#ed7953"
             ],
             [
              0.7777777777777778,
              "#fb9f3a"
             ],
             [
              0.8888888888888888,
              "#fdca26"
             ],
             [
              1,
              "#f0f921"
             ]
            ],
            "type": "histogram2dcontour"
           }
          ],
          "mesh3d": [
           {
            "colorbar": {
             "outlinewidth": 0,
             "ticks": ""
            },
            "type": "mesh3d"
           }
          ],
          "parcoords": [
           {
            "line": {
             "colorbar": {
              "outlinewidth": 0,
              "ticks": ""
             }
            },
            "type": "parcoords"
           }
          ],
          "pie": [
           {
            "automargin": true,
            "type": "pie"
           }
          ],
          "scatter": [
           {
            "fillpattern": {
             "fillmode": "overlay",
             "size": 10,
             "solidity": 0.2
            },
            "type": "scatter"
           }
          ],
          "scatter3d": [
           {
            "line": {
             "colorbar": {
              "outlinewidth": 0,
              "ticks": ""
             }
            },
            "marker": {
             "colorbar": {
              "outlinewidth": 0,
              "ticks": ""
             }
            },
            "type": "scatter3d"
           }
          ],
          "scattercarpet": [
           {
            "marker": {
             "colorbar": {
              "outlinewidth": 0,
              "ticks": ""
             }
            },
            "type": "scattercarpet"
           }
          ],
          "scattergeo": [
           {
            "marker": {
             "colorbar": {
              "outlinewidth": 0,
              "ticks": ""
             }
            },
            "type": "scattergeo"
           }
          ],
          "scattergl": [
           {
            "marker": {
             "colorbar": {
              "outlinewidth": 0,
              "ticks": ""
             }
            },
            "type": "scattergl"
           }
          ],
          "scattermap": [
           {
            "marker": {
             "colorbar": {
              "outlinewidth": 0,
              "ticks": ""
             }
            },
            "type": "scattermap"
           }
          ],
          "scattermapbox": [
           {
            "marker": {
             "colorbar": {
              "outlinewidth": 0,
              "ticks": ""
             }
            },
            "type": "scattermapbox"
           }
          ],
          "scatterpolar": [
           {
            "marker": {
             "colorbar": {
              "outlinewidth": 0,
              "ticks": ""
             }
            },
            "type": "scatterpolar"
           }
          ],
          "scatterpolargl": [
           {
            "marker": {
             "colorbar": {
              "outlinewidth": 0,
              "ticks": ""
             }
            },
            "type": "scatterpolargl"
           }
          ],
          "scatterternary": [
           {
            "marker": {
             "colorbar": {
              "outlinewidth": 0,
              "ticks": ""
             }
            },
            "type": "scatterternary"
           }
          ],
          "surface": [
           {
            "colorbar": {
             "outlinewidth": 0,
             "ticks": ""
            },
            "colorscale": [
             [
              0,
              "#0d0887"
             ],
             [
              0.1111111111111111,
              "#46039f"
             ],
             [
              0.2222222222222222,
              "#7201a8"
             ],
             [
              0.3333333333333333,
              "#9c179e"
             ],
             [
              0.4444444444444444,
              "#bd3786"
             ],
             [
              0.5555555555555556,
              "#d8576b"
             ],
             [
              0.6666666666666666,
              "#ed7953"
             ],
             [
              0.7777777777777778,
              "#fb9f3a"
             ],
             [
              0.8888888888888888,
              "#fdca26"
             ],
             [
              1,
              "#f0f921"
             ]
            ],
            "type": "surface"
           }
          ],
          "table": [
           {
            "cells": {
             "fill": {
              "color": "#EBF0F8"
             },
             "line": {
              "color": "white"
             }
            },
            "header": {
             "fill": {
              "color": "#C8D4E3"
             },
             "line": {
              "color": "white"
             }
            },
            "type": "table"
           }
          ]
         },
         "layout": {
          "annotationdefaults": {
           "arrowcolor": "#2a3f5f",
           "arrowhead": 0,
           "arrowwidth": 1
          },
          "autotypenumbers": "strict",
          "coloraxis": {
           "colorbar": {
            "outlinewidth": 0,
            "ticks": ""
           }
          },
          "colorscale": {
           "diverging": [
            [
             0,
             "#8e0152"
            ],
            [
             0.1,
             "#c51b7d"
            ],
            [
             0.2,
             "#de77ae"
            ],
            [
             0.3,
             "#f1b6da"
            ],
            [
             0.4,
             "#fde0ef"
            ],
            [
             0.5,
             "#f7f7f7"
            ],
            [
             0.6,
             "#e6f5d0"
            ],
            [
             0.7,
             "#b8e186"
            ],
            [
             0.8,
             "#7fbc41"
            ],
            [
             0.9,
             "#4d9221"
            ],
            [
             1,
             "#276419"
            ]
           ],
           "sequential": [
            [
             0,
             "#0d0887"
            ],
            [
             0.1111111111111111,
             "#46039f"
            ],
            [
             0.2222222222222222,
             "#7201a8"
            ],
            [
             0.3333333333333333,
             "#9c179e"
            ],
            [
             0.4444444444444444,
             "#bd3786"
            ],
            [
             0.5555555555555556,
             "#d8576b"
            ],
            [
             0.6666666666666666,
             "#ed7953"
            ],
            [
             0.7777777777777778,
             "#fb9f3a"
            ],
            [
             0.8888888888888888,
             "#fdca26"
            ],
            [
             1,
             "#f0f921"
            ]
           ],
           "sequentialminus": [
            [
             0,
             "#0d0887"
            ],
            [
             0.1111111111111111,
             "#46039f"
            ],
            [
             0.2222222222222222,
             "#7201a8"
            ],
            [
             0.3333333333333333,
             "#9c179e"
            ],
            [
             0.4444444444444444,
             "#bd3786"
            ],
            [
             0.5555555555555556,
             "#d8576b"
            ],
            [
             0.6666666666666666,
             "#ed7953"
            ],
            [
             0.7777777777777778,
             "#fb9f3a"
            ],
            [
             0.8888888888888888,
             "#fdca26"
            ],
            [
             1,
             "#f0f921"
            ]
           ]
          },
          "colorway": [
           "#636efa",
           "#EF553B",
           "#00cc96",
           "#ab63fa",
           "#FFA15A",
           "#19d3f3",
           "#FF6692",
           "#B6E880",
           "#FF97FF",
           "#FECB52"
          ],
          "font": {
           "color": "#2a3f5f"
          },
          "geo": {
           "bgcolor": "white",
           "lakecolor": "white",
           "landcolor": "#E5ECF6",
           "showlakes": true,
           "showland": true,
           "subunitcolor": "white"
          },
          "hoverlabel": {
           "align": "left"
          },
          "hovermode": "closest",
          "mapbox": {
           "style": "light"
          },
          "paper_bgcolor": "white",
          "plot_bgcolor": "#E5ECF6",
          "polar": {
           "angularaxis": {
            "gridcolor": "white",
            "linecolor": "white",
            "ticks": ""
           },
           "bgcolor": "#E5ECF6",
           "radialaxis": {
            "gridcolor": "white",
            "linecolor": "white",
            "ticks": ""
           }
          },
          "scene": {
           "xaxis": {
            "backgroundcolor": "#E5ECF6",
            "gridcolor": "white",
            "gridwidth": 2,
            "linecolor": "white",
            "showbackground": true,
            "ticks": "",
            "zerolinecolor": "white"
           },
           "yaxis": {
            "backgroundcolor": "#E5ECF6",
            "gridcolor": "white",
            "gridwidth": 2,
            "linecolor": "white",
            "showbackground": true,
            "ticks": "",
            "zerolinecolor": "white"
           },
           "zaxis": {
            "backgroundcolor": "#E5ECF6",
            "gridcolor": "white",
            "gridwidth": 2,
            "linecolor": "white",
            "showbackground": true,
            "ticks": "",
            "zerolinecolor": "white"
           }
          },
          "shapedefaults": {
           "line": {
            "color": "#2a3f5f"
           }
          },
          "ternary": {
           "aaxis": {
            "gridcolor": "white",
            "linecolor": "white",
            "ticks": ""
           },
           "baxis": {
            "gridcolor": "white",
            "linecolor": "white",
            "ticks": ""
           },
           "bgcolor": "#E5ECF6",
           "caxis": {
            "gridcolor": "white",
            "linecolor": "white",
            "ticks": ""
           }
          },
          "title": {
           "x": 0.05
          },
          "xaxis": {
           "automargin": true,
           "gridcolor": "white",
           "linecolor": "white",
           "ticks": "",
           "title": {
            "standoff": 15
           },
           "zerolinecolor": "white",
           "zerolinewidth": 2
          },
          "yaxis": {
           "automargin": true,
           "gridcolor": "white",
           "linecolor": "white",
           "ticks": "",
           "title": {
            "standoff": 15
           },
           "zerolinecolor": "white",
           "zerolinewidth": 2
          }
         }
        },
        "title": {
         "text": "Random Scatter Plot"
        },
        "xaxis": {
         "title": {
          "text": "Random X-Values"
         }
        },
        "yaxis": {
         "title": {
          "text": "Random Y-Values"
         }
        }
       }
      }
     },
     "metadata": {},
     "output_type": "display_data"
    }
   ],
   "source": [
    "# Create a fig from the data and layout. Then plot the fig\n",
    "\n",
    "fig = go.Figure(data=data, layout=layout)\n",
    "fig.show()\n"
   ]
  },
  {
   "cell_type": "markdown",
   "metadata": {},
   "source": [
    "-------------\n",
    "### Task 2: Create a stacked bar chart with the data from the link below. \n",
    "\n",
    "**Note** that the questions appear in the index and should be used for the x-axis, while the responses appear as column labels. You will need to create more `traces`, one for each column.\n",
    "\n",
    "Stretch Task: Create a horizontal bar chart! Use this documentation [here](https://plot.ly/python/horizontal-bar-charts/) for help."
   ]
  },
  {
   "cell_type": "code",
   "execution_count": 37,
   "metadata": {
    "ExecuteTime": {
     "end_time": "2020-04-23T18:26:08.379200Z",
     "start_time": "2020-04-23T18:26:08.282163Z"
    }
   },
   "outputs": [
    {
     "data": {
      "text/html": [
       "<div>\n",
       "<style scoped>\n",
       "    .dataframe tbody tr th:only-of-type {\n",
       "        vertical-align: middle;\n",
       "    }\n",
       "\n",
       "    .dataframe tbody tr th {\n",
       "        vertical-align: top;\n",
       "    }\n",
       "\n",
       "    .dataframe thead th {\n",
       "        text-align: right;\n",
       "    }\n",
       "</style>\n",
       "<table border=\"1\" class=\"dataframe\">\n",
       "  <thead>\n",
       "    <tr style=\"text-align: right;\">\n",
       "      <th></th>\n",
       "      <th>index</th>\n",
       "      <th>Strongly Agree</th>\n",
       "      <th>Somewhat Agree</th>\n",
       "      <th>Neutral</th>\n",
       "      <th>Somewhat Disagree</th>\n",
       "      <th>Strongly Disagree</th>\n",
       "    </tr>\n",
       "  </thead>\n",
       "  <tbody>\n",
       "    <tr>\n",
       "      <th>0</th>\n",
       "      <td>Question 1</td>\n",
       "      <td>0.45</td>\n",
       "      <td>0.25</td>\n",
       "      <td>0.10</td>\n",
       "      <td>0.12</td>\n",
       "      <td>0.08</td>\n",
       "    </tr>\n",
       "    <tr>\n",
       "      <th>1</th>\n",
       "      <td>Question 2</td>\n",
       "      <td>0.12</td>\n",
       "      <td>0.07</td>\n",
       "      <td>0.48</td>\n",
       "      <td>0.18</td>\n",
       "      <td>0.15</td>\n",
       "    </tr>\n",
       "    <tr>\n",
       "      <th>2</th>\n",
       "      <td>Question 3</td>\n",
       "      <td>0.05</td>\n",
       "      <td>0.22</td>\n",
       "      <td>0.19</td>\n",
       "      <td>0.23</td>\n",
       "      <td>0.31</td>\n",
       "    </tr>\n",
       "  </tbody>\n",
       "</table>\n",
       "</div>"
      ],
      "text/plain": [
       "        index  Strongly Agree  Somewhat Agree  Neutral  Somewhat Disagree  \\\n",
       "0  Question 1            0.45            0.25     0.10               0.12   \n",
       "1  Question 2            0.12            0.07     0.48               0.18   \n",
       "2  Question 3            0.05            0.22     0.19               0.23   \n",
       "\n",
       "   Strongly Disagree  \n",
       "0               0.08  \n",
       "1               0.15  \n",
       "2               0.31  "
      ]
     },
     "execution_count": 37,
     "metadata": {},
     "output_type": "execute_result"
    }
   ],
   "source": [
    "# load data\n",
    "df = pd.read_csv('https://raw.githubusercontent.com/Pierian-Data/Plotly-Dashboards-with-Dash/master/Data/mocksurvey.csv',index_col=0)\n",
    "\n",
    "df = df.reset_index()\n",
    "df"
   ]
  },
  {
   "cell_type": "code",
   "execution_count": 38,
   "metadata": {
    "ExecuteTime": {
     "end_time": "2020-04-23T18:26:08.487873Z",
     "start_time": "2020-04-23T18:26:08.483109Z"
    }
   },
   "outputs": [],
   "source": [
    "# create traces using a list comprehension:\n",
    "\n",
    "\n",
    "# trace 1 / question 1\n",
    "trace1 = go.Bar(\n",
    "    x = df['index'],\n",
    "    y = df['Strongly Agree'],\n",
    "    name = 'Strongly Agree',\n",
    ")\n",
    "\n",
    "trace2 = go.Bar(\n",
    "    x = df['index'],\n",
    "    y = df['Somewhat Agree'],\n",
    "    name = 'Somewhat Agree',\n",
    ")\n",
    "\n",
    "trace3 = go.Bar(\n",
    "    x = df['index'],\n",
    "    y = df['Neutral'],\n",
    "    name = 'Neutral',\n",
    ")\n",
    "\n",
    "trace4 = go.Bar(\n",
    "    x = df['index'],\n",
    "    y = df['Somewhat Disagree'],\n",
    "    name = 'Somewhat Disagree',\n",
    ")\n",
    "\n",
    "trace5 = go.Bar(\n",
    "    x = df['index'],\n",
    "    y = df['Strongly Disagree'],\n",
    "    name = 'Strongly Disagree',\n",
    ")\n",
    "\n",
    "data= [trace1, trace2, trace3, trace4, trace5]"
   ]
  },
  {
   "cell_type": "code",
   "execution_count": 44,
   "metadata": {},
   "outputs": [],
   "source": [
    "# create a layout, remember to set the barmode here\n",
    "layout = go.Layout(\n",
    "    title = 'Question Reponses',\n",
    "    # barmode= 'stack'\n",
    ")"
   ]
  },
  {
   "cell_type": "code",
   "execution_count": 45,
   "metadata": {},
   "outputs": [
    {
     "data": {
      "application/vnd.plotly.v1+json": {
       "config": {
        "plotlyServerURL": "https://plot.ly"
       },
       "data": [
        {
         "name": "Strongly Agree",
         "type": "bar",
         "x": [
          "Question 1",
          "Question 2",
          "Question 3"
         ],
         "y": {
          "bdata": "zczMzMzM3D+4HoXrUbi+P5qZmZmZmak/",
          "dtype": "f8"
         }
        },
        {
         "name": "Somewhat Agree",
         "type": "bar",
         "x": [
          "Question 1",
          "Question 2",
          "Question 3"
         ],
         "y": {
          "bdata": "AAAAAAAA0D/sUbgeheuxPylcj8L1KMw/",
          "dtype": "f8"
         }
        },
        {
         "name": "Neutral",
         "type": "bar",
         "x": [
          "Question 1",
          "Question 2",
          "Question 3"
         ],
         "y": {
          "bdata": "mpmZmZmZuT+4HoXrUbjeP1K4HoXrUcg/",
          "dtype": "f8"
         }
        },
        {
         "name": "Somewhat Disagree",
         "type": "bar",
         "x": [
          "Question 1",
          "Question 2",
          "Question 3"
         ],
         "y": {
          "bdata": "uB6F61G4vj8K16NwPQrHP3E9CtejcM0/",
          "dtype": "f8"
         }
        },
        {
         "name": "Strongly Disagree",
         "type": "bar",
         "x": [
          "Question 1",
          "Question 2",
          "Question 3"
         ],
         "y": {
          "bdata": "exSuR+F6tD8zMzMzMzPDP9ejcD0K19M/",
          "dtype": "f8"
         }
        }
       ],
       "layout": {
        "template": {
         "data": {
          "bar": [
           {
            "error_x": {
             "color": "#2a3f5f"
            },
            "error_y": {
             "color": "#2a3f5f"
            },
            "marker": {
             "line": {
              "color": "#E5ECF6",
              "width": 0.5
             },
             "pattern": {
              "fillmode": "overlay",
              "size": 10,
              "solidity": 0.2
             }
            },
            "type": "bar"
           }
          ],
          "barpolar": [
           {
            "marker": {
             "line": {
              "color": "#E5ECF6",
              "width": 0.5
             },
             "pattern": {
              "fillmode": "overlay",
              "size": 10,
              "solidity": 0.2
             }
            },
            "type": "barpolar"
           }
          ],
          "carpet": [
           {
            "aaxis": {
             "endlinecolor": "#2a3f5f",
             "gridcolor": "white",
             "linecolor": "white",
             "minorgridcolor": "white",
             "startlinecolor": "#2a3f5f"
            },
            "baxis": {
             "endlinecolor": "#2a3f5f",
             "gridcolor": "white",
             "linecolor": "white",
             "minorgridcolor": "white",
             "startlinecolor": "#2a3f5f"
            },
            "type": "carpet"
           }
          ],
          "choropleth": [
           {
            "colorbar": {
             "outlinewidth": 0,
             "ticks": ""
            },
            "type": "choropleth"
           }
          ],
          "contour": [
           {
            "colorbar": {
             "outlinewidth": 0,
             "ticks": ""
            },
            "colorscale": [
             [
              0,
              "#0d0887"
             ],
             [
              0.1111111111111111,
              "#46039f"
             ],
             [
              0.2222222222222222,
              "#7201a8"
             ],
             [
              0.3333333333333333,
              "#9c179e"
             ],
             [
              0.4444444444444444,
              "#bd3786"
             ],
             [
              0.5555555555555556,
              "#d8576b"
             ],
             [
              0.6666666666666666,
              "#ed7953"
             ],
             [
              0.7777777777777778,
              "#fb9f3a"
             ],
             [
              0.8888888888888888,
              "#fdca26"
             ],
             [
              1,
              "#f0f921"
             ]
            ],
            "type": "contour"
           }
          ],
          "contourcarpet": [
           {
            "colorbar": {
             "outlinewidth": 0,
             "ticks": ""
            },
            "type": "contourcarpet"
           }
          ],
          "heatmap": [
           {
            "colorbar": {
             "outlinewidth": 0,
             "ticks": ""
            },
            "colorscale": [
             [
              0,
              "#0d0887"
             ],
             [
              0.1111111111111111,
              "#46039f"
             ],
             [
              0.2222222222222222,
              "#7201a8"
             ],
             [
              0.3333333333333333,
              "#9c179e"
             ],
             [
              0.4444444444444444,
              "#bd3786"
             ],
             [
              0.5555555555555556,
              "#d8576b"
             ],
             [
              0.6666666666666666,
              "#ed7953"
             ],
             [
              0.7777777777777778,
              "#fb9f3a"
             ],
             [
              0.8888888888888888,
              "#fdca26"
             ],
             [
              1,
              "#f0f921"
             ]
            ],
            "type": "heatmap"
           }
          ],
          "histogram": [
           {
            "marker": {
             "pattern": {
              "fillmode": "overlay",
              "size": 10,
              "solidity": 0.2
             }
            },
            "type": "histogram"
           }
          ],
          "histogram2d": [
           {
            "colorbar": {
             "outlinewidth": 0,
             "ticks": ""
            },
            "colorscale": [
             [
              0,
              "#0d0887"
             ],
             [
              0.1111111111111111,
              "#46039f"
             ],
             [
              0.2222222222222222,
              "#7201a8"
             ],
             [
              0.3333333333333333,
              "#9c179e"
             ],
             [
              0.4444444444444444,
              "#bd3786"
             ],
             [
              0.5555555555555556,
              "#d8576b"
             ],
             [
              0.6666666666666666,
              "#ed7953"
             ],
             [
              0.7777777777777778,
              "#fb9f3a"
             ],
             [
              0.8888888888888888,
              "#fdca26"
             ],
             [
              1,
              "#f0f921"
             ]
            ],
            "type": "histogram2d"
           }
          ],
          "histogram2dcontour": [
           {
            "colorbar": {
             "outlinewidth": 0,
             "ticks": ""
            },
            "colorscale": [
             [
              0,
              "#0d0887"
             ],
             [
              0.1111111111111111,
              "#46039f"
             ],
             [
              0.2222222222222222,
              "#7201a8"
             ],
             [
              0.3333333333333333,
              "#9c179e"
             ],
             [
              0.4444444444444444,
              "#bd3786"
             ],
             [
              0.5555555555555556,
              "#d8576b"
             ],
             [
              0.6666666666666666,
              "#ed7953"
             ],
             [
              0.7777777777777778,
              "#fb9f3a"
             ],
             [
              0.8888888888888888,
              "#fdca26"
             ],
             [
              1,
              "#f0f921"
             ]
            ],
            "type": "histogram2dcontour"
           }
          ],
          "mesh3d": [
           {
            "colorbar": {
             "outlinewidth": 0,
             "ticks": ""
            },
            "type": "mesh3d"
           }
          ],
          "parcoords": [
           {
            "line": {
             "colorbar": {
              "outlinewidth": 0,
              "ticks": ""
             }
            },
            "type": "parcoords"
           }
          ],
          "pie": [
           {
            "automargin": true,
            "type": "pie"
           }
          ],
          "scatter": [
           {
            "fillpattern": {
             "fillmode": "overlay",
             "size": 10,
             "solidity": 0.2
            },
            "type": "scatter"
           }
          ],
          "scatter3d": [
           {
            "line": {
             "colorbar": {
              "outlinewidth": 0,
              "ticks": ""
             }
            },
            "marker": {
             "colorbar": {
              "outlinewidth": 0,
              "ticks": ""
             }
            },
            "type": "scatter3d"
           }
          ],
          "scattercarpet": [
           {
            "marker": {
             "colorbar": {
              "outlinewidth": 0,
              "ticks": ""
             }
            },
            "type": "scattercarpet"
           }
          ],
          "scattergeo": [
           {
            "marker": {
             "colorbar": {
              "outlinewidth": 0,
              "ticks": ""
             }
            },
            "type": "scattergeo"
           }
          ],
          "scattergl": [
           {
            "marker": {
             "colorbar": {
              "outlinewidth": 0,
              "ticks": ""
             }
            },
            "type": "scattergl"
           }
          ],
          "scattermap": [
           {
            "marker": {
             "colorbar": {
              "outlinewidth": 0,
              "ticks": ""
             }
            },
            "type": "scattermap"
           }
          ],
          "scattermapbox": [
           {
            "marker": {
             "colorbar": {
              "outlinewidth": 0,
              "ticks": ""
             }
            },
            "type": "scattermapbox"
           }
          ],
          "scatterpolar": [
           {
            "marker": {
             "colorbar": {
              "outlinewidth": 0,
              "ticks": ""
             }
            },
            "type": "scatterpolar"
           }
          ],
          "scatterpolargl": [
           {
            "marker": {
             "colorbar": {
              "outlinewidth": 0,
              "ticks": ""
             }
            },
            "type": "scatterpolargl"
           }
          ],
          "scatterternary": [
           {
            "marker": {
             "colorbar": {
              "outlinewidth": 0,
              "ticks": ""
             }
            },
            "type": "scatterternary"
           }
          ],
          "surface": [
           {
            "colorbar": {
             "outlinewidth": 0,
             "ticks": ""
            },
            "colorscale": [
             [
              0,
              "#0d0887"
             ],
             [
              0.1111111111111111,
              "#46039f"
             ],
             [
              0.2222222222222222,
              "#7201a8"
             ],
             [
              0.3333333333333333,
              "#9c179e"
             ],
             [
              0.4444444444444444,
              "#bd3786"
             ],
             [
              0.5555555555555556,
              "#d8576b"
             ],
             [
              0.6666666666666666,
              "#ed7953"
             ],
             [
              0.7777777777777778,
              "#fb9f3a"
             ],
             [
              0.8888888888888888,
              "#fdca26"
             ],
             [
              1,
              "#f0f921"
             ]
            ],
            "type": "surface"
           }
          ],
          "table": [
           {
            "cells": {
             "fill": {
              "color": "#EBF0F8"
             },
             "line": {
              "color": "white"
             }
            },
            "header": {
             "fill": {
              "color": "#C8D4E3"
             },
             "line": {
              "color": "white"
             }
            },
            "type": "table"
           }
          ]
         },
         "layout": {
          "annotationdefaults": {
           "arrowcolor": "#2a3f5f",
           "arrowhead": 0,
           "arrowwidth": 1
          },
          "autotypenumbers": "strict",
          "coloraxis": {
           "colorbar": {
            "outlinewidth": 0,
            "ticks": ""
           }
          },
          "colorscale": {
           "diverging": [
            [
             0,
             "#8e0152"
            ],
            [
             0.1,
             "#c51b7d"
            ],
            [
             0.2,
             "#de77ae"
            ],
            [
             0.3,
             "#f1b6da"
            ],
            [
             0.4,
             "#fde0ef"
            ],
            [
             0.5,
             "#f7f7f7"
            ],
            [
             0.6,
             "#e6f5d0"
            ],
            [
             0.7,
             "#b8e186"
            ],
            [
             0.8,
             "#7fbc41"
            ],
            [
             0.9,
             "#4d9221"
            ],
            [
             1,
             "#276419"
            ]
           ],
           "sequential": [
            [
             0,
             "#0d0887"
            ],
            [
             0.1111111111111111,
             "#46039f"
            ],
            [
             0.2222222222222222,
             "#7201a8"
            ],
            [
             0.3333333333333333,
             "#9c179e"
            ],
            [
             0.4444444444444444,
             "#bd3786"
            ],
            [
             0.5555555555555556,
             "#d8576b"
            ],
            [
             0.6666666666666666,
             "#ed7953"
            ],
            [
             0.7777777777777778,
             "#fb9f3a"
            ],
            [
             0.8888888888888888,
             "#fdca26"
            ],
            [
             1,
             "#f0f921"
            ]
           ],
           "sequentialminus": [
            [
             0,
             "#0d0887"
            ],
            [
             0.1111111111111111,
             "#46039f"
            ],
            [
             0.2222222222222222,
             "#7201a8"
            ],
            [
             0.3333333333333333,
             "#9c179e"
            ],
            [
             0.4444444444444444,
             "#bd3786"
            ],
            [
             0.5555555555555556,
             "#d8576b"
            ],
            [
             0.6666666666666666,
             "#ed7953"
            ],
            [
             0.7777777777777778,
             "#fb9f3a"
            ],
            [
             0.8888888888888888,
             "#fdca26"
            ],
            [
             1,
             "#f0f921"
            ]
           ]
          },
          "colorway": [
           "#636efa",
           "#EF553B",
           "#00cc96",
           "#ab63fa",
           "#FFA15A",
           "#19d3f3",
           "#FF6692",
           "#B6E880",
           "#FF97FF",
           "#FECB52"
          ],
          "font": {
           "color": "#2a3f5f"
          },
          "geo": {
           "bgcolor": "white",
           "lakecolor": "white",
           "landcolor": "#E5ECF6",
           "showlakes": true,
           "showland": true,
           "subunitcolor": "white"
          },
          "hoverlabel": {
           "align": "left"
          },
          "hovermode": "closest",
          "mapbox": {
           "style": "light"
          },
          "paper_bgcolor": "white",
          "plot_bgcolor": "#E5ECF6",
          "polar": {
           "angularaxis": {
            "gridcolor": "white",
            "linecolor": "white",
            "ticks": ""
           },
           "bgcolor": "#E5ECF6",
           "radialaxis": {
            "gridcolor": "white",
            "linecolor": "white",
            "ticks": ""
           }
          },
          "scene": {
           "xaxis": {
            "backgroundcolor": "#E5ECF6",
            "gridcolor": "white",
            "gridwidth": 2,
            "linecolor": "white",
            "showbackground": true,
            "ticks": "",
            "zerolinecolor": "white"
           },
           "yaxis": {
            "backgroundcolor": "#E5ECF6",
            "gridcolor": "white",
            "gridwidth": 2,
            "linecolor": "white",
            "showbackground": true,
            "ticks": "",
            "zerolinecolor": "white"
           },
           "zaxis": {
            "backgroundcolor": "#E5ECF6",
            "gridcolor": "white",
            "gridwidth": 2,
            "linecolor": "white",
            "showbackground": true,
            "ticks": "",
            "zerolinecolor": "white"
           }
          },
          "shapedefaults": {
           "line": {
            "color": "#2a3f5f"
           }
          },
          "ternary": {
           "aaxis": {
            "gridcolor": "white",
            "linecolor": "white",
            "ticks": ""
           },
           "baxis": {
            "gridcolor": "white",
            "linecolor": "white",
            "ticks": ""
           },
           "bgcolor": "#E5ECF6",
           "caxis": {
            "gridcolor": "white",
            "linecolor": "white",
            "ticks": ""
           }
          },
          "title": {
           "x": 0.05
          },
          "xaxis": {
           "automargin": true,
           "gridcolor": "white",
           "linecolor": "white",
           "ticks": "",
           "title": {
            "standoff": 15
           },
           "zerolinecolor": "white",
           "zerolinewidth": 2
          },
          "yaxis": {
           "automargin": true,
           "gridcolor": "white",
           "linecolor": "white",
           "ticks": "",
           "title": {
            "standoff": 15
           },
           "zerolinecolor": "white",
           "zerolinewidth": 2
          }
         }
        },
        "title": {
         "text": "Question Reponses"
        }
       }
      }
     },
     "metadata": {},
     "output_type": "display_data"
    }
   ],
   "source": [
    "# create a fig from data & layout, and plot the fig.\n",
    "fig =go.Figure(data=data, layout=layout)\n",
    "\n",
    "fig.show()"
   ]
  },
  {
   "cell_type": "markdown",
   "metadata": {},
   "source": [
    "-------------\n",
    "### Task 3: Create a histogram that plots the `length` field from dataset below. Set the range from 0 to 1, with a bin size of 0.02."
   ]
  },
  {
   "cell_type": "code",
   "execution_count": 48,
   "metadata": {
    "ExecuteTime": {
     "end_time": "2020-04-23T18:26:09.057134Z",
     "start_time": "2020-04-23T18:26:08.854545Z"
    }
   },
   "outputs": [
    {
     "data": {
      "text/html": [
       "<div>\n",
       "<style scoped>\n",
       "    .dataframe tbody tr th:only-of-type {\n",
       "        vertical-align: middle;\n",
       "    }\n",
       "\n",
       "    .dataframe tbody tr th {\n",
       "        vertical-align: top;\n",
       "    }\n",
       "\n",
       "    .dataframe thead th {\n",
       "        text-align: right;\n",
       "    }\n",
       "</style>\n",
       "<table border=\"1\" class=\"dataframe\">\n",
       "  <thead>\n",
       "    <tr style=\"text-align: right;\">\n",
       "      <th></th>\n",
       "      <th>sex</th>\n",
       "      <th>length</th>\n",
       "      <th>diameter</th>\n",
       "      <th>height</th>\n",
       "      <th>whole_weight</th>\n",
       "      <th>shucked_weight</th>\n",
       "      <th>viscera_weight</th>\n",
       "      <th>shell_weight</th>\n",
       "      <th>rings</th>\n",
       "    </tr>\n",
       "  </thead>\n",
       "  <tbody>\n",
       "    <tr>\n",
       "      <th>0</th>\n",
       "      <td>M</td>\n",
       "      <td>0.455</td>\n",
       "      <td>0.365</td>\n",
       "      <td>0.095</td>\n",
       "      <td>0.5140</td>\n",
       "      <td>0.2245</td>\n",
       "      <td>0.1010</td>\n",
       "      <td>0.150</td>\n",
       "      <td>15</td>\n",
       "    </tr>\n",
       "    <tr>\n",
       "      <th>1</th>\n",
       "      <td>M</td>\n",
       "      <td>0.350</td>\n",
       "      <td>0.265</td>\n",
       "      <td>0.090</td>\n",
       "      <td>0.2255</td>\n",
       "      <td>0.0995</td>\n",
       "      <td>0.0485</td>\n",
       "      <td>0.070</td>\n",
       "      <td>7</td>\n",
       "    </tr>\n",
       "    <tr>\n",
       "      <th>2</th>\n",
       "      <td>F</td>\n",
       "      <td>0.530</td>\n",
       "      <td>0.420</td>\n",
       "      <td>0.135</td>\n",
       "      <td>0.6770</td>\n",
       "      <td>0.2565</td>\n",
       "      <td>0.1415</td>\n",
       "      <td>0.210</td>\n",
       "      <td>9</td>\n",
       "    </tr>\n",
       "    <tr>\n",
       "      <th>3</th>\n",
       "      <td>M</td>\n",
       "      <td>0.440</td>\n",
       "      <td>0.365</td>\n",
       "      <td>0.125</td>\n",
       "      <td>0.5160</td>\n",
       "      <td>0.2155</td>\n",
       "      <td>0.1140</td>\n",
       "      <td>0.155</td>\n",
       "      <td>10</td>\n",
       "    </tr>\n",
       "    <tr>\n",
       "      <th>4</th>\n",
       "      <td>I</td>\n",
       "      <td>0.330</td>\n",
       "      <td>0.255</td>\n",
       "      <td>0.080</td>\n",
       "      <td>0.2050</td>\n",
       "      <td>0.0895</td>\n",
       "      <td>0.0395</td>\n",
       "      <td>0.055</td>\n",
       "      <td>7</td>\n",
       "    </tr>\n",
       "  </tbody>\n",
       "</table>\n",
       "</div>"
      ],
      "text/plain": [
       "  sex  length  diameter  height  whole_weight  shucked_weight  viscera_weight  \\\n",
       "0   M   0.455     0.365   0.095        0.5140          0.2245          0.1010   \n",
       "1   M   0.350     0.265   0.090        0.2255          0.0995          0.0485   \n",
       "2   F   0.530     0.420   0.135        0.6770          0.2565          0.1415   \n",
       "3   M   0.440     0.365   0.125        0.5160          0.2155          0.1140   \n",
       "4   I   0.330     0.255   0.080        0.2050          0.0895          0.0395   \n",
       "\n",
       "   shell_weight  rings  \n",
       "0         0.150     15  \n",
       "1         0.070      7  \n",
       "2         0.210      9  \n",
       "3         0.155     10  \n",
       "4         0.055      7  "
      ]
     },
     "execution_count": 48,
     "metadata": {},
     "output_type": "execute_result"
    }
   ],
   "source": [
    "# load data\n",
    "df = pd.read_csv('https://raw.githubusercontent.com/Pierian-Data/Plotly-Dashboards-with-Dash/master/Data/abalone.csv')\n",
    "\n",
    "df.head()"
   ]
  },
  {
   "cell_type": "code",
   "execution_count": 59,
   "metadata": {
    "ExecuteTime": {
     "end_time": "2020-04-23T18:26:09.105535Z",
     "start_time": "2020-04-23T18:26:09.099657Z"
    }
   },
   "outputs": [],
   "source": [
    "# create a data variable:\n",
    "data = go.Histogram(\n",
    "    x = df['length'],\n",
    "    opacity=0.75,\n",
    "    name='Length',\n",
    "    xbins=dict(\n",
    "        start=0,     # x-axis range start\n",
    "        end=1,       # x-axis range end\n",
    "        size=0.02    # bin width\n",
    "))"
   ]
  },
  {
   "cell_type": "code",
   "execution_count": 60,
   "metadata": {},
   "outputs": [],
   "source": [
    "# add a layout\n",
    "layout = go.Layout(\n",
    "    barmode='overlay',\n",
    "    xaxis=dict(range=[0, 1])  # x-axis display range\n",
    ")"
   ]
  },
  {
   "cell_type": "code",
   "execution_count": 61,
   "metadata": {},
   "outputs": [
    {
     "data": {
      "application/vnd.plotly.v1+json": {
       "config": {
        "plotlyServerURL": "https://plot.ly"
       },
       "data": [
        {
         "name": "Length",
         "opacity": 0.75,
         "type": "histogram",
         "x": {
          "bdata": "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",
          "dtype": "f8"
         },
         "xbins": {
          "end": 1,
          "size": 0.02,
          "start": 0
         }
        }
       ],
       "layout": {
        "barmode": "overlay",
        "template": {
         "data": {
          "bar": [
           {
            "error_x": {
             "color": "#2a3f5f"
            },
            "error_y": {
             "color": "#2a3f5f"
            },
            "marker": {
             "line": {
              "color": "#E5ECF6",
              "width": 0.5
             },
             "pattern": {
              "fillmode": "overlay",
              "size": 10,
              "solidity": 0.2
             }
            },
            "type": "bar"
           }
          ],
          "barpolar": [
           {
            "marker": {
             "line": {
              "color": "#E5ECF6",
              "width": 0.5
             },
             "pattern": {
              "fillmode": "overlay",
              "size": 10,
              "solidity": 0.2
             }
            },
            "type": "barpolar"
           }
          ],
          "carpet": [
           {
            "aaxis": {
             "endlinecolor": "#2a3f5f",
             "gridcolor": "white",
             "linecolor": "white",
             "minorgridcolor": "white",
             "startlinecolor": "#2a3f5f"
            },
            "baxis": {
             "endlinecolor": "#2a3f5f",
             "gridcolor": "white",
             "linecolor": "white",
             "minorgridcolor": "white",
             "startlinecolor": "#2a3f5f"
            },
            "type": "carpet"
           }
          ],
          "choropleth": [
           {
            "colorbar": {
             "outlinewidth": 0,
             "ticks": ""
            },
            "type": "choropleth"
           }
          ],
          "contour": [
           {
            "colorbar": {
             "outlinewidth": 0,
             "ticks": ""
            },
            "colorscale": [
             [
              0,
              "#0d0887"
             ],
             [
              0.1111111111111111,
              "#46039f"
             ],
             [
              0.2222222222222222,
              "#7201a8"
             ],
             [
              0.3333333333333333,
              "#9c179e"
             ],
             [
              0.4444444444444444,
              "#bd3786"
             ],
             [
              0.5555555555555556,
              "#d8576b"
             ],
             [
              0.6666666666666666,
              "#ed7953"
             ],
             [
              0.7777777777777778,
              "#fb9f3a"
             ],
             [
              0.8888888888888888,
              "#fdca26"
             ],
             [
              1,
              "#f0f921"
             ]
            ],
            "type": "contour"
           }
          ],
          "contourcarpet": [
           {
            "colorbar": {
             "outlinewidth": 0,
             "ticks": ""
            },
            "type": "contourcarpet"
           }
          ],
          "heatmap": [
           {
            "colorbar": {
             "outlinewidth": 0,
             "ticks": ""
            },
            "colorscale": [
             [
              0,
              "#0d0887"
             ],
             [
              0.1111111111111111,
              "#46039f"
             ],
             [
              0.2222222222222222,
              "#7201a8"
             ],
             [
              0.3333333333333333,
              "#9c179e"
             ],
             [
              0.4444444444444444,
              "#bd3786"
             ],
             [
              0.5555555555555556,
              "#d8576b"
             ],
             [
              0.6666666666666666,
              "#ed7953"
             ],
             [
              0.7777777777777778,
              "#fb9f3a"
             ],
             [
              0.8888888888888888,
              "#fdca26"
             ],
             [
              1,
              "#f0f921"
             ]
            ],
            "type": "heatmap"
           }
          ],
          "histogram": [
           {
            "marker": {
             "pattern": {
              "fillmode": "overlay",
              "size": 10,
              "solidity": 0.2
             }
            },
            "type": "histogram"
           }
          ],
          "histogram2d": [
           {
            "colorbar": {
             "outlinewidth": 0,
             "ticks": ""
            },
            "colorscale": [
             [
              0,
              "#0d0887"
             ],
             [
              0.1111111111111111,
              "#46039f"
             ],
             [
              0.2222222222222222,
              "#7201a8"
             ],
             [
              0.3333333333333333,
              "#9c179e"
             ],
             [
              0.4444444444444444,
              "#bd3786"
             ],
             [
              0.5555555555555556,
              "#d8576b"
             ],
             [
              0.6666666666666666,
              "#ed7953"
             ],
             [
              0.7777777777777778,
              "#fb9f3a"
             ],
             [
              0.8888888888888888,
              "#fdca26"
             ],
             [
              1,
              "#f0f921"
             ]
            ],
            "type": "histogram2d"
           }
          ],
          "histogram2dcontour": [
           {
            "colorbar": {
             "outlinewidth": 0,
             "ticks": ""
            },
            "colorscale": [
             [
              0,
              "#0d0887"
             ],
             [
              0.1111111111111111,
              "#46039f"
             ],
             [
              0.2222222222222222,
              "#7201a8"
             ],
             [
              0.3333333333333333,
              "#9c179e"
             ],
             [
              0.4444444444444444,
              "#bd3786"
             ],
             [
              0.5555555555555556,
              "#d8576b"
             ],
             [
              0.6666666666666666,
              "#ed7953"
             ],
             [
              0.7777777777777778,
              "#fb9f3a"
             ],
             [
              0.8888888888888888,
              "#fdca26"
             ],
             [
              1,
              "#f0f921"
             ]
            ],
            "type": "histogram2dcontour"
           }
          ],
          "mesh3d": [
           {
            "colorbar": {
             "outlinewidth": 0,
             "ticks": ""
            },
            "type": "mesh3d"
           }
          ],
          "parcoords": [
           {
            "line": {
             "colorbar": {
              "outlinewidth": 0,
              "ticks": ""
             }
            },
            "type": "parcoords"
           }
          ],
          "pie": [
           {
            "automargin": true,
            "type": "pie"
           }
          ],
          "scatter": [
           {
            "fillpattern": {
             "fillmode": "overlay",
             "size": 10,
             "solidity": 0.2
            },
            "type": "scatter"
           }
          ],
          "scatter3d": [
           {
            "line": {
             "colorbar": {
              "outlinewidth": 0,
              "ticks": ""
             }
            },
            "marker": {
             "colorbar": {
              "outlinewidth": 0,
              "ticks": ""
             }
            },
            "type": "scatter3d"
           }
          ],
          "scattercarpet": [
           {
            "marker": {
             "colorbar": {
              "outlinewidth": 0,
              "ticks": ""
             }
            },
            "type": "scattercarpet"
           }
          ],
          "scattergeo": [
           {
            "marker": {
             "colorbar": {
              "outlinewidth": 0,
              "ticks": ""
             }
            },
            "type": "scattergeo"
           }
          ],
          "scattergl": [
           {
            "marker": {
             "colorbar": {
              "outlinewidth": 0,
              "ticks": ""
             }
            },
            "type": "scattergl"
           }
          ],
          "scattermap": [
           {
            "marker": {
             "colorbar": {
              "outlinewidth": 0,
              "ticks": ""
             }
            },
            "type": "scattermap"
           }
          ],
          "scattermapbox": [
           {
            "marker": {
             "colorbar": {
              "outlinewidth": 0,
              "ticks": ""
             }
            },
            "type": "scattermapbox"
           }
          ],
          "scatterpolar": [
           {
            "marker": {
             "colorbar": {
              "outlinewidth": 0,
              "ticks": ""
             }
            },
            "type": "scatterpolar"
           }
          ],
          "scatterpolargl": [
           {
            "marker": {
             "colorbar": {
              "outlinewidth": 0,
              "ticks": ""
             }
            },
            "type": "scatterpolargl"
           }
          ],
          "scatterternary": [
           {
            "marker": {
             "colorbar": {
              "outlinewidth": 0,
              "ticks": ""
             }
            },
            "type": "scatterternary"
           }
          ],
          "surface": [
           {
            "colorbar": {
             "outlinewidth": 0,
             "ticks": ""
            },
            "colorscale": [
             [
              0,
              "#0d0887"
             ],
             [
              0.1111111111111111,
              "#46039f"
             ],
             [
              0.2222222222222222,
              "#7201a8"
             ],
             [
              0.3333333333333333,
              "#9c179e"
             ],
             [
              0.4444444444444444,
              "#bd3786"
             ],
             [
              0.5555555555555556,
              "#d8576b"
             ],
             [
              0.6666666666666666,
              "#ed7953"
             ],
             [
              0.7777777777777778,
              "#fb9f3a"
             ],
             [
              0.8888888888888888,
              "#fdca26"
             ],
             [
              1,
              "#f0f921"
             ]
            ],
            "type": "surface"
           }
          ],
          "table": [
           {
            "cells": {
             "fill": {
              "color": "#EBF0F8"
             },
             "line": {
              "color": "white"
             }
            },
            "header": {
             "fill": {
              "color": "#C8D4E3"
             },
             "line": {
              "color": "white"
             }
            },
            "type": "table"
           }
          ]
         },
         "layout": {
          "annotationdefaults": {
           "arrowcolor": "#2a3f5f",
           "arrowhead": 0,
           "arrowwidth": 1
          },
          "autotypenumbers": "strict",
          "coloraxis": {
           "colorbar": {
            "outlinewidth": 0,
            "ticks": ""
           }
          },
          "colorscale": {
           "diverging": [
            [
             0,
             "#8e0152"
            ],
            [
             0.1,
             "#c51b7d"
            ],
            [
             0.2,
             "#de77ae"
            ],
            [
             0.3,
             "#f1b6da"
            ],
            [
             0.4,
             "#fde0ef"
            ],
            [
             0.5,
             "#f7f7f7"
            ],
            [
             0.6,
             "#e6f5d0"
            ],
            [
             0.7,
             "#b8e186"
            ],
            [
             0.8,
             "#7fbc41"
            ],
            [
             0.9,
             "#4d9221"
            ],
            [
             1,
             "#276419"
            ]
           ],
           "sequential": [
            [
             0,
             "#0d0887"
            ],
            [
             0.1111111111111111,
             "#46039f"
            ],
            [
             0.2222222222222222,
             "#7201a8"
            ],
            [
             0.3333333333333333,
             "#9c179e"
            ],
            [
             0.4444444444444444,
             "#bd3786"
            ],
            [
             0.5555555555555556,
             "#d8576b"
            ],
            [
             0.6666666666666666,
             "#ed7953"
            ],
            [
             0.7777777777777778,
             "#fb9f3a"
            ],
            [
             0.8888888888888888,
             "#fdca26"
            ],
            [
             1,
             "#f0f921"
            ]
           ],
           "sequentialminus": [
            [
             0,
             "#0d0887"
            ],
            [
             0.1111111111111111,
             "#46039f"
            ],
            [
             0.2222222222222222,
             "#7201a8"
            ],
            [
             0.3333333333333333,
             "#9c179e"
            ],
            [
             0.4444444444444444,
             "#bd3786"
            ],
            [
             0.5555555555555556,
             "#d8576b"
            ],
            [
             0.6666666666666666,
             "#ed7953"
            ],
            [
             0.7777777777777778,
             "#fb9f3a"
            ],
            [
             0.8888888888888888,
             "#fdca26"
            ],
            [
             1,
             "#f0f921"
            ]
           ]
          },
          "colorway": [
           "#636efa",
           "#EF553B",
           "#00cc96",
           "#ab63fa",
           "#FFA15A",
           "#19d3f3",
           "#FF6692",
           "#B6E880",
           "#FF97FF",
           "#FECB52"
          ],
          "font": {
           "color": "#2a3f5f"
          },
          "geo": {
           "bgcolor": "white",
           "lakecolor": "white",
           "landcolor": "#E5ECF6",
           "showlakes": true,
           "showland": true,
           "subunitcolor": "white"
          },
          "hoverlabel": {
           "align": "left"
          },
          "hovermode": "closest",
          "mapbox": {
           "style": "light"
          },
          "paper_bgcolor": "white",
          "plot_bgcolor": "#E5ECF6",
          "polar": {
           "angularaxis": {
            "gridcolor": "white",
            "linecolor": "white",
            "ticks": ""
           },
           "bgcolor": "#E5ECF6",
           "radialaxis": {
            "gridcolor": "white",
            "linecolor": "white",
            "ticks": ""
           }
          },
          "scene": {
           "xaxis": {
            "backgroundcolor": "#E5ECF6",
            "gridcolor": "white",
            "gridwidth": 2,
            "linecolor": "white",
            "showbackground": true,
            "ticks": "",
            "zerolinecolor": "white"
           },
           "yaxis": {
            "backgroundcolor": "#E5ECF6",
            "gridcolor": "white",
            "gridwidth": 2,
            "linecolor": "white",
            "showbackground": true,
            "ticks": "",
            "zerolinecolor": "white"
           },
           "zaxis": {
            "backgroundcolor": "#E5ECF6",
            "gridcolor": "white",
            "gridwidth": 2,
            "linecolor": "white",
            "showbackground": true,
            "ticks": "",
            "zerolinecolor": "white"
           }
          },
          "shapedefaults": {
           "line": {
            "color": "#2a3f5f"
           }
          },
          "ternary": {
           "aaxis": {
            "gridcolor": "white",
            "linecolor": "white",
            "ticks": ""
           },
           "baxis": {
            "gridcolor": "white",
            "linecolor": "white",
            "ticks": ""
           },
           "bgcolor": "#E5ECF6",
           "caxis": {
            "gridcolor": "white",
            "linecolor": "white",
            "ticks": ""
           }
          },
          "title": {
           "x": 0.05
          },
          "xaxis": {
           "automargin": true,
           "gridcolor": "white",
           "linecolor": "white",
           "ticks": "",
           "title": {
            "standoff": 15
           },
           "zerolinecolor": "white",
           "zerolinewidth": 2
          },
          "yaxis": {
           "automargin": true,
           "gridcolor": "white",
           "linecolor": "white",
           "ticks": "",
           "title": {
            "standoff": 15
           },
           "zerolinecolor": "white",
           "zerolinewidth": 2
          }
         }
        },
        "xaxis": {
         "range": [
          0,
          1
         ]
        }
       }
      }
     },
     "metadata": {},
     "output_type": "display_data"
    }
   ],
   "source": [
    "# create a fig from data & layout, and plot the fig\n",
    "fig = go.Figure(data=data, layout=layout)\n",
    "\n",
    "fig.show()"
   ]
  },
  {
   "cell_type": "code",
   "execution_count": null,
   "metadata": {},
   "outputs": [],
   "source": []
  },
  {
   "cell_type": "code",
   "execution_count": null,
   "metadata": {},
   "outputs": [],
   "source": []
  }
 ],
 "metadata": {
  "kernelspec": {
   "display_name": "data_env312",
   "language": "python",
   "name": "python3"
  },
  "language_info": {
   "codemirror_mode": {
    "name": "ipython",
    "version": 3
   },
   "file_extension": ".py",
   "mimetype": "text/x-python",
   "name": "python",
   "nbconvert_exporter": "python",
   "pygments_lexer": "ipython3",
   "version": "3.12.2"
  },
  "toc": {
   "base_numbering": 1,
   "nav_menu": {},
   "number_sections": true,
   "sideBar": true,
   "skip_h1_title": false,
   "title_cell": "Table of Contents",
   "title_sidebar": "Contents",
   "toc_cell": false,
   "toc_position": {},
   "toc_section_display": true,
   "toc_window_display": false
  },
  "varInspector": {
   "cols": {
    "lenName": 16,
    "lenType": 16,
    "lenVar": 40
   },
   "kernels_config": {
    "python": {
     "delete_cmd_postfix": "",
     "delete_cmd_prefix": "del ",
     "library": "var_list.py",
     "varRefreshCmd": "print(var_dic_list())"
    },
    "r": {
     "delete_cmd_postfix": ") ",
     "delete_cmd_prefix": "rm(",
     "library": "var_list.r",
     "varRefreshCmd": "cat(var_dic_list()) "
    }
   },
   "types_to_exclude": [
    "module",
    "function",
    "builtin_function_or_method",
    "instance",
    "_Feature"
   ],
   "window_display": false
  }
 },
 "nbformat": 4,
 "nbformat_minor": 4
}
