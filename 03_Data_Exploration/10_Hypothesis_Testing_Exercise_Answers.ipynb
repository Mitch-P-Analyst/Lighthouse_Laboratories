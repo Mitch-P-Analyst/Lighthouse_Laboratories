{
 "cells": [
  {
   "cell_type": "markdown",
   "metadata": {},
   "source": [
    "## Hypothesis Testing Assignment"
   ]
  },
  {
   "cell_type": "code",
   "execution_count": 31,
   "metadata": {},
   "outputs": [],
   "source": [
    "#Importing necessary packages\n",
    "import pandas as pd\n",
    "import numpy as np\n",
    "# package with hypothesis tests\n",
    "import scipy.stats as stats\n",
    "import seaborn as sns"
   ]
  },
  {
   "cell_type": "markdown",
   "metadata": {},
   "source": [
    "### Data"
   ]
  },
  {
   "cell_type": "markdown",
   "metadata": {},
   "source": [
    "You can download the data from [**here**](https://drive.google.com/file/d/0Bz9_0VdXvv9bUUNlUTVrMF9VcVU/view?usp=sharing&resourcekey=0-16O9Fc5eaJH99-M7AHqHOg). The data contains results of all NBA games from seasons 2013/2014 to 2015/2016."
   ]
  },
  {
   "cell_type": "code",
   "execution_count": null,
   "metadata": {},
   "outputs": [
    {
     "data": {
      "text/html": [
       "<div>\n",
       "<style scoped>\n",
       "    .dataframe tbody tr th:only-of-type {\n",
       "        vertical-align: middle;\n",
       "    }\n",
       "\n",
       "    .dataframe tbody tr th {\n",
       "        vertical-align: top;\n",
       "    }\n",
       "\n",
       "    .dataframe thead th {\n",
       "        text-align: right;\n",
       "    }\n",
       "</style>\n",
       "<table border=\"1\" class=\"dataframe\">\n",
       "  <thead>\n",
       "    <tr style=\"text-align: right;\">\n",
       "      <th></th>\n",
       "      <th>SEASON_ID</th>\n",
       "      <th>TEAM_ID</th>\n",
       "      <th>TEAM_ABBREVIATION</th>\n",
       "      <th>TEAM_NAME</th>\n",
       "      <th>GAME_ID</th>\n",
       "      <th>GAME_DATE</th>\n",
       "      <th>MATCHUP</th>\n",
       "      <th>WL</th>\n",
       "      <th>MIN</th>\n",
       "      <th>PTS</th>\n",
       "      <th>...</th>\n",
       "      <th>FT_PCT</th>\n",
       "      <th>OREB</th>\n",
       "      <th>DREB</th>\n",
       "      <th>REB</th>\n",
       "      <th>AST</th>\n",
       "      <th>STL</th>\n",
       "      <th>BLK</th>\n",
       "      <th>TOV</th>\n",
       "      <th>PF</th>\n",
       "      <th>PLUS_MINUS</th>\n",
       "    </tr>\n",
       "  </thead>\n",
       "  <tbody>\n",
       "    <tr>\n",
       "      <th>0</th>\n",
       "      <td>22015</td>\n",
       "      <td>1610612750</td>\n",
       "      <td>MIN</td>\n",
       "      <td>Minnesota Timberwolves</td>\n",
       "      <td>21501226</td>\n",
       "      <td>2016-04-13</td>\n",
       "      <td>MIN vs. NOP</td>\n",
       "      <td>W</td>\n",
       "      <td>240</td>\n",
       "      <td>144</td>\n",
       "      <td>...</td>\n",
       "      <td>0.826</td>\n",
       "      <td>5</td>\n",
       "      <td>38</td>\n",
       "      <td>43</td>\n",
       "      <td>41</td>\n",
       "      <td>14</td>\n",
       "      <td>8</td>\n",
       "      <td>13</td>\n",
       "      <td>20</td>\n",
       "      <td>35.0</td>\n",
       "    </tr>\n",
       "    <tr>\n",
       "      <th>1</th>\n",
       "      <td>22015</td>\n",
       "      <td>1610612749</td>\n",
       "      <td>MIL</td>\n",
       "      <td>Milwaukee Bucks</td>\n",
       "      <td>21501225</td>\n",
       "      <td>2016-04-13</td>\n",
       "      <td>MIL vs. IND</td>\n",
       "      <td>L</td>\n",
       "      <td>240</td>\n",
       "      <td>92</td>\n",
       "      <td>...</td>\n",
       "      <td>0.846</td>\n",
       "      <td>7</td>\n",
       "      <td>36</td>\n",
       "      <td>43</td>\n",
       "      <td>23</td>\n",
       "      <td>8</td>\n",
       "      <td>3</td>\n",
       "      <td>15</td>\n",
       "      <td>15</td>\n",
       "      <td>-5.0</td>\n",
       "    </tr>\n",
       "    <tr>\n",
       "      <th>2</th>\n",
       "      <td>22015</td>\n",
       "      <td>1610612738</td>\n",
       "      <td>BOS</td>\n",
       "      <td>Boston Celtics</td>\n",
       "      <td>21501217</td>\n",
       "      <td>2016-04-13</td>\n",
       "      <td>BOS vs. MIA</td>\n",
       "      <td>W</td>\n",
       "      <td>240</td>\n",
       "      <td>98</td>\n",
       "      <td>...</td>\n",
       "      <td>0.864</td>\n",
       "      <td>10</td>\n",
       "      <td>29</td>\n",
       "      <td>39</td>\n",
       "      <td>20</td>\n",
       "      <td>7</td>\n",
       "      <td>3</td>\n",
       "      <td>7</td>\n",
       "      <td>20</td>\n",
       "      <td>10.0</td>\n",
       "    </tr>\n",
       "    <tr>\n",
       "      <th>3</th>\n",
       "      <td>22015</td>\n",
       "      <td>1610612747</td>\n",
       "      <td>LAL</td>\n",
       "      <td>Los Angeles Lakers</td>\n",
       "      <td>21501228</td>\n",
       "      <td>2016-04-13</td>\n",
       "      <td>LAL vs. UTA</td>\n",
       "      <td>W</td>\n",
       "      <td>239</td>\n",
       "      <td>101</td>\n",
       "      <td>...</td>\n",
       "      <td>0.867</td>\n",
       "      <td>8</td>\n",
       "      <td>39</td>\n",
       "      <td>47</td>\n",
       "      <td>19</td>\n",
       "      <td>6</td>\n",
       "      <td>3</td>\n",
       "      <td>13</td>\n",
       "      <td>17</td>\n",
       "      <td>5.0</td>\n",
       "    </tr>\n",
       "    <tr>\n",
       "      <th>4</th>\n",
       "      <td>22015</td>\n",
       "      <td>1610612739</td>\n",
       "      <td>CLE</td>\n",
       "      <td>Cleveland Cavaliers</td>\n",
       "      <td>21501220</td>\n",
       "      <td>2016-04-13</td>\n",
       "      <td>CLE vs. DET</td>\n",
       "      <td>L</td>\n",
       "      <td>265</td>\n",
       "      <td>110</td>\n",
       "      <td>...</td>\n",
       "      <td>0.733</td>\n",
       "      <td>8</td>\n",
       "      <td>35</td>\n",
       "      <td>43</td>\n",
       "      <td>21</td>\n",
       "      <td>4</td>\n",
       "      <td>7</td>\n",
       "      <td>10</td>\n",
       "      <td>23</td>\n",
       "      <td>-2.0</td>\n",
       "    </tr>\n",
       "    <tr>\n",
       "      <th>...</th>\n",
       "      <td>...</td>\n",
       "      <td>...</td>\n",
       "      <td>...</td>\n",
       "      <td>...</td>\n",
       "      <td>...</td>\n",
       "      <td>...</td>\n",
       "      <td>...</td>\n",
       "      <td>...</td>\n",
       "      <td>...</td>\n",
       "      <td>...</td>\n",
       "      <td>...</td>\n",
       "      <td>...</td>\n",
       "      <td>...</td>\n",
       "      <td>...</td>\n",
       "      <td>...</td>\n",
       "      <td>...</td>\n",
       "      <td>...</td>\n",
       "      <td>...</td>\n",
       "      <td>...</td>\n",
       "      <td>...</td>\n",
       "      <td>...</td>\n",
       "    </tr>\n",
       "    <tr>\n",
       "      <th>7375</th>\n",
       "      <td>22013</td>\n",
       "      <td>1610612753</td>\n",
       "      <td>ORL</td>\n",
       "      <td>Orlando Magic</td>\n",
       "      <td>21300001</td>\n",
       "      <td>2013-10-29</td>\n",
       "      <td>ORL @ IND</td>\n",
       "      <td>L</td>\n",
       "      <td>241</td>\n",
       "      <td>87</td>\n",
       "      <td>...</td>\n",
       "      <td>0.600</td>\n",
       "      <td>13</td>\n",
       "      <td>26</td>\n",
       "      <td>39</td>\n",
       "      <td>17</td>\n",
       "      <td>10</td>\n",
       "      <td>6</td>\n",
       "      <td>17</td>\n",
       "      <td>26</td>\n",
       "      <td>-10.0</td>\n",
       "    </tr>\n",
       "    <tr>\n",
       "      <th>7376</th>\n",
       "      <td>22013</td>\n",
       "      <td>1610612748</td>\n",
       "      <td>MIA</td>\n",
       "      <td>Miami Heat</td>\n",
       "      <td>21300002</td>\n",
       "      <td>2013-10-29</td>\n",
       "      <td>MIA vs. CHI</td>\n",
       "      <td>W</td>\n",
       "      <td>239</td>\n",
       "      <td>107</td>\n",
       "      <td>...</td>\n",
       "      <td>0.759</td>\n",
       "      <td>5</td>\n",
       "      <td>35</td>\n",
       "      <td>40</td>\n",
       "      <td>26</td>\n",
       "      <td>10</td>\n",
       "      <td>7</td>\n",
       "      <td>18</td>\n",
       "      <td>21</td>\n",
       "      <td>12.0</td>\n",
       "    </tr>\n",
       "    <tr>\n",
       "      <th>7377</th>\n",
       "      <td>22013</td>\n",
       "      <td>1610612747</td>\n",
       "      <td>LAL</td>\n",
       "      <td>Los Angeles Lakers</td>\n",
       "      <td>21300003</td>\n",
       "      <td>2013-10-29</td>\n",
       "      <td>LAL vs. LAC</td>\n",
       "      <td>W</td>\n",
       "      <td>240</td>\n",
       "      <td>116</td>\n",
       "      <td>...</td>\n",
       "      <td>0.643</td>\n",
       "      <td>18</td>\n",
       "      <td>34</td>\n",
       "      <td>52</td>\n",
       "      <td>23</td>\n",
       "      <td>8</td>\n",
       "      <td>6</td>\n",
       "      <td>19</td>\n",
       "      <td>23</td>\n",
       "      <td>13.0</td>\n",
       "    </tr>\n",
       "    <tr>\n",
       "      <th>7378</th>\n",
       "      <td>22013</td>\n",
       "      <td>1610612741</td>\n",
       "      <td>CHI</td>\n",
       "      <td>Chicago Bulls</td>\n",
       "      <td>21300002</td>\n",
       "      <td>2013-10-29</td>\n",
       "      <td>CHI @ MIA</td>\n",
       "      <td>L</td>\n",
       "      <td>238</td>\n",
       "      <td>95</td>\n",
       "      <td>...</td>\n",
       "      <td>0.783</td>\n",
       "      <td>11</td>\n",
       "      <td>30</td>\n",
       "      <td>41</td>\n",
       "      <td>23</td>\n",
       "      <td>11</td>\n",
       "      <td>4</td>\n",
       "      <td>18</td>\n",
       "      <td>27</td>\n",
       "      <td>-12.0</td>\n",
       "    </tr>\n",
       "    <tr>\n",
       "      <th>7379</th>\n",
       "      <td>22013</td>\n",
       "      <td>1610612754</td>\n",
       "      <td>IND</td>\n",
       "      <td>Indiana Pacers</td>\n",
       "      <td>21300001</td>\n",
       "      <td>2013-10-29</td>\n",
       "      <td>IND vs. ORL</td>\n",
       "      <td>W</td>\n",
       "      <td>241</td>\n",
       "      <td>97</td>\n",
       "      <td>...</td>\n",
       "      <td>0.688</td>\n",
       "      <td>10</td>\n",
       "      <td>34</td>\n",
       "      <td>44</td>\n",
       "      <td>17</td>\n",
       "      <td>4</td>\n",
       "      <td>18</td>\n",
       "      <td>20</td>\n",
       "      <td>13</td>\n",
       "      <td>10.0</td>\n",
       "    </tr>\n",
       "  </tbody>\n",
       "</table>\n",
       "<p>7380 rows × 28 columns</p>\n",
       "</div>"
      ],
      "text/plain": [
       "      SEASON_ID     TEAM_ID TEAM_ABBREVIATION               TEAM_NAME  \\\n",
       "0         22015  1610612750               MIN  Minnesota Timberwolves   \n",
       "1         22015  1610612749               MIL         Milwaukee Bucks   \n",
       "2         22015  1610612738               BOS          Boston Celtics   \n",
       "3         22015  1610612747               LAL      Los Angeles Lakers   \n",
       "4         22015  1610612739               CLE     Cleveland Cavaliers   \n",
       "...         ...         ...               ...                     ...   \n",
       "7375      22013  1610612753               ORL           Orlando Magic   \n",
       "7376      22013  1610612748               MIA              Miami Heat   \n",
       "7377      22013  1610612747               LAL      Los Angeles Lakers   \n",
       "7378      22013  1610612741               CHI           Chicago Bulls   \n",
       "7379      22013  1610612754               IND          Indiana Pacers   \n",
       "\n",
       "       GAME_ID   GAME_DATE      MATCHUP WL  MIN  PTS  ...  FT_PCT  OREB  DREB  \\\n",
       "0     21501226  2016-04-13  MIN vs. NOP  W  240  144  ...   0.826     5    38   \n",
       "1     21501225  2016-04-13  MIL vs. IND  L  240   92  ...   0.846     7    36   \n",
       "2     21501217  2016-04-13  BOS vs. MIA  W  240   98  ...   0.864    10    29   \n",
       "3     21501228  2016-04-13  LAL vs. UTA  W  239  101  ...   0.867     8    39   \n",
       "4     21501220  2016-04-13  CLE vs. DET  L  265  110  ...   0.733     8    35   \n",
       "...        ...         ...          ... ..  ...  ...  ...     ...   ...   ...   \n",
       "7375  21300001  2013-10-29    ORL @ IND  L  241   87  ...   0.600    13    26   \n",
       "7376  21300002  2013-10-29  MIA vs. CHI  W  239  107  ...   0.759     5    35   \n",
       "7377  21300003  2013-10-29  LAL vs. LAC  W  240  116  ...   0.643    18    34   \n",
       "7378  21300002  2013-10-29    CHI @ MIA  L  238   95  ...   0.783    11    30   \n",
       "7379  21300001  2013-10-29  IND vs. ORL  W  241   97  ...   0.688    10    34   \n",
       "\n",
       "      REB  AST  STL  BLK  TOV  PF  PLUS_MINUS  \n",
       "0      43   41   14    8   13  20        35.0  \n",
       "1      43   23    8    3   15  15        -5.0  \n",
       "2      39   20    7    3    7  20        10.0  \n",
       "3      47   19    6    3   13  17         5.0  \n",
       "4      43   21    4    7   10  23        -2.0  \n",
       "...   ...  ...  ...  ...  ...  ..         ...  \n",
       "7375   39   17   10    6   17  26       -10.0  \n",
       "7376   40   26   10    7   18  21        12.0  \n",
       "7377   52   23    8    6   19  23        13.0  \n",
       "7378   41   23   11    4   18  27       -12.0  \n",
       "7379   44   17    4   18   20  13        10.0  \n",
       "\n",
       "[7380 rows x 28 columns]"
      ]
     },
     "execution_count": 5,
     "metadata": {},
     "output_type": "execute_result"
    }
   ],
   "source": [
    "nba_data = pd.read_csv('03_Data_Exploration/Data/nba_games_2013_2015.csv', \n",
    "                       delimiter=';')\n",
    "\n",
    "nba_data"
   ]
  },
  {
   "cell_type": "markdown",
   "metadata": {},
   "source": [
    "--------------\n",
    "### Task 1\n",
    "Split the data into **3** separate dataframes for each NBA season!"
   ]
  },
  {
   "cell_type": "code",
   "execution_count": 14,
   "metadata": {},
   "outputs": [
    {
     "name": "stdout",
     "output_type": "stream",
     "text": [
      "(2460, 28)\n",
      "(2460, 28)\n",
      "(2460, 28)\n"
     ]
    }
   ],
   "source": [
    "nba_data['SEASON_ID'].value_counts()\n",
    "\n",
    "nba_2013 = nba_data[nba_data['SEASON_ID'] == 22013]\n",
    "nba_2014 = nba_data[nba_data['SEASON_ID'] == 22014]\n",
    "nba_2015 = nba_data[nba_data['SEASON_ID'] == 22015]\n",
    "\n",
    "print(nba_2013.shape)\n",
    "print(nba_2014.shape)\n",
    "print(nba_2015.shape)"
   ]
  },
  {
   "cell_type": "markdown",
   "metadata": {},
   "source": [
    "---------------\n",
    "### Task 2\n",
    "Test the hypothesis that the offensive productions stats of the Cleveland Cavaliers and Golden State Warriors (the teams that met in the finals that year) were from the same distribution in the 2015/2016 season.\n",
    "\n",
    "Offensive production refers to two variables: **PTS (Points)** and **FG_PCT (Field Goal Percentage)**. We will need to do two separate hypothesis tests, one for each variable."
   ]
  },
  {
   "cell_type": "code",
   "execution_count": 27,
   "metadata": {},
   "outputs": [],
   "source": [
    "CLE_2015_PTS = nba_2015[nba_2015['TEAM_NAME'] == 'Cleveland Cavaliers']['PTS']\n",
    "CLE_2015_FG_PCT = nba_2015[nba_2015['TEAM_NAME'] == 'Cleveland Cavaliers']['FG_PCT']\n",
    "\n",
    "CLE_2015_df = pd.DataFrame({\n",
    "    'Team' : 'Cleveland Cavailiers',\n",
    "    'Points': CLE_2015_PTS,\n",
    "    'Field Goal Percentage' : CLE_2015_FG_PCT\n",
    "})\n",
    "\n",
    "GSW_2015_PTS = nba_2015[nba_2015['TEAM_NAME'] == 'Golden State Warriors']['PTS']\n",
    "GSW_2015_FG_PCT = nba_2015[nba_2015['TEAM_NAME'] == 'Golden State Warriors']['FG_PCT']\n",
    "\n",
    "GSW_2015_df = pd.DataFrame({\n",
    "    'Team': 'Golden State Warriors',\n",
    "    'Points': GSW_2015_PTS,\n",
    "    'Field Goal Percentage': GSW_2015_FG_PCT\n",
    "})\n",
    "\n",
    "# Create Singular DataFrame\n",
    "\n",
    "CLE_GSW_2015_df = pd.concat([CLE_2015_df,GSW_2015_df])"
   ]
  },
  {
   "cell_type": "markdown",
   "metadata": {},
   "source": [
    "Hypothesis Test 1\n",
    "\n",
    "Two Sample T-Test\n",
    "**Points**\n",
    "\n",
    "- H0\n",
    "    - No significant difference between PTS for GSW and CLE\n",
    "- Ha\n",
    "    - Significant difference between PTS for GSW and CLE"
   ]
  },
  {
   "cell_type": "code",
   "execution_count": 30,
   "metadata": {},
   "outputs": [
    {
     "data": {
      "text/plain": [
       "Text(0.5, 1.0, 'Points Compariston 2015: CLE vs GSW')"
      ]
     },
     "execution_count": 30,
     "metadata": {},
     "output_type": "execute_result"
    },
    {
     "data": {
      "image/png": "[encoded data removed]",
      "text/plain": [
       "<Figure size 640x480 with 1 Axes>"
      ]
     },
     "metadata": {},
     "output_type": "display_data"
    }
   ],
   "source": [
    "Pts_Distribition = sns.barplot(data=CLE_GSW_2015_df, x = 'Team', y= 'Points')\n",
    "Pts_Distribition.set_title('Points Compariston 2015: CLE vs GSW')"
   ]
  },
  {
   "cell_type": "code",
   "execution_count": null,
   "metadata": {},
   "outputs": [
    {
     "data": {
      "text/plain": [
       "np.float64(0.8896286550937544)"
      ]
     },
     "execution_count": 35,
     "metadata": {},
     "output_type": "execute_result"
    }
   ],
   "source": [
    "# Levens Test - Test variance for PTS\n",
    "\n",
    "stat, p = stats.levene( CLE_2015_PTS, GSW_2015_PTS )\n",
    "\n",
    "p\n",
    "\n",
    "# Fail to reject Null Hypotheoss\n",
    "# Variances Are Equal"
   ]
  },
  {
   "cell_type": "code",
   "execution_count": 40,
   "metadata": {},
   "outputs": [
    {
     "data": {
      "text/plain": [
       "np.float64(1.4233420547764935e-08)"
      ]
     },
     "execution_count": 40,
     "metadata": {},
     "output_type": "execute_result"
    }
   ],
   "source": [
    "# Two Sample T-Test\n",
    "\n",
    "stat, p_pts = stats.ttest_ind( CLE_2015_PTS, GSW_2015_PTS , equal_var = True )\n",
    "\n",
    "p_pts\n",
    "\n",
    "# Reject Null Hypothesis\n",
    "# Accept Alternative Hypothesis, that statistcially significant difference between CLE and GSW Points (PTS) in 2015 ``"
   ]
  },
  {
   "cell_type": "code",
   "execution_count": 41,
   "metadata": {},
   "outputs": [
    {
     "data": {
      "text/plain": [
       "np.float64(0.4211294540400612)"
      ]
     },
     "execution_count": 41,
     "metadata": {},
     "output_type": "execute_result"
    }
   ],
   "source": [
    "# Levens Test - Test variance for FG_PCT\n",
    "\n",
    "stat, p = stats.levene( CLE_2015_FG_PCT, GSW_2015_FG_PCT )\n",
    "\n",
    "p\n",
    "# Fail to reject Null Hypotheoss\n",
    "# Variances Are Equal\n"
   ]
  },
  {
   "cell_type": "code",
   "execution_count": 44,
   "metadata": {},
   "outputs": [
    {
     "data": {
      "text/plain": [
       "np.float64(0.00206097581047554)"
      ]
     },
     "execution_count": 44,
     "metadata": {},
     "output_type": "execute_result"
    }
   ],
   "source": [
    "# Two Sample T-Test for FG_PCT\n",
    "\n",
    "stat, p_FG_PCT = stats.ttest_ind( CLE_2015_FG_PCT, GSW_2015_FG_PCT , equal_var = True )\n",
    "\n",
    "p_FG_PCT\n",
    "\n",
    "# Fail to Null Hypothesis\n",
    "# No significnat difference in FG_PCT between CLE and GSW in 2015"
   ]
  },
  {
   "cell_type": "markdown",
   "metadata": {},
   "source": [
    "We analyzed the offensive statistics of the Cleveland Cavaliers and Golden State Warriors during the 2015 NBA season using two-sample t-tests for two key metrics: Points (PTS) and Field Goal Percentage (FG_PCT).\n",
    "\n",
    "- Points Scored (PTS)\n",
    "    - ✅ Levene’s Test:\n",
    "    - p = 0.8896 → Fail to reject null → Equal variances assumed\n",
    "\n",
    "    - ✅ Two-Sample T-Test:\n",
    "    - p = 1.42e-08 → Reject null hypothesis\n",
    "\n",
    "Conclusion:\n",
    "There is a statistically significant difference in the average points scored per game between Cleveland Cavaliers and Golden State Warriors during the 2015 season.\n",
    "\n",
    "- Field Goal Percentage (FG_PCT)\n",
    "    - ✅ Levene’s Test:\n",
    "    - p = 0.4211 → Fail to reject null → Equal variances assumed\n",
    "\n",
    "    - ✅ Two-Sample T-Test:\n",
    "    - p = 0.1518 → Fail to reject null hypothesis\n",
    "\n",
    "Conclusion:\n",
    "There is no statistically significant difference in field goal percentage between the two teams during the 2015 season.\n",
    "\n"
   ]
  },
  {
   "cell_type": "markdown",
   "metadata": {},
   "source": [
    "-----------------\n",
    "### Task 3\n",
    "Test the hypothesis that the number of points (PTS) scored by Cleveland Cavaliers changed significantly after the head coach changed in the 2015/2016 season.\n",
    "\n",
    "- **Coach Blatt was fired on 24th of Jan, 2016**. \n",
    "\n",
    "Use the data from seasons 2014/2015 and 2015/2016 - those are years when Cleveland was coached by Blatt. \n",
    "\n",
    "**We have two possible solutions to try here:**\n",
    "- Take the same amount of games from before and after and try t-test.\n",
    "- Take all the games from before and after and look for the right test to compare two samples with different sizes. (You will need to go through the scipy documentation or google to figure out what kind of test is required.)"
   ]
  },
  {
   "cell_type": "code",
   "execution_count": 63,
   "metadata": {},
   "outputs": [
    {
     "data": {
      "text/plain": [
       "4       2016-04-13\n",
       "40      2016-04-11\n",
       "78      2016-04-09\n",
       "127     2016-04-06\n",
       "151     2016-04-05\n",
       "           ...    \n",
       "2336    2015-11-04\n",
       "2364    2015-11-02\n",
       "2399    2015-10-30\n",
       "2440    2015-10-28\n",
       "2456    2015-10-27\n",
       "Name: GAME_DATE, Length: 82, dtype: object"
      ]
     },
     "execution_count": 63,
     "metadata": {},
     "output_type": "execute_result"
    }
   ],
   "source": [
    "nba_2015[nba_2015['TEAM_ABBREVIATION']=='CLE']['GAME_DATE']"
   ]
  },
  {
   "cell_type": "code",
   "execution_count": 65,
   "metadata": {},
   "outputs": [],
   "source": [
    "nba_2015 = nba_2015.copy()\n",
    "nba_2015['GAME_DATE'] = pd.to_datetime(nba_2015['GAME_DATE'])"
   ]
  },
  {
   "cell_type": "code",
   "execution_count": 86,
   "metadata": {},
   "outputs": [
    {
     "data": {
      "text/plain": [
       "(40, 3)"
      ]
     },
     "execution_count": 86,
     "metadata": {},
     "output_type": "execute_result"
    }
   ],
   "source": [
    "CLE_After_Coach = nba_2015[\n",
    "    (nba_2015['TEAM_ABBREVIATION'] == 'CLE') & \n",
    "    (nba_2015['GAME_DATE'] > '2016-01-24')\n",
    "][['TEAM_ABBREVIATION', 'GAME_DATE', 'PTS']]\n",
    "\n",
    "\n",
    "CLE_After_Coach.shape\n",
    "\n",
    "                    \n",
    "# CLE_Coach[:-2]"
   ]
  },
  {
   "cell_type": "code",
   "execution_count": 88,
   "metadata": {},
   "outputs": [
    {
     "data": {
      "text/plain": [
       "(42, 3)"
      ]
     },
     "execution_count": 88,
     "metadata": {},
     "output_type": "execute_result"
    }
   ],
   "source": [
    "CLE_Before_Coach = nba_2015[\n",
    "    (nba_2015['TEAM_ABBREVIATION'] == 'CLE') & \n",
    "    (nba_2015['GAME_DATE'] <= '2016-01-24')\n",
    "][['TEAM_ABBREVIATION', 'GAME_DATE', 'PTS']]\n",
    "\n",
    "\n",
    "CLE_Before_Coach.shape"
   ]
  },
  {
   "cell_type": "code",
   "execution_count": 89,
   "metadata": {},
   "outputs": [
    {
     "data": {
      "text/plain": [
       "(40, 3)"
      ]
     },
     "execution_count": 89,
     "metadata": {},
     "output_type": "execute_result"
    }
   ],
   "source": [
    "CLE_Before_Coach = CLE_Before_Coach[:-2]\n",
    "\n",
    "CLE_Before_Coach.shape"
   ]
  },
  {
   "cell_type": "code",
   "execution_count": 93,
   "metadata": {},
   "outputs": [
    {
     "data": {
      "text/html": [
       "<div>\n",
       "<style scoped>\n",
       "    .dataframe tbody tr th:only-of-type {\n",
       "        vertical-align: middle;\n",
       "    }\n",
       "\n",
       "    .dataframe tbody tr th {\n",
       "        vertical-align: top;\n",
       "    }\n",
       "\n",
       "    .dataframe thead th {\n",
       "        text-align: right;\n",
       "    }\n",
       "</style>\n",
       "<table border=\"1\" class=\"dataframe\">\n",
       "  <thead>\n",
       "    <tr style=\"text-align: right;\">\n",
       "      <th></th>\n",
       "      <th>TEAM_ABBREVIATION</th>\n",
       "      <th>GAME_DATE</th>\n",
       "      <th>PTS</th>\n",
       "      <th>Post_Coaching_Change</th>\n",
       "    </tr>\n",
       "  </thead>\n",
       "  <tbody>\n",
       "    <tr>\n",
       "      <th>0</th>\n",
       "      <td>CLE</td>\n",
       "      <td>2016-01-23</td>\n",
       "      <td>83</td>\n",
       "      <td>False</td>\n",
       "    </tr>\n",
       "    <tr>\n",
       "      <th>1</th>\n",
       "      <td>CLE</td>\n",
       "      <td>2016-01-21</td>\n",
       "      <td>115</td>\n",
       "      <td>False</td>\n",
       "    </tr>\n",
       "    <tr>\n",
       "      <th>2</th>\n",
       "      <td>CLE</td>\n",
       "      <td>2016-01-20</td>\n",
       "      <td>91</td>\n",
       "      <td>False</td>\n",
       "    </tr>\n",
       "    <tr>\n",
       "      <th>3</th>\n",
       "      <td>CLE</td>\n",
       "      <td>2016-01-18</td>\n",
       "      <td>98</td>\n",
       "      <td>False</td>\n",
       "    </tr>\n",
       "    <tr>\n",
       "      <th>4</th>\n",
       "      <td>CLE</td>\n",
       "      <td>2016-01-15</td>\n",
       "      <td>91</td>\n",
       "      <td>False</td>\n",
       "    </tr>\n",
       "    <tr>\n",
       "      <th>...</th>\n",
       "      <td>...</td>\n",
       "      <td>...</td>\n",
       "      <td>...</td>\n",
       "      <td>...</td>\n",
       "    </tr>\n",
       "    <tr>\n",
       "      <th>75</th>\n",
       "      <td>CLE</td>\n",
       "      <td>2016-02-01</td>\n",
       "      <td>111</td>\n",
       "      <td>True</td>\n",
       "    </tr>\n",
       "    <tr>\n",
       "      <th>76</th>\n",
       "      <td>CLE</td>\n",
       "      <td>2016-01-30</td>\n",
       "      <td>117</td>\n",
       "      <td>True</td>\n",
       "    </tr>\n",
       "    <tr>\n",
       "      <th>77</th>\n",
       "      <td>CLE</td>\n",
       "      <td>2016-01-29</td>\n",
       "      <td>114</td>\n",
       "      <td>True</td>\n",
       "    </tr>\n",
       "    <tr>\n",
       "      <th>78</th>\n",
       "      <td>CLE</td>\n",
       "      <td>2016-01-27</td>\n",
       "      <td>115</td>\n",
       "      <td>True</td>\n",
       "    </tr>\n",
       "    <tr>\n",
       "      <th>79</th>\n",
       "      <td>CLE</td>\n",
       "      <td>2016-01-25</td>\n",
       "      <td>114</td>\n",
       "      <td>True</td>\n",
       "    </tr>\n",
       "  </tbody>\n",
       "</table>\n",
       "<p>80 rows × 4 columns</p>\n",
       "</div>"
      ],
      "text/plain": [
       "   TEAM_ABBREVIATION  GAME_DATE  PTS  Post_Coaching_Change\n",
       "0                CLE 2016-01-23   83                 False\n",
       "1                CLE 2016-01-21  115                 False\n",
       "2                CLE 2016-01-20   91                 False\n",
       "3                CLE 2016-01-18   98                 False\n",
       "4                CLE 2016-01-15   91                 False\n",
       "..               ...        ...  ...                   ...\n",
       "75               CLE 2016-02-01  111                  True\n",
       "76               CLE 2016-01-30  117                  True\n",
       "77               CLE 2016-01-29  114                  True\n",
       "78               CLE 2016-01-27  115                  True\n",
       "79               CLE 2016-01-25  114                  True\n",
       "\n",
       "[80 rows x 4 columns]"
      ]
     },
     "execution_count": 93,
     "metadata": {},
     "output_type": "execute_result"
    }
   ],
   "source": [
    "CLE_Before_Coach['Post_Coaching_Change'] = False\n",
    "CLE_After_Coach['Post_Coaching_Change'] = True\n",
    "\n",
    "CLE_Combined = pd.concat([CLE_Before_Coach, CLE_After_Coach], ignore_index=True)\n",
    "\n",
    "CLE_Combined"
   ]
  },
  {
   "cell_type": "code",
   "execution_count": 95,
   "metadata": {},
   "outputs": [
    {
     "data": {
      "text/plain": [
       "Text(0.5, 1.0, 'Points Compariston 2015 CLE: Before & After Coach Change')"
      ]
     },
     "execution_count": 95,
     "metadata": {},
     "output_type": "execute_result"
    },
    {
     "data": {
      "image/png": "[encoded data removed]",
      "text/plain": [
       "<Figure size 640x480 with 1 Axes>"
      ]
     },
     "metadata": {},
     "output_type": "display_data"
    }
   ],
   "source": [
    "# Coach Changing Barchart\n",
    "Coaching_Change = sns.barplot(data=CLE_Combined, x = 'Post_Coaching_Change', y= 'PTS')\n",
    "Coaching_Change.set_title('Points Compariston 2015 CLE: Before & After Coach Change')\n"
   ]
  },
  {
   "cell_type": "code",
   "execution_count": null,
   "metadata": {},
   "outputs": [
    {
     "data": {
      "text/plain": [
       "np.float64(0.0616285221387382)"
      ]
     },
     "execution_count": 97,
     "metadata": {},
     "output_type": "execute_result"
    }
   ],
   "source": [
    "# # Levens Test - Test variance for PTS\n",
    "\n",
    "# stat, p = stats.levene( CLE_Before_Coach['PTS'], CLE_After_Coach['PTS'] )\n",
    "\n",
    "# p\n",
    "\n",
    "# # Fail to reject Null Hypotheoss\n",
    "# # Variances Are Equal"
   ]
  },
  {
   "cell_type": "code",
   "execution_count": null,
   "metadata": {},
   "outputs": [
    {
     "data": {
      "text/plain": [
       "np.float64(0.005460789913479093)"
      ]
     },
     "execution_count": 102,
     "metadata": {},
     "output_type": "execute_result"
    }
   ],
   "source": [
    "# Paired T-Test\n",
    "\n",
    "stat, p_pts = stats.ttest_rel( CLE_Before_Coach['PTS'], CLE_After_Coach['PTS'] )\n",
    "\n",
    "p_pts\n",
    "\n",
    "# Reject Null Hypothesis\n",
    "# Accept Alternative Hypothesis, that statistcially significant difference between Points Scored After CLE Coach was fired"
   ]
  },
  {
   "cell_type": "code",
   "execution_count": null,
   "metadata": {},
   "outputs": [],
   "source": []
  },
  {
   "cell_type": "markdown",
   "metadata": {},
   "source": [
    "A Paired T-Test was conducted, due to the relational situation of 40 games played after Coach Blatt was fired, in relation to the 40 games prior to his departure. This sequential pattern and the below requirements meets the requirement for a Paired T-test\n",
    "\n",
    "The Paired T-Test produced a p-value of 0.00546, which is level than the Signifance level alpha of 0.05.\n",
    "\n",
    "We therefore reject the Null Hypothesis, accepting the alternative hypothesis that firing Coach Blatt was statsiticaly signifncant in the points scored by the Cleveland Cavliers in 2015\n",
    "\n",
    "\n",
    "| Requirement                     | Met?                                 |\n",
    "| ------------------------------- | ------------------------------------ |\n",
    "| Equal sample sizes              | ✅ Yes — 40 vs. 40                    |\n",
    "| Logical pairing between samples | ✅ Yes — sequential before/after      |\n",
    "| Dependent samples (same team)   | ✅ Yes — same team compared over time |\n"
   ]
  },
  {
   "cell_type": "markdown",
   "metadata": {},
   "source": [
    "----------------\n",
    "\n",
    "\n",
    "### Task 4\n",
    "Download [**the similar dataset**](https://drive.google.com/file/d/0Bz9_0VdXvv9bRHhuRTI1aXBQcTA/view?usp=sharing&resourcekey=0-jGIaWyk0bXyECNSzB3x38w) with scores from playoff games in 2016."
   ]
  },
  {
   "cell_type": "code",
   "execution_count": null,
   "metadata": {},
   "outputs": [],
   "source": []
  },
  {
   "cell_type": "markdown",
   "metadata": {},
   "source": [
    "------------\n",
    "### Task 5\n",
    "Test the hypothesis that **number of blocks (BLK)** are from the same distribution in both the NBA playoffs and in the NBA regular season for 2015/2016 seaon for the **Toronto Raptors**. \n",
    "\n",
    "- We will be working with two samples with different sizes again."
   ]
  },
  {
   "cell_type": "code",
   "execution_count": null,
   "metadata": {},
   "outputs": [],
   "source": []
  },
  {
   "cell_type": "code",
   "execution_count": null,
   "metadata": {},
   "outputs": [],
   "source": []
  },
  {
   "cell_type": "code",
   "execution_count": null,
   "metadata": {},
   "outputs": [],
   "source": []
  },
  {
   "cell_type": "markdown",
   "metadata": {},
   "source": [
    "\n",
    "-----------------\n",
    "### Task 6\n",
    "Test the hypothesis that the number of points (PTS) scored by Cleveland Cavaliers is equally distributed for all 3 seasons. \n",
    "\n",
    "- In this case, we need a hypothesis test that compares more than 2 distributions at the same. (You will need to go through the scipy documentation or google to figure out what kind of test is required.)"
   ]
  },
  {
   "cell_type": "code",
   "execution_count": null,
   "metadata": {},
   "outputs": [],
   "source": []
  },
  {
   "cell_type": "code",
   "execution_count": null,
   "metadata": {},
   "outputs": [],
   "source": []
  },
  {
   "cell_type": "code",
   "execution_count": null,
   "metadata": {},
   "outputs": [],
   "source": []
  },
  {
   "cell_type": "markdown",
   "metadata": {},
   "source": [
    "#### Follow Up\n",
    "**Between which seasons can we see the significant difference?**\n",
    "\n",
    "+ Unfortunatelly, this is not the output of an ANOVA test and further tests are needed to be run.\n",
    "+ Note: Lebron James came back to the Cleveland Caveliers prior to season 2014/2015. We can use this fact to interpret our results correctly."
   ]
  },
  {
   "cell_type": "code",
   "execution_count": null,
   "metadata": {},
   "outputs": [],
   "source": []
  },
  {
   "cell_type": "code",
   "execution_count": null,
   "metadata": {},
   "outputs": [],
   "source": []
  },
  {
   "cell_type": "code",
   "execution_count": null,
   "metadata": {},
   "outputs": [],
   "source": []
  }
 ],
 "metadata": {
  "kernelspec": {
   "display_name": "data_env312",
   "language": "python",
   "name": "python3"
  },
  "language_info": {
   "codemirror_mode": {
    "name": "ipython",
    "version": 3
   },
   "file_extension": ".py",
   "mimetype": "text/x-python",
   "name": "python",
   "nbconvert_exporter": "python",
   "pygments_lexer": "ipython3",
   "version": "3.12.2"
  }
 },
 "nbformat": 4,
 "nbformat_minor": 4
}
