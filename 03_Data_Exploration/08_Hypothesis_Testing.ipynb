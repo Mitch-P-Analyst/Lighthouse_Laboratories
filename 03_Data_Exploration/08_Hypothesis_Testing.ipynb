{
 "cells": [
  {
   "cell_type": "markdown",
   "id": "48ecc192",
   "metadata": {},
   "source": [
    "# Hypothesis Testing\n",
    "\n"
   ]
  },
  {
   "cell_type": "code",
   "execution_count": 1,
   "id": "f1f546a6",
   "metadata": {},
   "outputs": [],
   "source": [
    "# import numpy & pandas\n",
    "import numpy as np\n",
    "import pandas as pd\n",
    "\n",
    "# set a random seed to replicate results\n",
    "np.random.seed(42)"
   ]
  },
  {
   "cell_type": "code",
   "execution_count": 2,
   "id": "242abecf",
   "metadata": {},
   "outputs": [],
   "source": [
    "# Simulated Data\n",
    "\n",
    "# sales history in days\n",
    "history = 365\n",
    "\n",
    "# generate one-year sales for store A\n",
    "mean_A = 20\n",
    "std_A = 5\n",
    "shop_A_sales = np.random.normal(mean_A, std_A, history)\n",
    "\n",
    "# generate one-year sales for store B\n",
    "mean_B = 19.5\n",
    "std_B = 5\n",
    "shop_B_sales = np.random.normal(mean_B, std_B, history)"
   ]
  },
  {
   "cell_type": "markdown",
   "id": "0a88617a",
   "metadata": {},
   "source": [
    "We will be testing the following hypothesis:\n",
    "\n",
    "- H0 \n",
    "    - The mean of sales of shop A equals the mean of sales of shop B \n",
    "        - (i.e. the difference between the sales is equal to zero) \n",
    "    \n",
    "- HA \n",
    "    - The means are not equal\n",
    "\n",
    "Set the significance level alpha (the probability of rejecting the null hypothesis when it is true) to 0.05."
   ]
  },
  {
   "cell_type": "code",
   "execution_count": 4,
   "id": "895e3aff",
   "metadata": {},
   "outputs": [
    {
     "name": "stdout",
     "output_type": "stream",
     "text": [
      "20.04973201106029\n",
      "19.309929401404304\n",
      "0.7398026096559853\n"
     ]
    }
   ],
   "source": [
    "# set the significance level\n",
    "alpha = 0.05\n",
    "\n",
    "# print the store A mean\n",
    "print(shop_A_sales.mean())\n",
    "\n",
    "# print the store B mean\n",
    "print(shop_B_sales.mean())\n",
    "\n",
    "# the difference in the means\n",
    "observed_means_diff = shop_A_sales.mean() - shop_B_sales.mean()\n",
    "print(observed_means_diff)"
   ]
  },
  {
   "cell_type": "markdown",
   "id": "eaa301fa",
   "metadata": {},
   "source": [
    "Because the mean of sales in store A is not so far from the mean of sales in store B, and their standard deviations are equal, it is tough to decide if the sales are equal.\n",
    "\n",
    "Let's simulate what it would look like if both stores' sales were identically distributed. We can do that by combining sales data from both stores."
   ]
  },
  {
   "cell_type": "code",
   "execution_count": 7,
   "id": "af1c2d22",
   "metadata": {},
   "outputs": [],
   "source": [
    "both_sales = np.concatenate((shop_A_sales, shop_B_sales))\n",
    "\n",
    "# perform permutation on both_sales and re-create the sales with this permutation data.\n",
    "    # A permutation is a random reordering of the entries in an array."
   ]
  },
  {
   "cell_type": "code",
   "execution_count": 8,
   "id": "eb7bc393",
   "metadata": {},
   "outputs": [],
   "source": [
    "# permutation\n",
    "sales_perm = np.random.permutation(both_sales)\n",
    "\n",
    "# permutation replicates \n",
    "perm_shop_A_sales = sales_perm[:len(shop_A_sales)]\n",
    "perm_shop_B_sales = sales_perm[len(shop_A_sales):]"
   ]
  },
  {
   "cell_type": "code",
   "execution_count": 9,
   "id": "fe37d5d5",
   "metadata": {},
   "outputs": [
    {
     "name": "stdout",
     "output_type": "stream",
     "text": [
      "0.2109878915432759\n"
     ]
    }
   ],
   "source": [
    "print(perm_shop_A_sales.mean() - perm_shop_B_sales.mean())"
   ]
  },
  {
   "cell_type": "markdown",
   "id": "664e4fea",
   "metadata": {},
   "source": [
    "We can see that there is a difference between the permutation replicates mean and the original sales mean. \n",
    "\n",
    "But this was only one permutation. Let's try 1,000 different permutations and store the differences of the permutation replicates means in a list."
   ]
  },
  {
   "cell_type": "code",
   "execution_count": 10,
   "id": "a880fb9a",
   "metadata": {},
   "outputs": [],
   "source": [
    "# create an empty list to store the permutation replicates means\n",
    "perm_repl_means = []\n",
    "\n",
    "for _ in range(1000):\n",
    "    # permutation \n",
    "    sales_perm = np.random.permutation(both_sales)\n",
    "\n",
    "    # permutation replicates \n",
    "    perm_shop_A_sales = sales_perm[:len(shop_A_sales)]\n",
    "    perm_shop_B_sales = sales_perm[len(shop_A_sales):]\n",
    "\n",
    "    # permutation replicates mean\n",
    "    perm_repl_mean = perm_shop_A_sales.mean() - perm_shop_B_sales.mean()\n",
    "\n",
    "    # append perm_repl_mean to list\n",
    "    perm_repl_means.append(perm_repl_mean)"
   ]
  },
  {
   "cell_type": "markdown",
   "id": "4bbe7beb",
   "metadata": {},
   "source": [
    "Compute the p-value\n",
    "\n",
    "The p-value is the probability of observing a test statistic as extreme or more extreme than the one you've observed, given that the null hypothesis is true."
   ]
  },
  {
   "cell_type": "code",
   "execution_count": 11,
   "id": "f8332d70",
   "metadata": {},
   "outputs": [
    {
     "name": "stdout",
     "output_type": "stream",
     "text": [
      "p-value = 0.043\n"
     ]
    }
   ],
   "source": [
    "# compute the p-value\n",
    "p = np.sum(np.abs(perm_repl_means) >= observed_means_diff) / len(perm_repl_means)\n",
    "\n",
    "# print the result\n",
    "print('p-value =', p)"
   ]
  },
  {
   "cell_type": "code",
   "execution_count": 12,
   "id": "bac4833c",
   "metadata": {},
   "outputs": [
    {
     "name": "stdout",
     "output_type": "stream",
     "text": [
      "H0 is rejected.\n"
     ]
    }
   ],
   "source": [
    "# final decision\n",
    "if p < alpha:\n",
    "    print('H0 is rejected.')\n",
    "else:\n",
    "    print('H0 is not rejected.')"
   ]
  },
  {
   "cell_type": "code",
   "execution_count": null,
   "id": "ca056361",
   "metadata": {},
   "outputs": [],
   "source": []
  }
 ],
 "metadata": {
  "kernelspec": {
   "display_name": "data_env312",
   "language": "python",
   "name": "python3"
  },
  "language_info": {
   "codemirror_mode": {
    "name": "ipython",
    "version": 3
   },
   "file_extension": ".py",
   "mimetype": "text/x-python",
   "name": "python",
   "nbconvert_exporter": "python",
   "pygments_lexer": "ipython3",
   "version": "3.12.2"
  }
 },
 "nbformat": 4,
 "nbformat_minor": 5
}
