{
 "cells": [
  {
   "cell_type": "markdown",
   "metadata": {
    "id": "BgZfjOrkv_3g"
   },
   "source": [
    "## Lighthouse Labs\n",
    "### Deployment of ML Models\n",
    "\n",
    "Instructor: Alibek Kruglikov"
   ]
  },
  {
   "cell_type": "markdown",
   "metadata": {
    "id": "tiV05mVz5KNH"
   },
   "source": [
    "### How is Data Science related to the Web?"
   ]
  },
  {
   "cell_type": "markdown",
   "metadata": {
    "id": "vdzHfOxh5KNI"
   },
   "source": [
    "Web Pages are intended for Humans. However, there’s lots of valuable data embedded in web pages:\n",
    "* course listings\n",
    "* bank records\n",
    "* blogs"
   ]
  },
  {
   "cell_type": "markdown",
   "metadata": {
    "id": "2Vg9e_MB5KNI"
   },
   "source": [
    "### What if we wanted to collect this data for analysis?"
   ]
  },
  {
   "cell_type": "markdown",
   "metadata": {
    "id": "TeQQPiWq5KNI"
   },
   "source": [
    "We would need a program that acts like a web browser but collects web document data rather than displaying it.\n",
    "\n",
    "This is called `web scraping`. Popular methods include Scrapy, a free and open-source web-crawling framework written in Python."
   ]
  },
  {
   "cell_type": "markdown",
   "metadata": {
    "id": "YHLmV5Um5KNJ"
   },
   "source": [
    "A Web Scraper...\n",
    "* acts like a web browser (i.e., sends HTTP GET requests to web server)\n",
    "* at the time it allows your to process the data that comes back.\n",
    "\n",
    "Some other useful libraries useful when scraping if you are interested:\n",
    "\n",
    "Beautiful Soup\n",
    "* python library that can parse HTML (Super useful)"
   ]
  },
  {
   "cell_type": "markdown",
   "metadata": {
    "id": "0WDhxqgm5KNJ"
   },
   "source": [
    "### Disadvantages of Web Scraping\n",
    "\n",
    "- Scraping processes are hard to understand.\n",
    "\n",
    "- Extracted data needs extensive cleaning (This is where we use `Beautiful Soup`).\n",
    "\n",
    "- In certain cases, this might take a long time and a lot of energy to complete (show why)\n",
    "\n",
    "- New data extraction applications a lot of time in the beginning.\n",
    "\n",
    "- Web scrapping services are slower than API calls.\n",
    "\n",
    "- If the developer of a website decides to introduce changes in the code, the scrapping service might stop working."
   ]
  },
  {
   "cell_type": "code",
   "execution_count": null,
   "metadata": {
    "id": "xQvppd0W5KNJ"
   },
   "outputs": [],
   "source": [
    "import requests\n",
    "from bs4 import BeautifulSoup"
   ]
  },
  {
   "cell_type": "code",
   "execution_count": null,
   "metadata": {
    "id": "7MqzjY8L5KNK"
   },
   "outputs": [],
   "source": [
    "URL = \"https://en.wikipedia.org/wiki/List_of_current_heads_of_state_and_government\""
   ]
  },
  {
   "cell_type": "code",
   "execution_count": null,
   "metadata": {
    "id": "xIPAZ98S5KNL"
   },
   "outputs": [],
   "source": [
    "res = requests.get(URL).text\n",
    "print(res)"
   ]
  },
  {
   "cell_type": "code",
   "execution_count": null,
   "metadata": {
    "id": "QfMT4PZZ5KNN"
   },
   "outputs": [],
   "source": [
    "soup = BeautifulSoup(res)"
   ]
  },
  {
   "cell_type": "code",
   "execution_count": null,
   "metadata": {
    "id": "1hPfbNBs5KNO",
    "outputId": "a4c73aa3-6f77-4e01-bb63-4e19c047a6f7"
   },
   "outputs": [],
   "source": [
    "for table_rows in soup.find('table', class_='wikitable').find_all('tr')[1:]:\n",
    "    data = table_rows.find_all(['th','td'])\n",
    "    try:\n",
    "        country = data[0].a.text\n",
    "        title = data[1].a.text\n",
    "        try:\n",
    "            name = data[1].a.find_next_sibling().text\n",
    "        except:\n",
    "            pass\n",
    "    except IndexError:\n",
    "        pass\n",
    "\n",
    "    print(country, title, name, sep=' | ')"
   ]
  },
  {
   "cell_type": "markdown",
   "metadata": {
    "id": "VYTOUO_b5KNO"
   },
   "source": [
    "### What is an API?"
   ]
  },
  {
   "cell_type": "markdown",
   "metadata": {
    "id": "ITZRiuCv5KNO"
   },
   "source": [
    "**A**pplication  \n",
    "**P**rogramming  \n",
    "**I**nterface  \n",
    "  \n",
    "**RE**presentation  \n",
    "**S**tate  \n",
    "**T**ransfer"
   ]
  },
  {
   "cell_type": "markdown",
   "metadata": {
    "id": "xnpE6aZq5KNO"
   },
   "source": [
    "**J**ava**S**cript **O**bject **N**otation (json)\n",
    "\n",
    "\n",
    "Textual format for structured data  \n",
    "* [a,b,c] for arrays  \n",
    "* {‘x’: m, ‘y’: n, ‘z’: o} for objects"
   ]
  },
  {
   "cell_type": "markdown",
   "metadata": {
    "id": "CX0BGY0Y5KNP"
   },
   "source": [
    "JSON\n",
    "* textual description of python (javascript actually) objects\n",
    "* arrays and dictionaries\n",
    "\n",
    "```\n",
    "{\n",
    "'library': [\n",
    "           {'title': 'For Whom the Bell Tolls', 'author': 'Ernest Hemingway'},\n",
    "           {'title': 'Trump: The Art of the Deal', 'author': 'Good Question'}\n",
    "           ]\n",
    "}\n",
    "```"
   ]
  },
  {
   "cell_type": "markdown",
   "metadata": {
    "id": "ImHrwdN95KNP"
   },
   "source": [
    "### The Anatomy Of A Request\n",
    "\n",
    "It’s important to know that a request is made up of four things:\n",
    "\n",
    "1. The endpoint (the URL)\n",
    "\n",
    "2. The method (verb: GET, PUT, POST, etc.)\n",
    "\n",
    "3. The headers (parameters)\n",
    "\n",
    "4. The data (or body)"
   ]
  },
  {
   "cell_type": "markdown",
   "metadata": {
    "id": "qscyf6q85KNP"
   },
   "source": [
    "1. The endpoint (or route) is the url you request for\n",
    "\n",
    "root-endpoint/?\n",
    "\n",
    "https://api.github.com\n",
    "\n",
    "2. The Method is the type of request you send to the server. You can choose from these types below:\n",
    "\n",
    "a. GET - Used to get resource from server\n",
    "\n",
    "b. POST - Used to create new resource on server\n",
    "\n",
    "c. PUT/PATCH - update resource on server\n",
    "\n",
    "d. DELETE - delete a resource on the server"
   ]
  },
  {
   "cell_type": "markdown",
   "metadata": {
    "id": "9vandDwj5KNP"
   },
   "source": [
    "## Flask\n",
    "\n",
    "Flask is a micro web framework written in Python. It can create a REST API that allows you to send data, and receive a predictions as a response."
   ]
  },
  {
   "cell_type": "markdown",
   "metadata": {
    "id": "2W8shKnO5KNP"
   },
   "source": [
    "Now that you are going to be a Data Scientist, you cannot always rely on having your models in Jupyter Notebook.\n",
    "\n",
    "Jupyter Notebooks are awesome for EDA. However, when you need an application that has a predictive model, you will need to deploy your model elsewhere.\n",
    "\n",
    "You can try to get the best model possible in a notebook or a script. Once you have decided that you have the best model, you must hand it in a way that the client can run it easily in their infrastructure.\n",
    "\n",
    "For this purpose you need a tool that can fit in their  infrastructure, preferably in a language that you’re familiar with. This is where you can use Flask. Flask is a micro web framework written in Python. It can create a REST API that allows you to send data, and receive a prediction as a response."
   ]
  },
  {
   "cell_type": "code",
   "execution_count": null,
   "metadata": {
    "id": "PB3JrgOFZsou"
   },
   "outputs": [],
   "source": [
    "import numpy as np\n",
    "import pandas as pd\n",
    "from sklearn.datasets import fetch_california_housing\n",
    "from sklearn.model_selection import train_test_split\n",
    "from sklearn.preprocessing import StandardScaler\n",
    "from sklearn.decomposition import PCA\n",
    "from sklearn.ensemble import AdaBoostRegressor\n",
    "from sklearn.pipeline import Pipeline"
   ]
  },
  {
   "cell_type": "code",
   "execution_count": null,
   "metadata": {
    "id": "oKl124QtgM5Q"
   },
   "outputs": [],
   "source": [
    "# Load and split data\n",
    "data = fetch_california_housing()\n",
    "X = data.data\n",
    "y = data.target\n",
    "\n",
    "X_train, X_test, y_train, y_test = train_test_split(X, y, test_size=0.2, random_state=93)"
   ]
  },
  {
   "cell_type": "code",
   "execution_count": null,
   "metadata": {
    "colab": {
     "base_uri": "https://localhost:8080/"
    },
    "id": "aB_I3aNbtON9",
    "outputId": "11bdb60d-9307-47a4-eaab-90a5ebfe6a54"
   },
   "outputs": [],
   "source": [
    "feature_names = data.feature_names\n",
    "feature_names"
   ]
  },
  {
   "cell_type": "code",
   "execution_count": null,
   "metadata": {
    "colab": {
     "base_uri": "https://localhost:8080/",
     "height": 159
    },
    "id": "ADhoRrJKgRV1",
    "outputId": "8e08cc32-95f7-44a5-b526-fd3c94fc60df"
   },
   "outputs": [],
   "source": [
    "# Create and fit a pipeline\n",
    "pipeline = Pipeline([\n",
    "    ('scaler', StandardScaler()),\n",
    "    ('pca', PCA(n_components=4)),\n",
    "    ('model', AdaBoostRegressor(random_state=93))\n",
    "])\n",
    "\n",
    "pipeline.fit(X_train, y_train)"
   ]
  },
  {
   "cell_type": "code",
   "execution_count": null,
   "metadata": {
    "colab": {
     "base_uri": "https://localhost:8080/"
    },
    "id": "dFtI2QysgYjg",
    "outputId": "3c4e6709-c0ca-4eb7-8a90-b7501891e0e0"
   },
   "outputs": [],
   "source": [
    "# Evaluate model (not going to be great, obviously)\n",
    "print(f'R-squared (train): {pipeline.score(X_train, y_train)}')\n",
    "print(f'R-squared (test): {pipeline.score(X_test, y_test)}')"
   ]
  },
  {
   "cell_type": "code",
   "execution_count": null,
   "metadata": {
    "colab": {
     "base_uri": "https://localhost:8080/",
     "height": 300
    },
    "id": "BXcvZOXrt7RX",
    "outputId": "75aefb98-31d8-45d8-ffad-b1db130bf382"
   },
   "outputs": [],
   "source": [
    "pd.DataFrame(X, columns=feature_names).describe()"
   ]
  },
  {
   "cell_type": "code",
   "execution_count": null,
   "metadata": {},
   "outputs": [],
   "source": [
    "houses_to_predict = pd.DataFrame(\n",
    "    {\n",
    "        'MedInc': [1.5, 3.87, 5.5, 8.0, 15.0],\n",
    "        'HouseAge': [1.0, 18.0, 29.0, 40.0, 52.0],\n",
    "        'AveRooms': [2.0, 4.5, 5.4, 7.0, 12.0],\n",
    "        'AveBedrms': [0.5, 1.0, 1.1, 1.5, 2.5],\n",
    "        'Population': [100, 800, 1425, 2500, 10000],\n",
    "        'AveOccup': [1.0, 2.5, 3.0, 4.0, 10.0],\n",
    "        'Latitude': [32.6, 34.0, 35.6, 37.5, 41.9],\n",
    "        'Longitude': [-124.3, -121.5, -119.6, -118.0, -114.5]\n",
    "    })"
   ]
  },
  {
   "cell_type": "code",
   "execution_count": null,
   "metadata": {},
   "outputs": [],
   "source": [
    "houses_to_predict"
   ]
  },
  {
   "cell_type": "code",
   "execution_count": null,
   "metadata": {},
   "outputs": [],
   "source": [
    "pipeline.fit(X, y)"
   ]
  },
  {
   "cell_type": "code",
   "execution_count": null,
   "metadata": {
    "colab": {
     "base_uri": "https://localhost:8080/"
    },
    "id": "9Uc3VGSlt7Oy",
    "outputId": "f79a6f2b-a882-48b5-c79a-08d999675963"
   },
   "outputs": [],
   "source": [
    "pipeline.predict(houses_to_predict.values)"
   ]
  },
  {
   "cell_type": "code",
   "execution_count": null,
   "metadata": {
    "id": "pqhHjphWv_3q"
   },
   "outputs": [],
   "source": [
    "# saving the model\n",
    "import pickle\n",
    "\n",
    "pickle.dump(pipeline, open('pipeline.pkl', 'wb'))"
   ]
  },
  {
   "cell_type": "code",
   "execution_count": null,
   "metadata": {
    "id": "AH-7ntJiUKqU",
    "outputId": "549f29c1-cde9-49e7-a0e7-b5fbecd2808f"
   },
   "outputs": [],
   "source": [
    "import requests\n",
    "\n",
    "json_data = houses_to_predict.to_dict()\n",
    "\n",
    "# post request with null values\n",
    "r = requests.post(url='http://127.0.0.1:5000/predict', json=json_data)\n",
    "r.json()['prediction']"
   ]
  },
  {
   "cell_type": "markdown",
   "metadata": {
    "id": "QU8APkFX5KNQ"
   },
   "source": [
    "### Advantages of Flask\n",
    "- Easy to understand development: Beginner friendly.\n",
    "- It is very flexible and easy: Comes with a template engine too!\n",
    "- Testing: Unit testing is possible."
   ]
  },
  {
   "cell_type": "markdown",
   "metadata": {
    "id": "TF65qN4l5KNQ"
   },
   "source": [
    "### Disadvantages of Flask\n",
    "- Since it is too easy, it allows to use low-quality code creating a \"bad web application\".\n",
    "- Scalability: It can handle every request one at a time. For multiple requests, it will be slow.\n",
    "- Modules: Using more modules is seen as a third party involvement which could be a major breach in security and expense.\n",
    "- Community support is limited - more support for frameworks such as Django (streamlit is another)"
   ]
  },
  {
   "cell_type": "markdown",
   "metadata": {},
   "source": [
    "## Streamlit\n",
    "\n",
    "[Streamlit](https://streamlit.io/) is an open-source Python library that makes it incredibly easy to create custom web apps.\n",
    "\n",
    "It allows data scientists to turn scripts into shareable web applications in just a few lines of code, without needing extensive web development knowledge.\n",
    "\n",
    "Think of it as a way to quickly prototype and deploy interactive dashboards or model inference interfaces directly from your Python scripts."
   ]
  },
  {
   "cell_type": "markdown",
   "metadata": {},
   "source": [
    "### How Streamlit Works\n",
    "Streamlit works by rerunning your script from top to bottom every time a user interacts with the app (e.g., changes a slider, clicks a button). It intelligently caches data and computations to optimize performance, ensuring a smooth user experience."
   ]
  },
  {
   "cell_type": "markdown",
   "metadata": {},
   "source": [
    "### Advantages of Streamlit\n",
    "- Speed of Development: Build interactive data apps with minimal code, often in hours instead of days.\n",
    "- Simplicity: Designed specifically for data scientists, it uses familiar Python syntax and concepts.\n",
    "- Interactivity: Easily add widgets like sliders, text inputs, checkboxes, and buttons to create dynamic applications.\n",
    "- Focus on Data: Allows you to focus on the data and model logic rather than intricate web development details.\n",
    "- Deployment: Streamlit apps can be easily deployed to various platforms, including Streamlit Cloud."
   ]
  },
  {
   "cell_type": "markdown",
   "metadata": {},
   "source": [
    "### Disadvantages of Streamlit\n",
    "- Limited Customization: While great for quick apps, it offers less control over the UI/UX compared to full-fledged web frameworks like Flask or Django.\n",
    "- Not for Complex Web Apps: Not designed for building multi-page, highly interactive, or complex web applications with intricate routing and user management.\n",
    "- Performance for Large Apps: For very large or computationally intensive applications, the \"rerun on every interaction\" model might become a bottleneck if not optimized carefully.\n",
    "- Community and Ecosystem: While growing rapidly, its ecosystem and community support are still smaller than more established web frameworks."
   ]
  },
  {
   "cell_type": "markdown",
   "metadata": {},
   "source": [
    "More advanced deployment can be done in the cloud (AWS, Azure, GCP)\n",
    "\n",
    "Cloud computing benefits:\n",
    "- Cost reduction\n",
    "- Quick Deployment\n",
    "- Flexibility\n",
    "- Scalability\n",
    "- Security\n",
    "- Backups"
   ]
  }
 ],
 "metadata": {
  "colab": {
   "provenance": []
  },
  "kernelspec": {
   "display_name": "Python 3",
   "language": "python",
   "name": "python3"
  },
  "language_info": {
   "codemirror_mode": {
    "name": "ipython",
    "version": 3
   },
   "file_extension": ".py",
   "mimetype": "text/x-python",
   "name": "python",
   "nbconvert_exporter": "python",
   "pygments_lexer": "ipython3",
   "version": "3.10.11"
  }
 },
 "nbformat": 4,
 "nbformat_minor": 0
}
