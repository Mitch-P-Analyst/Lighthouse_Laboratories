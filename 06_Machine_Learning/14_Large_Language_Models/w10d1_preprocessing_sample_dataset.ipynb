{
 "cells": [
  {
   "cell_type": "code",
   "execution_count": 25,
   "metadata": {},
   "outputs": [],
   "source": [
    "import string\n",
    "import pandas as pd"
   ]
  },
  {
   "cell_type": "markdown",
   "metadata": {},
   "source": [
    "## Removing punctuation\n",
    "\n",
    "Let's first review the available punctuation characters."
   ]
  },
  {
   "cell_type": "code",
   "execution_count": 26,
   "metadata": {},
   "outputs": [
    {
     "name": "stdout",
     "output_type": "stream",
     "text": [
      "!\"#$%&'()*+,-./:;<=>?@[\\]^_`{|}~\n"
     ]
    }
   ],
   "source": [
    "print(string.punctuation)"
   ]
  },
  {
   "cell_type": "markdown",
   "metadata": {},
   "source": [
    "Now, let's create a function to remove punctuation."
   ]
  },
  {
   "cell_type": "code",
   "execution_count": 27,
   "metadata": {},
   "outputs": [],
   "source": [
    "def remove_punctuation(text):\n",
    "    text = \"\".join([char for char in text if char not in string.punctuation])\n",
    "\n",
    "    return text"
   ]
  },
  {
   "cell_type": "markdown",
   "metadata": {},
   "source": [
    "Let's try this function out on a single piece of text. First, we'll import the CSV file provided and explore it briefly."
   ]
  },
  {
   "cell_type": "code",
   "execution_count": 28,
   "metadata": {},
   "outputs": [
    {
     "data": {
      "text/html": [
       "<div>\n",
       "<style scoped>\n",
       "    .dataframe tbody tr th:only-of-type {\n",
       "        vertical-align: middle;\n",
       "    }\n",
       "\n",
       "    .dataframe tbody tr th {\n",
       "        vertical-align: top;\n",
       "    }\n",
       "\n",
       "    .dataframe thead th {\n",
       "        text-align: right;\n",
       "    }\n",
       "</style>\n",
       "<table border=\"1\" class=\"dataframe\">\n",
       "  <thead>\n",
       "    <tr style=\"text-align: right;\">\n",
       "      <th></th>\n",
       "      <th>label</th>\n",
       "      <th>review</th>\n",
       "    </tr>\n",
       "  </thead>\n",
       "  <tbody>\n",
       "    <tr>\n",
       "      <th>0</th>\n",
       "      <td>negative</td>\n",
       "      <td>In the ten years since Wildside aired, nothing...</td>\n",
       "    </tr>\n",
       "    <tr>\n",
       "      <th>1</th>\n",
       "      <td>positive</td>\n",
       "      <td>This is a better-than-average entry in the Sai...</td>\n",
       "    </tr>\n",
       "    <tr>\n",
       "      <th>2</th>\n",
       "      <td>negative</td>\n",
       "      <td>\"The Mayor Of Hell\" has the feel of an early D...</td>\n",
       "    </tr>\n",
       "    <tr>\n",
       "      <th>3</th>\n",
       "      <td>positive</td>\n",
       "      <td>This is a really great short from Hal Roach. T...</td>\n",
       "    </tr>\n",
       "    <tr>\n",
       "      <th>4</th>\n",
       "      <td>positive</td>\n",
       "      <td>A rather charming depiction of European union ...</td>\n",
       "    </tr>\n",
       "  </tbody>\n",
       "</table>\n",
       "</div>"
      ],
      "text/plain": [
       "      label                                             review\n",
       "0  negative  In the ten years since Wildside aired, nothing...\n",
       "1  positive  This is a better-than-average entry in the Sai...\n",
       "2  negative  \"The Mayor Of Hell\" has the feel of an early D...\n",
       "3  positive  This is a really great short from Hal Roach. T...\n",
       "4  positive  A rather charming depiction of European union ..."
      ]
     },
     "execution_count": 28,
     "metadata": {},
     "output_type": "execute_result"
    }
   ],
   "source": [
    "df = pd.read_csv('data/imdb_movie_reviews.csv')\n",
    "df.head()"
   ]
  },
  {
   "cell_type": "code",
   "execution_count": 29,
   "metadata": {},
   "outputs": [
    {
     "data": {
      "text/plain": [
       "negative    25000\n",
       "positive    25000\n",
       "Name: label, dtype: int64"
      ]
     },
     "execution_count": 29,
     "metadata": {},
     "output_type": "execute_result"
    }
   ],
   "source": [
    "df['label'].value_counts()"
   ]
  },
  {
   "cell_type": "markdown",
   "metadata": {},
   "source": [
    "Grab a single review."
   ]
  },
  {
   "cell_type": "code",
   "execution_count": 30,
   "metadata": {},
   "outputs": [
    {
     "name": "stdout",
     "output_type": "stream",
     "text": [
      "In the ten years since Wildside aired, nothing has really come close to its quality in local production. This includes the two series of the enjoyable but overrated Underbelly, which have brought to life events in the recent criminal history of both Sydney and Melbourne. The miniseries Blue Murder (which also starred Tony Martin, but as someone on the other side of the law) may be the exception.<br /><br />Wildside is currently being repeated late at night on the ABC. Having not watched the show in quite a while, I'm still impressed by its uncompromising story lines and very human characters. The cast is excellent: Tony Martin as a detective haunted by the disappearance of his son, Rachael Blake (who later hooked up with Martin in real life) as a community worker struggling with alcoholism, and Alex Dimitriades as a young cop whose vice is gambling. Equally good support roles are provided by Aaron Pederson, Jessica Napier, Mary Coustas (yes, Effie herself), and a young Abbie Cornish.<br /><br />The ABC inexplicably released only the first three episodes on DVD a couple of years ago. The logic of this sort of marketing is beyond me, but I'm guessing it may have something to do with licensing disagreements with the original producers.<br /><br />A great series which has aged remarkably well. Here's hoping the ABC's DVD department gets its act together.<br /><br />(According to a moderator on an ABC message board, some sort of further DVD release is due in December 2009)\n"
     ]
    }
   ],
   "source": [
    "text = df['review'][0]\n",
    "print(text)"
   ]
  },
  {
   "cell_type": "markdown",
   "metadata": {},
   "source": [
    "Apply our function to remove punctuation."
   ]
  },
  {
   "cell_type": "code",
   "execution_count": 31,
   "metadata": {},
   "outputs": [
    {
     "name": "stdout",
     "output_type": "stream",
     "text": [
      "In the ten years since Wildside aired nothing has really come close to its quality in local production This includes the two series of the enjoyable but overrated Underbelly which have brought to life events in the recent criminal history of both Sydney and Melbourne The miniseries Blue Murder which also starred Tony Martin but as someone on the other side of the law may be the exceptionbr br Wildside is currently being repeated late at night on the ABC Having not watched the show in quite a while Im still impressed by its uncompromising story lines and very human characters The cast is excellent Tony Martin as a detective haunted by the disappearance of his son Rachael Blake who later hooked up with Martin in real life as a community worker struggling with alcoholism and Alex Dimitriades as a young cop whose vice is gambling Equally good support roles are provided by Aaron Pederson Jessica Napier Mary Coustas yes Effie herself and a young Abbie Cornishbr br The ABC inexplicably released only the first three episodes on DVD a couple of years ago The logic of this sort of marketing is beyond me but Im guessing it may have something to do with licensing disagreements with the original producersbr br A great series which has aged remarkably well Heres hoping the ABCs DVD department gets its act togetherbr br According to a moderator on an ABC message board some sort of further DVD release is due in December 2009\n"
     ]
    }
   ],
   "source": [
    "text_no_punct = remove_punctuation(text)\n",
    "print(text_no_punct)"
   ]
  },
  {
   "cell_type": "markdown",
   "metadata": {},
   "source": [
    "Now, let's apply this to each review in the dataframe."
   ]
  },
  {
   "cell_type": "code",
   "execution_count": 32,
   "metadata": {},
   "outputs": [],
   "source": [
    "df['review_no_punct'] = df['review'].apply(lambda x: remove_punctuation(x))"
   ]
  },
  {
   "cell_type": "code",
   "execution_count": 33,
   "metadata": {},
   "outputs": [
    {
     "data": {
      "text/html": [
       "<div>\n",
       "<style scoped>\n",
       "    .dataframe tbody tr th:only-of-type {\n",
       "        vertical-align: middle;\n",
       "    }\n",
       "\n",
       "    .dataframe tbody tr th {\n",
       "        vertical-align: top;\n",
       "    }\n",
       "\n",
       "    .dataframe thead th {\n",
       "        text-align: right;\n",
       "    }\n",
       "</style>\n",
       "<table border=\"1\" class=\"dataframe\">\n",
       "  <thead>\n",
       "    <tr style=\"text-align: right;\">\n",
       "      <th></th>\n",
       "      <th>label</th>\n",
       "      <th>review</th>\n",
       "      <th>review_no_punct</th>\n",
       "    </tr>\n",
       "  </thead>\n",
       "  <tbody>\n",
       "    <tr>\n",
       "      <th>0</th>\n",
       "      <td>negative</td>\n",
       "      <td>In the ten years since Wildside aired, nothing...</td>\n",
       "      <td>In the ten years since Wildside aired nothing ...</td>\n",
       "    </tr>\n",
       "    <tr>\n",
       "      <th>1</th>\n",
       "      <td>positive</td>\n",
       "      <td>This is a better-than-average entry in the Sai...</td>\n",
       "      <td>This is a betterthanaverage entry in the Saint...</td>\n",
       "    </tr>\n",
       "    <tr>\n",
       "      <th>2</th>\n",
       "      <td>negative</td>\n",
       "      <td>\"The Mayor Of Hell\" has the feel of an early D...</td>\n",
       "      <td>The Mayor Of Hell has the feel of an early Dea...</td>\n",
       "    </tr>\n",
       "    <tr>\n",
       "      <th>3</th>\n",
       "      <td>positive</td>\n",
       "      <td>This is a really great short from Hal Roach. T...</td>\n",
       "      <td>This is a really great short from Hal Roach Th...</td>\n",
       "    </tr>\n",
       "    <tr>\n",
       "      <th>4</th>\n",
       "      <td>positive</td>\n",
       "      <td>A rather charming depiction of European union ...</td>\n",
       "      <td>A rather charming depiction of European union ...</td>\n",
       "    </tr>\n",
       "  </tbody>\n",
       "</table>\n",
       "</div>"
      ],
      "text/plain": [
       "      label                                             review  \\\n",
       "0  negative  In the ten years since Wildside aired, nothing...   \n",
       "1  positive  This is a better-than-average entry in the Sai...   \n",
       "2  negative  \"The Mayor Of Hell\" has the feel of an early D...   \n",
       "3  positive  This is a really great short from Hal Roach. T...   \n",
       "4  positive  A rather charming depiction of European union ...   \n",
       "\n",
       "                                     review_no_punct  \n",
       "0  In the ten years since Wildside aired nothing ...  \n",
       "1  This is a betterthanaverage entry in the Saint...  \n",
       "2  The Mayor Of Hell has the feel of an early Dea...  \n",
       "3  This is a really great short from Hal Roach Th...  \n",
       "4  A rather charming depiction of European union ...  "
      ]
     },
     "execution_count": 33,
     "metadata": {},
     "output_type": "execute_result"
    }
   ],
   "source": [
    "df.head()"
   ]
  },
  {
   "cell_type": "markdown",
   "metadata": {},
   "source": [
    "## Tokenization"
   ]
  },
  {
   "cell_type": "markdown",
   "metadata": {},
   "source": [
    "Next, we'll set up a function to first make all the letters lowercase and then split each word into a separate string (giving us a list of strings). Note that the splitting happens based on spaces."
   ]
  },
  {
   "cell_type": "code",
   "execution_count": 39,
   "metadata": {},
   "outputs": [
    {
     "data": {
      "text/plain": [
       "['hello', 'my', 'name', 'is', 'brian']"
      ]
     },
     "execution_count": 39,
     "metadata": {},
     "output_type": "execute_result"
    }
   ],
   "source": [
    "text = \"Hello, my name is Brian!\"\n",
    "text = remove_punctuation(text)\n",
    "text = text.lower()\n",
    "text.split()"
   ]
  },
  {
   "cell_type": "code",
   "execution_count": 40,
   "metadata": {},
   "outputs": [],
   "source": [
    "def tokenize(text):\n",
    "    tokens = text.lower().split()\n",
    "\n",
    "    return tokens"
   ]
  },
  {
   "cell_type": "markdown",
   "metadata": {},
   "source": [
    "Let's run our text without punctuation throught the new tokenization function."
   ]
  },
  {
   "cell_type": "code",
   "execution_count": 41,
   "metadata": {},
   "outputs": [
    {
     "name": "stdout",
     "output_type": "stream",
     "text": [
      "['in', 'the', 'ten', 'years', 'since', 'wildside', 'aired', 'nothing', 'has', 'really', 'come', 'close', 'to', 'its', 'quality', 'in', 'local', 'production', 'this', 'includes', 'the', 'two', 'series', 'of', 'the', 'enjoyable', 'but', 'overrated', 'underbelly', 'which', 'have', 'brought', 'to', 'life', 'events', 'in', 'the', 'recent', 'criminal', 'history', 'of', 'both', 'sydney', 'and', 'melbourne', 'the', 'miniseries', 'blue', 'murder', 'which', 'also', 'starred', 'tony', 'martin', 'but', 'as', 'someone', 'on', 'the', 'other', 'side', 'of', 'the', 'law', 'may', 'be', 'the', 'exceptionbr', 'br', 'wildside', 'is', 'currently', 'being', 'repeated', 'late', 'at', 'night', 'on', 'the', 'abc', 'having', 'not', 'watched', 'the', 'show', 'in', 'quite', 'a', 'while', 'im', 'still', 'impressed', 'by', 'its', 'uncompromising', 'story', 'lines', 'and', 'very', 'human', 'characters', 'the', 'cast', 'is', 'excellent', 'tony', 'martin', 'as', 'a', 'detective', 'haunted', 'by', 'the', 'disappearance', 'of', 'his', 'son', 'rachael', 'blake', 'who', 'later', 'hooked', 'up', 'with', 'martin', 'in', 'real', 'life', 'as', 'a', 'community', 'worker', 'struggling', 'with', 'alcoholism', 'and', 'alex', 'dimitriades', 'as', 'a', 'young', 'cop', 'whose', 'vice', 'is', 'gambling', 'equally', 'good', 'support', 'roles', 'are', 'provided', 'by', 'aaron', 'pederson', 'jessica', 'napier', 'mary', 'coustas', 'yes', 'effie', 'herself', 'and', 'a', 'young', 'abbie', 'cornishbr', 'br', 'the', 'abc', 'inexplicably', 'released', 'only', 'the', 'first', 'three', 'episodes', 'on', 'dvd', 'a', 'couple', 'of', 'years', 'ago', 'the', 'logic', 'of', 'this', 'sort', 'of', 'marketing', 'is', 'beyond', 'me', 'but', 'im', 'guessing', 'it', 'may', 'have', 'something', 'to', 'do', 'with', 'licensing', 'disagreements', 'with', 'the', 'original', 'producersbr', 'br', 'a', 'great', 'series', 'which', 'has', 'aged', 'remarkably', 'well', 'heres', 'hoping', 'the', 'abcs', 'dvd', 'department', 'gets', 'its', 'act', 'togetherbr', 'br', 'according', 'to', 'a', 'moderator', 'on', 'an', 'abc', 'message', 'board', 'some', 'sort', 'of', 'further', 'dvd', 'release', 'is', 'due', 'in', 'december', '2009']\n"
     ]
    }
   ],
   "source": [
    "text_tokens = tokenize(text_no_punct)\n",
    "print(text_tokens)"
   ]
  },
  {
   "cell_type": "markdown",
   "metadata": {},
   "source": [
    "Now, let's apply that to each review (with punctuation removed)."
   ]
  },
  {
   "cell_type": "code",
   "execution_count": 42,
   "metadata": {},
   "outputs": [],
   "source": [
    "df['tokens'] = df['review_no_punct'].apply(lambda x: tokenize(x))"
   ]
  },
  {
   "cell_type": "code",
   "execution_count": 43,
   "metadata": {},
   "outputs": [
    {
     "data": {
      "text/html": [
       "<div>\n",
       "<style scoped>\n",
       "    .dataframe tbody tr th:only-of-type {\n",
       "        vertical-align: middle;\n",
       "    }\n",
       "\n",
       "    .dataframe tbody tr th {\n",
       "        vertical-align: top;\n",
       "    }\n",
       "\n",
       "    .dataframe thead th {\n",
       "        text-align: right;\n",
       "    }\n",
       "</style>\n",
       "<table border=\"1\" class=\"dataframe\">\n",
       "  <thead>\n",
       "    <tr style=\"text-align: right;\">\n",
       "      <th></th>\n",
       "      <th>label</th>\n",
       "      <th>review</th>\n",
       "      <th>review_no_punct</th>\n",
       "      <th>tokens</th>\n",
       "    </tr>\n",
       "  </thead>\n",
       "  <tbody>\n",
       "    <tr>\n",
       "      <th>0</th>\n",
       "      <td>negative</td>\n",
       "      <td>In the ten years since Wildside aired, nothing...</td>\n",
       "      <td>In the ten years since Wildside aired nothing ...</td>\n",
       "      <td>[in, the, ten, years, since, wildside, aired, ...</td>\n",
       "    </tr>\n",
       "    <tr>\n",
       "      <th>1</th>\n",
       "      <td>positive</td>\n",
       "      <td>This is a better-than-average entry in the Sai...</td>\n",
       "      <td>This is a betterthanaverage entry in the Saint...</td>\n",
       "      <td>[this, is, a, betterthanaverage, entry, in, th...</td>\n",
       "    </tr>\n",
       "    <tr>\n",
       "      <th>2</th>\n",
       "      <td>negative</td>\n",
       "      <td>\"The Mayor Of Hell\" has the feel of an early D...</td>\n",
       "      <td>The Mayor Of Hell has the feel of an early Dea...</td>\n",
       "      <td>[the, mayor, of, hell, has, the, feel, of, an,...</td>\n",
       "    </tr>\n",
       "    <tr>\n",
       "      <th>3</th>\n",
       "      <td>positive</td>\n",
       "      <td>This is a really great short from Hal Roach. T...</td>\n",
       "      <td>This is a really great short from Hal Roach Th...</td>\n",
       "      <td>[this, is, a, really, great, short, from, hal,...</td>\n",
       "    </tr>\n",
       "    <tr>\n",
       "      <th>4</th>\n",
       "      <td>positive</td>\n",
       "      <td>A rather charming depiction of European union ...</td>\n",
       "      <td>A rather charming depiction of European union ...</td>\n",
       "      <td>[a, rather, charming, depiction, of, european,...</td>\n",
       "    </tr>\n",
       "  </tbody>\n",
       "</table>\n",
       "</div>"
      ],
      "text/plain": [
       "      label                                             review  \\\n",
       "0  negative  In the ten years since Wildside aired, nothing...   \n",
       "1  positive  This is a better-than-average entry in the Sai...   \n",
       "2  negative  \"The Mayor Of Hell\" has the feel of an early D...   \n",
       "3  positive  This is a really great short from Hal Roach. T...   \n",
       "4  positive  A rather charming depiction of European union ...   \n",
       "\n",
       "                                     review_no_punct  \\\n",
       "0  In the ten years since Wildside aired nothing ...   \n",
       "1  This is a betterthanaverage entry in the Saint...   \n",
       "2  The Mayor Of Hell has the feel of an early Dea...   \n",
       "3  This is a really great short from Hal Roach Th...   \n",
       "4  A rather charming depiction of European union ...   \n",
       "\n",
       "                                              tokens  \n",
       "0  [in, the, ten, years, since, wildside, aired, ...  \n",
       "1  [this, is, a, betterthanaverage, entry, in, th...  \n",
       "2  [the, mayor, of, hell, has, the, feel, of, an,...  \n",
       "3  [this, is, a, really, great, short, from, hal,...  \n",
       "4  [a, rather, charming, depiction, of, european,...  "
      ]
     },
     "execution_count": 43,
     "metadata": {},
     "output_type": "execute_result"
    }
   ],
   "source": [
    "df.head()"
   ]
  },
  {
   "cell_type": "markdown",
   "metadata": {},
   "source": [
    "## Removing Stop Words"
   ]
  },
  {
   "cell_type": "markdown",
   "metadata": {},
   "source": [
    "First, import the stopwords corpus from NLTK."
   ]
  },
  {
   "cell_type": "code",
   "execution_count": 44,
   "metadata": {},
   "outputs": [],
   "source": [
    "from nltk.corpus import stopwords\n",
    "\n",
    "stop_words = stopwords.words('english')"
   ]
  },
  {
   "cell_type": "markdown",
   "metadata": {},
   "source": [
    "Make a function to remove stop words:"
   ]
  },
  {
   "cell_type": "code",
   "execution_count": 46,
   "metadata": {},
   "outputs": [],
   "source": [
    "def remove_stopwords(text):    \n",
    "    text = [word for word in text if word not in stop_words]\n",
    "\n",
    "    return text"
   ]
  },
  {
   "cell_type": "markdown",
   "metadata": {},
   "source": [
    "Try that on the text with no punctuation:"
   ]
  },
  {
   "cell_type": "code",
   "execution_count": 48,
   "metadata": {},
   "outputs": [
    {
     "name": "stdout",
     "output_type": "stream",
     "text": [
      "['in', 'the', 'ten', 'years', 'since', 'wildside', 'aired', 'nothing', 'has', 'really', 'come', 'close', 'to', 'its', 'quality', 'in', 'local', 'production', 'this', 'includes', 'the', 'two', 'series', 'of', 'the', 'enjoyable', 'but', 'overrated', 'underbelly', 'which', 'have', 'brought', 'to', 'life', 'events', 'in', 'the', 'recent', 'criminal', 'history', 'of', 'both', 'sydney', 'and', 'melbourne', 'the', 'miniseries', 'blue', 'murder', 'which', 'also', 'starred', 'tony', 'martin', 'but', 'as', 'someone', 'on', 'the', 'other', 'side', 'of', 'the', 'law', 'may', 'be', 'the', 'exceptionbr', 'br', 'wildside', 'is', 'currently', 'being', 'repeated', 'late', 'at', 'night', 'on', 'the', 'abc', 'having', 'not', 'watched', 'the', 'show', 'in', 'quite', 'a', 'while', 'im', 'still', 'impressed', 'by', 'its', 'uncompromising', 'story', 'lines', 'and', 'very', 'human', 'characters', 'the', 'cast', 'is', 'excellent', 'tony', 'martin', 'as', 'a', 'detective', 'haunted', 'by', 'the', 'disappearance', 'of', 'his', 'son', 'rachael', 'blake', 'who', 'later', 'hooked', 'up', 'with', 'martin', 'in', 'real', 'life', 'as', 'a', 'community', 'worker', 'struggling', 'with', 'alcoholism', 'and', 'alex', 'dimitriades', 'as', 'a', 'young', 'cop', 'whose', 'vice', 'is', 'gambling', 'equally', 'good', 'support', 'roles', 'are', 'provided', 'by', 'aaron', 'pederson', 'jessica', 'napier', 'mary', 'coustas', 'yes', 'effie', 'herself', 'and', 'a', 'young', 'abbie', 'cornishbr', 'br', 'the', 'abc', 'inexplicably', 'released', 'only', 'the', 'first', 'three', 'episodes', 'on', 'dvd', 'a', 'couple', 'of', 'years', 'ago', 'the', 'logic', 'of', 'this', 'sort', 'of', 'marketing', 'is', 'beyond', 'me', 'but', 'im', 'guessing', 'it', 'may', 'have', 'something', 'to', 'do', 'with', 'licensing', 'disagreements', 'with', 'the', 'original', 'producersbr', 'br', 'a', 'great', 'series', 'which', 'has', 'aged', 'remarkably', 'well', 'heres', 'hoping', 'the', 'abcs', 'dvd', 'department', 'gets', 'its', 'act', 'togetherbr', 'br', 'according', 'to', 'a', 'moderator', 'on', 'an', 'abc', 'message', 'board', 'some', 'sort', 'of', 'further', 'dvd', 'release', 'is', 'due', 'in', 'december', '2009']\n",
      "['ten', 'years', 'since', 'wildside', 'aired', 'nothing', 'really', 'come', 'close', 'quality', 'local', 'production', 'includes', 'two', 'series', 'enjoyable', 'overrated', 'underbelly', 'brought', 'life', 'events', 'recent', 'criminal', 'history', 'sydney', 'melbourne', 'miniseries', 'blue', 'murder', 'also', 'starred', 'tony', 'martin', 'someone', 'side', 'law', 'may', 'exceptionbr', 'br', 'wildside', 'currently', 'repeated', 'late', 'night', 'abc', 'watched', 'show', 'quite', 'im', 'still', 'impressed', 'uncompromising', 'story', 'lines', 'human', 'characters', 'cast', 'excellent', 'tony', 'martin', 'detective', 'haunted', 'disappearance', 'son', 'rachael', 'blake', 'later', 'hooked', 'martin', 'real', 'life', 'community', 'worker', 'struggling', 'alcoholism', 'alex', 'dimitriades', 'young', 'cop', 'whose', 'vice', 'gambling', 'equally', 'good', 'support', 'roles', 'provided', 'aaron', 'pederson', 'jessica', 'napier', 'mary', 'coustas', 'yes', 'effie', 'young', 'abbie', 'cornishbr', 'br', 'abc', 'inexplicably', 'released', 'first', 'three', 'episodes', 'dvd', 'couple', 'years', 'ago', 'logic', 'sort', 'marketing', 'beyond', 'im', 'guessing', 'may', 'something', 'licensing', 'disagreements', 'original', 'producersbr', 'br', 'great', 'series', 'aged', 'remarkably', 'well', 'heres', 'hoping', 'abcs', 'dvd', 'department', 'gets', 'act', 'togetherbr', 'br', 'according', 'moderator', 'abc', 'message', 'board', 'sort', 'dvd', 'release', 'due', 'december', '2009']\n"
     ]
    }
   ],
   "source": [
    "text_tokens_nostop = remove_stopwords(text_tokens)\n",
    "print(text_tokens)\n",
    "print(text_tokens_nostop)"
   ]
  },
  {
   "cell_type": "markdown",
   "metadata": {},
   "source": [
    "Now, let's apply that to each review (after tokenization with punctuation removed)."
   ]
  },
  {
   "cell_type": "code",
   "execution_count": 49,
   "metadata": {},
   "outputs": [],
   "source": [
    "df['tokens_nostop'] = df['tokens'].apply(lambda x: remove_stopwords(x))"
   ]
  },
  {
   "cell_type": "code",
   "execution_count": 50,
   "metadata": {},
   "outputs": [
    {
     "data": {
      "text/html": [
       "<div>\n",
       "<style scoped>\n",
       "    .dataframe tbody tr th:only-of-type {\n",
       "        vertical-align: middle;\n",
       "    }\n",
       "\n",
       "    .dataframe tbody tr th {\n",
       "        vertical-align: top;\n",
       "    }\n",
       "\n",
       "    .dataframe thead th {\n",
       "        text-align: right;\n",
       "    }\n",
       "</style>\n",
       "<table border=\"1\" class=\"dataframe\">\n",
       "  <thead>\n",
       "    <tr style=\"text-align: right;\">\n",
       "      <th></th>\n",
       "      <th>label</th>\n",
       "      <th>review</th>\n",
       "      <th>review_no_punct</th>\n",
       "      <th>tokens</th>\n",
       "      <th>tokens_nostop</th>\n",
       "    </tr>\n",
       "  </thead>\n",
       "  <tbody>\n",
       "    <tr>\n",
       "      <th>0</th>\n",
       "      <td>negative</td>\n",
       "      <td>In the ten years since Wildside aired, nothing...</td>\n",
       "      <td>In the ten years since Wildside aired nothing ...</td>\n",
       "      <td>[in, the, ten, years, since, wildside, aired, ...</td>\n",
       "      <td>[ten, years, since, wildside, aired, nothing, ...</td>\n",
       "    </tr>\n",
       "    <tr>\n",
       "      <th>1</th>\n",
       "      <td>positive</td>\n",
       "      <td>This is a better-than-average entry in the Sai...</td>\n",
       "      <td>This is a betterthanaverage entry in the Saint...</td>\n",
       "      <td>[this, is, a, betterthanaverage, entry, in, th...</td>\n",
       "      <td>[betterthanaverage, entry, saint, series, hold...</td>\n",
       "    </tr>\n",
       "    <tr>\n",
       "      <th>2</th>\n",
       "      <td>negative</td>\n",
       "      <td>\"The Mayor Of Hell\" has the feel of an early D...</td>\n",
       "      <td>The Mayor Of Hell has the feel of an early Dea...</td>\n",
       "      <td>[the, mayor, of, hell, has, the, feel, of, an,...</td>\n",
       "      <td>[mayor, hell, feel, early, dead, end, kids, fi...</td>\n",
       "    </tr>\n",
       "    <tr>\n",
       "      <th>3</th>\n",
       "      <td>positive</td>\n",
       "      <td>This is a really great short from Hal Roach. T...</td>\n",
       "      <td>This is a really great short from Hal Roach Th...</td>\n",
       "      <td>[this, is, a, really, great, short, from, hal,...</td>\n",
       "      <td>[really, great, short, hal, roach, two, main, ...</td>\n",
       "    </tr>\n",
       "    <tr>\n",
       "      <th>4</th>\n",
       "      <td>positive</td>\n",
       "      <td>A rather charming depiction of European union ...</td>\n",
       "      <td>A rather charming depiction of European union ...</td>\n",
       "      <td>[a, rather, charming, depiction, of, european,...</td>\n",
       "      <td>[rather, charming, depiction, european, union,...</td>\n",
       "    </tr>\n",
       "  </tbody>\n",
       "</table>\n",
       "</div>"
      ],
      "text/plain": [
       "      label                                             review  \\\n",
       "0  negative  In the ten years since Wildside aired, nothing...   \n",
       "1  positive  This is a better-than-average entry in the Sai...   \n",
       "2  negative  \"The Mayor Of Hell\" has the feel of an early D...   \n",
       "3  positive  This is a really great short from Hal Roach. T...   \n",
       "4  positive  A rather charming depiction of European union ...   \n",
       "\n",
       "                                     review_no_punct  \\\n",
       "0  In the ten years since Wildside aired nothing ...   \n",
       "1  This is a betterthanaverage entry in the Saint...   \n",
       "2  The Mayor Of Hell has the feel of an early Dea...   \n",
       "3  This is a really great short from Hal Roach Th...   \n",
       "4  A rather charming depiction of European union ...   \n",
       "\n",
       "                                              tokens  \\\n",
       "0  [in, the, ten, years, since, wildside, aired, ...   \n",
       "1  [this, is, a, betterthanaverage, entry, in, th...   \n",
       "2  [the, mayor, of, hell, has, the, feel, of, an,...   \n",
       "3  [this, is, a, really, great, short, from, hal,...   \n",
       "4  [a, rather, charming, depiction, of, european,...   \n",
       "\n",
       "                                       tokens_nostop  \n",
       "0  [ten, years, since, wildside, aired, nothing, ...  \n",
       "1  [betterthanaverage, entry, saint, series, hold...  \n",
       "2  [mayor, hell, feel, early, dead, end, kids, fi...  \n",
       "3  [really, great, short, hal, roach, two, main, ...  \n",
       "4  [rather, charming, depiction, european, union,...  "
      ]
     },
     "execution_count": 50,
     "metadata": {},
     "output_type": "execute_result"
    }
   ],
   "source": [
    "df.head()"
   ]
  }
 ],
 "metadata": {
  "kernelspec": {
   "display_name": "Python 3",
   "language": "python",
   "name": "python3"
  },
  "language_info": {
   "codemirror_mode": {
    "name": "ipython",
    "version": 3
   },
   "file_extension": ".py",
   "mimetype": "text/x-python",
   "name": "python",
   "nbconvert_exporter": "python",
   "pygments_lexer": "ipython3",
   "version": "3.10.7"
  }
 },
 "nbformat": 4,
 "nbformat_minor": 2
}
